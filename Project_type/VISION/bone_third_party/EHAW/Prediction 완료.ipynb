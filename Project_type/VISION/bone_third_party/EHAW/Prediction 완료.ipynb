{ 
  "nbformat": 4,
  "nbformat_minor": 0,
  "metadata": {
    "colab": {
      "name": "EHWA.ipynb의 사본의 사본",
      "provenance": [],
      "collapsed_sections": [],
      "machine_shape": "hm",
      "mount_file_id": "1Ytgz72IguNYnNKkR6piu7rnfb35HOTRj",
      "authorship_tag": "ABX9TyNPnMd0O423BGSjSUPgJeAi",
      "include_colab_link": true
    },
    "kernelspec": {
      "name": "python3",
      "display_name": "Python 3"
    },
    "language_info": {
      "name": "python"
    },
    "accelerator": "GPU"
  },
  "cells": [
    {
      "cell_type": "markdown",
      "metadata": {
        "id": "view-in-github",
        "colab_type": "text"
      },
      "source": [
        "<a href=\"https://colab.research.google.com/github/kikiru328/All_about_Study/blob/main/Prediction%20%EC%99%84%EB%A3%8C.ipynb\" target=\"_parent\"><img src=\"https://colab.research.google.com/assets/colab-badge.svg\" alt=\"Open In Colab\"/></a>"
      ]
    },
    {
      "cell_type": "code",
      "execution_count": 1,
      "metadata": {
        "id": "Ka2l-ggzEI6c"
      },
      "outputs": [],
      "source": [
        "import shutil\n",
        "shutil.unpack_archive('/content/drive/MyDrive/골연령예측사진20.zip','/content/Sample')\n",
        "shutil.unpack_archive('/content/drive/MyDrive/boneage_program.zip','/content/Bone')"
      ]
    },
    {
      "cell_type": "code",
      "source": [
        "shutil.copy('/content/drive/MyDrive/NEW_BONE.py','/content/NEW_BONE.py')\n",
        "# shutil.copy('/content/NEW_BONE.py','/content/drive/MyDrive/NEW_BONE.py')"
      ],
      "metadata": {
        "colab": {
          "base_uri": "https://localhost:8080/",
          "height": 36
        },
        "id": "ctyF5gN0Gso_",
        "outputId": "b7bf886e-ee40-488f-c541-4070d2e86180"
      },
      "execution_count": 2,
      "outputs": [
        {
          "output_type": "execute_result",
          "data": {
            "application/vnd.google.colaboratory.intrinsic+json": {
              "type": "string"
            },
            "text/plain": [
              "'/content/NEW_BONE.py'"
            ]
          },
          "metadata": {},
          "execution_count": 2
        }
      ]
    },
    {
      "cell_type": "code",
      "source": [
        "## NEW_BONE 안에 Preprocessing code 중 bone_path 삭제 확인"
      ],
      "metadata": {
        "id": "yZdmNnQqVRGa"
      },
      "execution_count": 3,
      "outputs": []
    },
    {
      "cell_type": "code",
      "source": [
        "import sys\n",
        "sys.path.append('/content/')\n",
        "import NEW_BONE as bone"
      ],
      "metadata": {
        "id": "GPuXMCGZHA03"
      },
      "execution_count": 4,
      "outputs": []
    },
    {
      "cell_type": "code",
      "source": [
        "path ='/content/Sample/남/10431539.bmp'"
      ],
      "metadata": {
        "id": "Ob3ShroiTC74"
      },
      "execution_count": 5,
      "outputs": []
    },
    {
      "cell_type": "code",
      "source": [
        "import os\n",
        "import pandas as pd\n",
        "import datetime as dt\n",
        "data = pd.read_excel('/content/Sample/골연령측정자료220307.xlsx')\n",
        "data = data.dropna()\n",
        "data['Cage'] = data['Cage'].round(1)\n",
        "data['Patient #'] = data['Patient #'].astype(int).astype(str)\n",
        "patient_id = os.path.basename(path)[:-4]\n",
        "display(data)\n",
        "index = data[data['Patient #'] == patient_id].index[0]\n",
        "# age = ((data['촬영일자']-data['생년월일'])/365)[1].days\n",
        "gender = data[(data['Patient #'] == patient_id)]['sex'][index]\n",
        "he = data[(data['Patient #'] == patient_id)]['촬영일키'][index]\n",
        "year = data[(data['Patient #'] == patient_id)]['Cage'][index]\n",
        "\n",
        "print(index)"
      ],
      "metadata": {
        "colab": {
          "base_uri": "https://localhost:8080/",
          "height": 695
        },
        "id": "USVdtjNFOV3o",
        "outputId": "06c2bfe3-9170-4ff0-f23e-9532610e54b5"
      },
      "execution_count": 7,
      "outputs": [
        {
          "output_type": "display_data",
          "data": {
            "text/html": [
              "\n",
              "  <div id=\"df-3a813a1d-e4ab-4b0d-979b-f69e4ce43320\">\n",
              "    <div class=\"colab-df-container\">\n",
              "      <div>\n",
              "<style scoped>\n",
              "    .dataframe tbody tr th:only-of-type {\n",
              "        vertical-align: middle;\n",
              "    }\n",
              "\n",
              "    .dataframe tbody tr th {\n",
              "        vertical-align: top;\n",
              "    }\n",
              "\n",
              "    .dataframe thead th {\n",
              "        text-align: right;\n",
              "    }\n",
              "</style>\n",
              "<table border=\"1\" class=\"dataframe\">\n",
              "  <thead>\n",
              "    <tr style=\"text-align: right;\">\n",
              "      <th></th>\n",
              "      <th>No</th>\n",
              "      <th>sex</th>\n",
              "      <th>생년월일</th>\n",
              "      <th>촬영일자</th>\n",
              "      <th>Cage</th>\n",
              "      <th>촬영일키</th>\n",
              "      <th>Patient #</th>\n",
              "    </tr>\n",
              "  </thead>\n",
              "  <tbody>\n",
              "    <tr>\n",
              "      <th>1</th>\n",
              "      <td>103.0</td>\n",
              "      <td>M</td>\n",
              "      <td>1992-09-07</td>\n",
              "      <td>2004-05-19</td>\n",
              "      <td>11.7</td>\n",
              "      <td>138.0</td>\n",
              "      <td>97028583</td>\n",
              "    </tr>\n",
              "    <tr>\n",
              "      <th>2</th>\n",
              "      <td>106.0</td>\n",
              "      <td>M</td>\n",
              "      <td>1992-09-08</td>\n",
              "      <td>2004-08-04</td>\n",
              "      <td>11.9</td>\n",
              "      <td>143.0</td>\n",
              "      <td>10073987</td>\n",
              "    </tr>\n",
              "    <tr>\n",
              "      <th>3</th>\n",
              "      <td>101.0</td>\n",
              "      <td>M</td>\n",
              "      <td>1992-08-06</td>\n",
              "      <td>2003-09-17</td>\n",
              "      <td>11.1</td>\n",
              "      <td>137.5</td>\n",
              "      <td>96248548</td>\n",
              "    </tr>\n",
              "    <tr>\n",
              "      <th>4</th>\n",
              "      <td>107.0</td>\n",
              "      <td>M</td>\n",
              "      <td>1991-10-01</td>\n",
              "      <td>2003-09-17</td>\n",
              "      <td>12.0</td>\n",
              "      <td>135.8</td>\n",
              "      <td>10431539</td>\n",
              "    </tr>\n",
              "    <tr>\n",
              "      <th>5</th>\n",
              "      <td>111.0</td>\n",
              "      <td>M</td>\n",
              "      <td>1990-03-16</td>\n",
              "      <td>2002-09-24</td>\n",
              "      <td>12.5</td>\n",
              "      <td>149.9</td>\n",
              "      <td>96579259</td>\n",
              "    </tr>\n",
              "    <tr>\n",
              "      <th>6</th>\n",
              "      <td>115.0</td>\n",
              "      <td>M</td>\n",
              "      <td>1990-10-04</td>\n",
              "      <td>2003-07-23</td>\n",
              "      <td>12.8</td>\n",
              "      <td>150.7</td>\n",
              "      <td>10181949</td>\n",
              "    </tr>\n",
              "    <tr>\n",
              "      <th>7</th>\n",
              "      <td>117.0</td>\n",
              "      <td>M</td>\n",
              "      <td>1991-09-12</td>\n",
              "      <td>2004-11-17</td>\n",
              "      <td>13.2</td>\n",
              "      <td>146.1</td>\n",
              "      <td>96178702</td>\n",
              "    </tr>\n",
              "    <tr>\n",
              "      <th>8</th>\n",
              "      <td>121.0</td>\n",
              "      <td>M</td>\n",
              "      <td>1990-06-07</td>\n",
              "      <td>2004-01-28</td>\n",
              "      <td>13.6</td>\n",
              "      <td>167.0</td>\n",
              "      <td>10406334</td>\n",
              "    </tr>\n",
              "    <tr>\n",
              "      <th>9</th>\n",
              "      <td>124.0</td>\n",
              "      <td>M</td>\n",
              "      <td>1992-10-27</td>\n",
              "      <td>2006-10-25</td>\n",
              "      <td>14.0</td>\n",
              "      <td>152.5</td>\n",
              "      <td>10353946</td>\n",
              "    </tr>\n",
              "    <tr>\n",
              "      <th>10</th>\n",
              "      <td>127.0</td>\n",
              "      <td>M</td>\n",
              "      <td>1992-01-03</td>\n",
              "      <td>2006-11-29</td>\n",
              "      <td>14.9</td>\n",
              "      <td>160.3</td>\n",
              "      <td>10580752</td>\n",
              "    </tr>\n",
              "    <tr>\n",
              "      <th>13</th>\n",
              "      <td>201.0</td>\n",
              "      <td>F</td>\n",
              "      <td>1993-11-14</td>\n",
              "      <td>2003-05-21</td>\n",
              "      <td>9.5</td>\n",
              "      <td>124.7</td>\n",
              "      <td>10152359</td>\n",
              "    </tr>\n",
              "    <tr>\n",
              "      <th>14</th>\n",
              "      <td>203.0</td>\n",
              "      <td>F</td>\n",
              "      <td>1994-10-11</td>\n",
              "      <td>2004-10-13</td>\n",
              "      <td>10.0</td>\n",
              "      <td>128.0</td>\n",
              "      <td>10499059</td>\n",
              "    </tr>\n",
              "    <tr>\n",
              "      <th>15</th>\n",
              "      <td>206.0</td>\n",
              "      <td>F</td>\n",
              "      <td>1993-12-18</td>\n",
              "      <td>2004-06-09</td>\n",
              "      <td>10.5</td>\n",
              "      <td>129.0</td>\n",
              "      <td>10449372</td>\n",
              "    </tr>\n",
              "    <tr>\n",
              "      <th>16</th>\n",
              "      <td>207.0</td>\n",
              "      <td>F</td>\n",
              "      <td>1991-11-29</td>\n",
              "      <td>2003-01-22</td>\n",
              "      <td>11.1</td>\n",
              "      <td>132.0</td>\n",
              "      <td>94383197</td>\n",
              "    </tr>\n",
              "    <tr>\n",
              "      <th>17</th>\n",
              "      <td>211.0</td>\n",
              "      <td>F</td>\n",
              "      <td>1993-02-26</td>\n",
              "      <td>2004-10-27</td>\n",
              "      <td>11.7</td>\n",
              "      <td>146.5</td>\n",
              "      <td>10267473</td>\n",
              "    </tr>\n",
              "    <tr>\n",
              "      <th>18</th>\n",
              "      <td>215.0</td>\n",
              "      <td>F</td>\n",
              "      <td>1994-09-07</td>\n",
              "      <td>2006-09-13</td>\n",
              "      <td>12.0</td>\n",
              "      <td>147.1</td>\n",
              "      <td>10628162</td>\n",
              "    </tr>\n",
              "    <tr>\n",
              "      <th>19</th>\n",
              "      <td>222.0</td>\n",
              "      <td>F</td>\n",
              "      <td>1990-08-03</td>\n",
              "      <td>2003-01-29</td>\n",
              "      <td>12.5</td>\n",
              "      <td>152.9</td>\n",
              "      <td>10391057</td>\n",
              "    </tr>\n",
              "    <tr>\n",
              "      <th>20</th>\n",
              "      <td>229.0</td>\n",
              "      <td>F</td>\n",
              "      <td>1991-01-13</td>\n",
              "      <td>2004-01-28</td>\n",
              "      <td>13.0</td>\n",
              "      <td>148.8</td>\n",
              "      <td>10453605</td>\n",
              "    </tr>\n",
              "    <tr>\n",
              "      <th>21</th>\n",
              "      <td>238.0</td>\n",
              "      <td>F</td>\n",
              "      <td>1991-04-26</td>\n",
              "      <td>2004-10-20</td>\n",
              "      <td>13.5</td>\n",
              "      <td>151.5</td>\n",
              "      <td>10500378</td>\n",
              "    </tr>\n",
              "    <tr>\n",
              "      <th>22</th>\n",
              "      <td>247.0</td>\n",
              "      <td>F</td>\n",
              "      <td>1990-08-05</td>\n",
              "      <td>2004-09-08</td>\n",
              "      <td>14.1</td>\n",
              "      <td>150.2</td>\n",
              "      <td>10492817</td>\n",
              "    </tr>\n",
              "  </tbody>\n",
              "</table>\n",
              "</div>\n",
              "      <button class=\"colab-df-convert\" onclick=\"convertToInteractive('df-3a813a1d-e4ab-4b0d-979b-f69e4ce43320')\"\n",
              "              title=\"Convert this dataframe to an interactive table.\"\n",
              "              style=\"display:none;\">\n",
              "        \n",
              "  <svg xmlns=\"http://www.w3.org/2000/svg\" height=\"24px\"viewBox=\"0 0 24 24\"\n",
              "       width=\"24px\">\n",
              "    <path d=\"M0 0h24v24H0V0z\" fill=\"none\"/>\n",
              "    <path d=\"M18.56 5.44l.94 2.06.94-2.06 2.06-.94-2.06-.94-.94-2.06-.94 2.06-2.06.94zm-11 1L8.5 8.5l.94-2.06 2.06-.94-2.06-.94L8.5 2.5l-.94 2.06-2.06.94zm10 10l.94 2.06.94-2.06 2.06-.94-2.06-.94-.94-2.06-.94 2.06-2.06.94z\"/><path d=\"M17.41 7.96l-1.37-1.37c-.4-.4-.92-.59-1.43-.59-.52 0-1.04.2-1.43.59L10.3 9.45l-7.72 7.72c-.78.78-.78 2.05 0 2.83L4 21.41c.39.39.9.59 1.41.59.51 0 1.02-.2 1.41-.59l7.78-7.78 2.81-2.81c.8-.78.8-2.07 0-2.86zM5.41 20L4 18.59l7.72-7.72 1.47 1.35L5.41 20z\"/>\n",
              "  </svg>\n",
              "      </button>\n",
              "      \n",
              "  <style>\n",
              "    .colab-df-container {\n",
              "      display:flex;\n",
              "      flex-wrap:wrap;\n",
              "      gap: 12px;\n",
              "    }\n",
              "\n",
              "    .colab-df-convert {\n",
              "      background-color: #E8F0FE;\n",
              "      border: none;\n",
              "      border-radius: 50%;\n",
              "      cursor: pointer;\n",
              "      display: none;\n",
              "      fill: #1967D2;\n",
              "      height: 32px;\n",
              "      padding: 0 0 0 0;\n",
              "      width: 32px;\n",
              "    }\n",
              "\n",
              "    .colab-df-convert:hover {\n",
              "      background-color: #E2EBFA;\n",
              "      box-shadow: 0px 1px 2px rgba(60, 64, 67, 0.3), 0px 1px 3px 1px rgba(60, 64, 67, 0.15);\n",
              "      fill: #174EA6;\n",
              "    }\n",
              "\n",
              "    [theme=dark] .colab-df-convert {\n",
              "      background-color: #3B4455;\n",
              "      fill: #D2E3FC;\n",
              "    }\n",
              "\n",
              "    [theme=dark] .colab-df-convert:hover {\n",
              "      background-color: #434B5C;\n",
              "      box-shadow: 0px 1px 3px 1px rgba(0, 0, 0, 0.15);\n",
              "      filter: drop-shadow(0px 1px 2px rgba(0, 0, 0, 0.3));\n",
              "      fill: #FFFFFF;\n",
              "    }\n",
              "  </style>\n",
              "\n",
              "      <script>\n",
              "        const buttonEl =\n",
              "          document.querySelector('#df-3a813a1d-e4ab-4b0d-979b-f69e4ce43320 button.colab-df-convert');\n",
              "        buttonEl.style.display =\n",
              "          google.colab.kernel.accessAllowed ? 'block' : 'none';\n",
              "\n",
              "        async function convertToInteractive(key) {\n",
              "          const element = document.querySelector('#df-3a813a1d-e4ab-4b0d-979b-f69e4ce43320');\n",
              "          const dataTable =\n",
              "            await google.colab.kernel.invokeFunction('convertToInteractive',\n",
              "                                                     [key], {});\n",
              "          if (!dataTable) return;\n",
              "\n",
              "          const docLinkHtml = 'Like what you see? Visit the ' +\n",
              "            '<a target=\"_blank\" href=https://colab.research.google.com/notebooks/data_table.ipynb>data table notebook</a>'\n",
              "            + ' to learn more about interactive tables.';\n",
              "          element.innerHTML = '';\n",
              "          dataTable['output_type'] = 'display_data';\n",
              "          await google.colab.output.renderOutput(dataTable, element);\n",
              "          const docLink = document.createElement('div');\n",
              "          docLink.innerHTML = docLinkHtml;\n",
              "          element.appendChild(docLink);\n",
              "        }\n",
              "      </script>\n",
              "    </div>\n",
              "  </div>\n",
              "  "
            ],
            "text/plain": [
              "       No sex       생년월일       촬영일자  Cage   촬영일키 Patient #\n",
              "1   103.0   M 1992-09-07 2004-05-19  11.7  138.0  97028583\n",
              "2   106.0   M 1992-09-08 2004-08-04  11.9  143.0  10073987\n",
              "3   101.0   M 1992-08-06 2003-09-17  11.1  137.5  96248548\n",
              "4   107.0   M 1991-10-01 2003-09-17  12.0  135.8  10431539\n",
              "5   111.0   M 1990-03-16 2002-09-24  12.5  149.9  96579259\n",
              "6   115.0   M 1990-10-04 2003-07-23  12.8  150.7  10181949\n",
              "7   117.0   M 1991-09-12 2004-11-17  13.2  146.1  96178702\n",
              "8   121.0   M 1990-06-07 2004-01-28  13.6  167.0  10406334\n",
              "9   124.0   M 1992-10-27 2006-10-25  14.0  152.5  10353946\n",
              "10  127.0   M 1992-01-03 2006-11-29  14.9  160.3  10580752\n",
              "13  201.0   F 1993-11-14 2003-05-21   9.5  124.7  10152359\n",
              "14  203.0   F 1994-10-11 2004-10-13  10.0  128.0  10499059\n",
              "15  206.0   F 1993-12-18 2004-06-09  10.5  129.0  10449372\n",
              "16  207.0   F 1991-11-29 2003-01-22  11.1  132.0  94383197\n",
              "17  211.0   F 1993-02-26 2004-10-27  11.7  146.5  10267473\n",
              "18  215.0   F 1994-09-07 2006-09-13  12.0  147.1  10628162\n",
              "19  222.0   F 1990-08-03 2003-01-29  12.5  152.9  10391057\n",
              "20  229.0   F 1991-01-13 2004-01-28  13.0  148.8  10453605\n",
              "21  238.0   F 1991-04-26 2004-10-20  13.5  151.5  10500378\n",
              "22  247.0   F 1990-08-05 2004-09-08  14.1  150.2  10492817"
            ]
          },
          "metadata": {}
        },
        {
          "output_type": "stream",
          "name": "stdout",
          "text": [
            "4\n"
          ]
        }
      ]
    },
    {
      "cell_type": "code",
      "source": [
        "cv2_imshow(cv2.omre)"
      ],
      "metadata": {
        "id": "IA_8zOseSsao"
      },
      "execution_count": null,
      "outputs": []
    },
    {
      "cell_type": "code",
      "source": [
        "path = '/content/Sample/남/10181949.bmp'\n",
        "import time\n",
        "import datetime\n",
        "import sys\n",
        "import os\n",
        "import cv2\n",
        "sys.path.append('/content/Bone/boneage')\n",
        "import NEW_BONE as bone\n",
        "import os\n",
        "import pandas as pd\n",
        "import datetime as dt\n",
        "import matplotlib.pyplot as plt\n",
        "import cv2\n",
        "import os\n",
        "import pandas as pd\n",
        "import torch\n",
        "import tensorflow.keras as tf\n",
        "from google.colab.patches import cv2_imshow\n",
        "\n",
        "def basic():\n",
        "    model_path = '/content/Bone/boneage/weight/model.pt'\n",
        "    tjnet_path = '/content/Bone/boneage/weight/tjnet24.h5'\n",
        "    global tjnet\n",
        "    tjnet = tf.models.load_model(tjnet_path, compile=False)\n",
        "    global yolo\n",
        "    yolo = torch.load(model_path, map_location='cpu')\n",
        "    yolo.conf = 0.4\n",
        "    return \n",
        "\n",
        "def data(path):\n",
        "    data = pd.read_excel('/content/Sample/골연령측정자료220307.xlsx')\n",
        "    data = data.dropna()\n",
        "    data['Cage'] = data['Cage'].round(1)\n",
        "    data['Patient #'] = data['Patient #'].astype(int).astype(str)\n",
        "    patient_id = os.path.basename(path)[:-4]\n",
        "    index = data[data['Patient #'] == patient_id].index[0]\n",
        "    gender = data[(data['Patient #'] == patient_id)]['sex'][index]\n",
        "    if 'F' in gender: \n",
        "        gender = 0\n",
        "    else: gender = 1\n",
        "    height = data[(data['Patient #'] == patient_id)]['촬영일키'][index]\n",
        "    age = data[(data['Patient #'] == patient_id)]['Cage'][index]\n",
        "    return patient_id, gender,height,age\n",
        "\n",
        "def prediction(path,i):\n",
        "    start = time.time()\n",
        "    patient_id, gender, height, age = data(path)\n",
        "    file_name = os.path.basename(path).replace('bmp','jpg')\n",
        "\n",
        "    jpg_path = '/content/jpg/'\n",
        "    if not os.path.exists(jpg_path):\n",
        "        os.makedirs(jpg_path)\n",
        "\n",
        "    processed_img = bone.Bone_extraction(path)\n",
        "\n",
        "\n",
        "    cv2.imwrite(jpg_path+file_name,processed_img)\n",
        "\n",
        "    crops, yoloimg, result = bone.yolo_crop_img(jpg_path+file_name,yolo)\n",
        "    X = bone.out_crop_img(crops,gender)\n",
        "    global prediction_BA\n",
        "    prediction_BA = bone.predict_zscore(X, tjnet)\n",
        "    prediction_BA = prediction_BA.round(2)\n",
        "    lms_df = pd.read_csv('/content/Bone/boneage/data/height_df.csv')\n",
        "    prediction_H = bone.Height_prediction(gender,prediction_BA,height,lms_df)\n",
        "\n",
        "    diff = (prediction_BA - age).round(3)\n",
        "    sec = time.time()-start\n",
        "    times = str(datetime.timedelta(seconds=sec)).split(\".\")[0]\n",
        "    print(times)\n",
        "    csv = pd.DataFrame({'환자번호':patient_id,\n",
        "                        '성별' : gender,\n",
        "                        '촬영일자_나이':age,\n",
        "                        '예측나이':prediction_BA,\n",
        "                        '연령차이':diff,\n",
        "                        '현재신장':height,\n",
        "                        '예측신장':prediction_H,\n",
        "                        '시간':times\n",
        "                        },index=[i])\n",
        "\n",
        "\n",
        "    if not os.path.exists('/content/Prediction.csv'):\n",
        "        csv.to_csv('/content/Prediction.csv')\n",
        "        print(f'save > {patient_id}')\n",
        "    else:\n",
        "        A = pd.read_csv('/content/Prediction.csv',index_col=0)\n",
        "        A = A.append(csv)\n",
        "        A.to_csv('/content/Prediction.csv')\n",
        "        print(f'save > {patient_id}')\n",
        "        "
      ],
      "metadata": {
        "id": "CIIXYK4WHMWj"
      },
      "execution_count": 62,
      "outputs": []
    },
    {
      "cell_type": "code",
      "source": [
        "basic()"
      ],
      "metadata": {
        "id": "I5opCpGWQrWy"
      },
      "execution_count": 59,
      "outputs": []
    },
    {
      "cell_type": "code",
      "source": [
        "from glob import glob\n",
        "from tqdm import tqdm\n",
        "man = glob('/content/Sample/남/*.bmp')\n",
        "female = glob('/content/Sample/여/*.bmp')\n",
        "\n",
        "paths = man + female\n",
        "\n",
        "error=[]\n",
        "# print(paths)\n",
        "for i, path in tqdm(enumerate(paths)):\n",
        "    try:\n",
        "        prediction(path,i)\n",
        "    except:\n",
        "        error.append(path)\n"
      ],
      "metadata": {
        "colab": {
          "base_uri": "https://localhost:8080/"
        },
        "id": "AUiRuqlOJFje",
        "outputId": "9d010236-b233-4d5d-ce6d-81383c17658e"
      },
      "execution_count": 63,
      "outputs": [
        {
          "output_type": "stream",
          "name": "stderr",
          "text": [
            "1it [00:41, 41.60s/it]"
          ]
        },
        {
          "output_type": "stream",
          "name": "stdout",
          "text": [
            "0:00:41\n",
            "save > 10353946\n"
          ]
        },
        {
          "output_type": "stream",
          "name": "stderr",
          "text": [
            "\r2it [01:17, 38.10s/it]"
          ]
        },
        {
          "output_type": "stream",
          "name": "stdout",
          "text": [
            "0:00:35\n",
            "save > 10073987\n"
          ]
        },
        {
          "output_type": "stream",
          "name": "stderr",
          "text": [
            "\r3it [02:00, 40.51s/it]"
          ]
        },
        {
          "output_type": "stream",
          "name": "stdout",
          "text": [
            "0:00:43\n",
            "save > 96579259\n"
          ]
        },
        {
          "output_type": "stream",
          "name": "stderr",
          "text": [
            "\r4it [02:47, 42.89s/it]"
          ]
        },
        {
          "output_type": "stream",
          "name": "stdout",
          "text": [
            "0:00:46\n",
            "save > 10580752\n"
          ]
        },
        {
          "output_type": "stream",
          "name": "stderr",
          "text": [
            "\r5it [03:26, 41.71s/it]"
          ]
        },
        {
          "output_type": "stream",
          "name": "stdout",
          "text": [
            "0:00:39\n",
            "save > 96178702\n"
          ]
        },
        {
          "output_type": "stream",
          "name": "stderr",
          "text": [
            "\r6it [04:08, 41.79s/it]"
          ]
        },
        {
          "output_type": "stream",
          "name": "stdout",
          "text": [
            "0:00:41\n",
            "save > 10406334\n"
          ]
        },
        {
          "output_type": "stream",
          "name": "stderr",
          "text": [
            "\r7it [04:48, 41.15s/it]"
          ]
        },
        {
          "output_type": "stream",
          "name": "stdout",
          "text": [
            "0:00:39\n",
            "save > 10181949\n"
          ]
        },
        {
          "output_type": "stream",
          "name": "stderr",
          "text": [
            "\r8it [05:23, 39.20s/it]"
          ]
        },
        {
          "output_type": "stream",
          "name": "stdout",
          "text": [
            "0:00:35\n",
            "save > 97028583\n"
          ]
        },
        {
          "output_type": "stream",
          "name": "stderr",
          "text": [
            "10it [06:12, 33.00s/it]"
          ]
        },
        {
          "output_type": "stream",
          "name": "stdout",
          "text": [
            "0:00:40\n",
            "save > 96248548\n"
          ]
        },
        {
          "output_type": "stream",
          "name": "stderr",
          "text": [
            "\r11it [06:48, 33.77s/it]"
          ]
        },
        {
          "output_type": "stream",
          "name": "stdout",
          "text": [
            "0:00:35\n",
            "save > 10449372\n"
          ]
        },
        {
          "output_type": "stream",
          "name": "stderr",
          "text": [
            "\r12it [07:29, 36.09s/it]"
          ]
        },
        {
          "output_type": "stream",
          "name": "stdout",
          "text": [
            "0:00:41\n",
            "save > 10499059\n"
          ]
        },
        {
          "output_type": "stream",
          "name": "stderr",
          "text": [
            "\r13it [08:08, 36.90s/it]"
          ]
        },
        {
          "output_type": "stream",
          "name": "stdout",
          "text": [
            "0:00:38\n",
            "save > 10492817\n"
          ]
        },
        {
          "output_type": "stream",
          "name": "stderr",
          "text": [
            "\r14it [08:46, 37.25s/it]"
          ]
        },
        {
          "output_type": "stream",
          "name": "stdout",
          "text": [
            "0:00:38\n",
            "save > 10152359\n"
          ]
        },
        {
          "output_type": "stream",
          "name": "stderr",
          "text": [
            "\r15it [09:23, 37.32s/it]"
          ]
        },
        {
          "output_type": "stream",
          "name": "stdout",
          "text": [
            "0:00:37\n",
            "save > 10500378\n"
          ]
        },
        {
          "output_type": "stream",
          "name": "stderr",
          "text": [
            "\r16it [09:31, 28.22s/it]"
          ]
        },
        {
          "output_type": "stream",
          "name": "stdout",
          "text": [
            "0:00:07\n",
            "save > 94383197\n"
          ]
        },
        {
          "output_type": "stream",
          "name": "stderr",
          "text": [
            "\r18it [10:19, 26.26s/it]"
          ]
        },
        {
          "output_type": "stream",
          "name": "stdout",
          "text": [
            "0:00:47\n",
            "save > 10453605\n"
          ]
        },
        {
          "output_type": "stream",
          "name": "stderr",
          "text": [
            "\r19it [11:02, 30.62s/it]"
          ]
        },
        {
          "output_type": "stream",
          "name": "stdout",
          "text": [
            "0:00:43\n",
            "save > 10391057\n"
          ]
        },
        {
          "output_type": "stream",
          "name": "stderr",
          "text": [
            "\r20it [11:48, 34.55s/it]"
          ]
        },
        {
          "output_type": "stream",
          "name": "stdout",
          "text": [
            "0:00:45\n",
            "save > 10628162\n"
          ]
        },
        {
          "output_type": "stream",
          "name": "stderr",
          "text": [
            "21it [12:28, 35.66s/it]"
          ]
        },
        {
          "output_type": "stream",
          "name": "stdout",
          "text": [
            "0:00:40\n",
            "save > 10267473\n"
          ]
        },
        {
          "output_type": "stream",
          "name": "stderr",
          "text": [
            "\n"
          ]
        }
      ]
    },
    {
      "cell_type": "code",
      "source": [
        "def error_check(path):\n",
        "    start = time.time()\n",
        "    patient_id, gender, height, age = data(path)\n",
        "\n",
        "    print('#####################')\n",
        "    print(f'patient_id > {patient_id}' )\n",
        "    print(f'gender > {gender}' )\n",
        "    print(f'age > {age}' )\n",
        "    print('#####################')\n",
        "    file_name = os.path.basename(path).replace('bmp','jpg')\n",
        "    patient_name = os.path.basename(path)[:-4]\n",
        "\n",
        "    jpg_path = '/content/jpg/'\n",
        "    if not os.path.exists(jpg_path):\n",
        "        os.makedirs(jpg_path)\n",
        "\n",
        "    processed_img = bone.Bone_extraction(path)\n",
        "\n",
        "\n",
        "    cv2.imwrite(jpg_path+file_name,processed_img)\n",
        "\n",
        "    crops, yoloimg, result = bone.yolo_crop_img(jpg_path+file_name,yolo)\n",
        "    cv2_imshow(yoloimg)"
      ],
      "metadata": {
        "id": "FdWXa5i0dVUI"
      },
      "execution_count": 39,
      "outputs": []
    },
    {
      "cell_type": "code",
      "source": [
        "\n",
        "data = pd.read_excel('/content/Sample/골연령측정자료220307.xlsx')\n",
        "data = data.dropna()\n",
        "data['Cage'] = data['Cage'].round(1)\n",
        "data['Patient #'] = data['Patient #'].astype(int).astype(str)\n",
        "patient_id = os.path.basename('/content/Sample/여/10402104.bmp')[:-4]\n",
        "index = data[data['Patient #'] == patient_id].index[0]\n",
        "gender = data[(data['Patient #'] == patient_id)]['sex'][index]\n",
        "if 'F' in gender: \n",
        "    gender = 0\n",
        "else: gender = 1\n",
        "height = data[(data['Patient #'] == patient_id)]['촬영일키'][index]\n",
        "age = data[(data['Patient #'] == patient_id)]['Cage'][index]\n"
      ],
      "metadata": {
        "colab": {
          "base_uri": "https://localhost:8080/",
          "height": 380
        },
        "id": "3zzQt-CcdOGu",
        "outputId": "2b2c9e57-3014-4b05-d8db-8f34cf0dd64d"
      },
      "execution_count": 53,
      "outputs": [
        {
          "output_type": "error",
          "ename": "IndexError",
          "evalue": "ignored",
          "traceback": [
            "\u001b[0;31m---------------------------------------------------------------------------\u001b[0m",
            "\u001b[0;31mIndexError\u001b[0m                                Traceback (most recent call last)",
            "\u001b[0;32m<ipython-input-53-5583beffb433>\u001b[0m in \u001b[0;36m<module>\u001b[0;34m()\u001b[0m\n\u001b[1;32m      5\u001b[0m \u001b[0mdata\u001b[0m\u001b[0;34m[\u001b[0m\u001b[0;34m'Patient #'\u001b[0m\u001b[0;34m]\u001b[0m \u001b[0;34m=\u001b[0m \u001b[0mdata\u001b[0m\u001b[0;34m[\u001b[0m\u001b[0;34m'Patient #'\u001b[0m\u001b[0;34m]\u001b[0m\u001b[0;34m.\u001b[0m\u001b[0mastype\u001b[0m\u001b[0;34m(\u001b[0m\u001b[0mint\u001b[0m\u001b[0;34m)\u001b[0m\u001b[0;34m.\u001b[0m\u001b[0mastype\u001b[0m\u001b[0;34m(\u001b[0m\u001b[0mstr\u001b[0m\u001b[0;34m)\u001b[0m\u001b[0;34m\u001b[0m\u001b[0;34m\u001b[0m\u001b[0m\n\u001b[1;32m      6\u001b[0m \u001b[0mpatient_id\u001b[0m \u001b[0;34m=\u001b[0m \u001b[0mos\u001b[0m\u001b[0;34m.\u001b[0m\u001b[0mpath\u001b[0m\u001b[0;34m.\u001b[0m\u001b[0mbasename\u001b[0m\u001b[0;34m(\u001b[0m\u001b[0;34m'/content/Sample/여/10402104.bmp'\u001b[0m\u001b[0;34m)\u001b[0m\u001b[0;34m[\u001b[0m\u001b[0;34m:\u001b[0m\u001b[0;34m-\u001b[0m\u001b[0;36m4\u001b[0m\u001b[0;34m]\u001b[0m\u001b[0;34m\u001b[0m\u001b[0;34m\u001b[0m\u001b[0m\n\u001b[0;32m----> 7\u001b[0;31m \u001b[0mindex\u001b[0m \u001b[0;34m=\u001b[0m \u001b[0mdata\u001b[0m\u001b[0;34m[\u001b[0m\u001b[0mdata\u001b[0m\u001b[0;34m[\u001b[0m\u001b[0;34m'Patient #'\u001b[0m\u001b[0;34m]\u001b[0m \u001b[0;34m==\u001b[0m \u001b[0mpatient_id\u001b[0m\u001b[0;34m]\u001b[0m\u001b[0;34m.\u001b[0m\u001b[0mindex\u001b[0m\u001b[0;34m[\u001b[0m\u001b[0;36m0\u001b[0m\u001b[0;34m]\u001b[0m\u001b[0;34m\u001b[0m\u001b[0;34m\u001b[0m\u001b[0m\n\u001b[0m\u001b[1;32m      8\u001b[0m \u001b[0mgender\u001b[0m \u001b[0;34m=\u001b[0m \u001b[0mdata\u001b[0m\u001b[0;34m[\u001b[0m\u001b[0;34m(\u001b[0m\u001b[0mdata\u001b[0m\u001b[0;34m[\u001b[0m\u001b[0;34m'Patient #'\u001b[0m\u001b[0;34m]\u001b[0m \u001b[0;34m==\u001b[0m \u001b[0mpatient_id\u001b[0m\u001b[0;34m)\u001b[0m\u001b[0;34m]\u001b[0m\u001b[0;34m[\u001b[0m\u001b[0;34m'sex'\u001b[0m\u001b[0;34m]\u001b[0m\u001b[0;34m[\u001b[0m\u001b[0mindex\u001b[0m\u001b[0;34m]\u001b[0m\u001b[0;34m\u001b[0m\u001b[0;34m\u001b[0m\u001b[0m\n\u001b[1;32m      9\u001b[0m \u001b[0;32mif\u001b[0m \u001b[0;34m'F'\u001b[0m \u001b[0;32min\u001b[0m \u001b[0mgender\u001b[0m\u001b[0;34m:\u001b[0m\u001b[0;34m\u001b[0m\u001b[0;34m\u001b[0m\u001b[0m\n",
            "\u001b[0;32m/usr/local/lib/python3.7/dist-packages/pandas/core/indexes/base.py\u001b[0m in \u001b[0;36m__getitem__\u001b[0;34m(self, key)\u001b[0m\n\u001b[1;32m   4602\u001b[0m         \u001b[0;32mif\u001b[0m \u001b[0mis_scalar\u001b[0m\u001b[0;34m(\u001b[0m\u001b[0mkey\u001b[0m\u001b[0;34m)\u001b[0m\u001b[0;34m:\u001b[0m\u001b[0;34m\u001b[0m\u001b[0;34m\u001b[0m\u001b[0m\n\u001b[1;32m   4603\u001b[0m             \u001b[0mkey\u001b[0m \u001b[0;34m=\u001b[0m \u001b[0mcom\u001b[0m\u001b[0;34m.\u001b[0m\u001b[0mcast_scalar_indexer\u001b[0m\u001b[0;34m(\u001b[0m\u001b[0mkey\u001b[0m\u001b[0;34m,\u001b[0m \u001b[0mwarn_float\u001b[0m\u001b[0;34m=\u001b[0m\u001b[0;32mTrue\u001b[0m\u001b[0;34m)\u001b[0m\u001b[0;34m\u001b[0m\u001b[0;34m\u001b[0m\u001b[0m\n\u001b[0;32m-> 4604\u001b[0;31m             \u001b[0;32mreturn\u001b[0m \u001b[0mgetitem\u001b[0m\u001b[0;34m(\u001b[0m\u001b[0mkey\u001b[0m\u001b[0;34m)\u001b[0m\u001b[0;34m\u001b[0m\u001b[0;34m\u001b[0m\u001b[0m\n\u001b[0m\u001b[1;32m   4605\u001b[0m \u001b[0;34m\u001b[0m\u001b[0m\n\u001b[1;32m   4606\u001b[0m         \u001b[0;32mif\u001b[0m \u001b[0misinstance\u001b[0m\u001b[0;34m(\u001b[0m\u001b[0mkey\u001b[0m\u001b[0;34m,\u001b[0m \u001b[0mslice\u001b[0m\u001b[0;34m)\u001b[0m\u001b[0;34m:\u001b[0m\u001b[0;34m\u001b[0m\u001b[0;34m\u001b[0m\u001b[0m\n",
            "\u001b[0;31mIndexError\u001b[0m: index 0 is out of bounds for axis 0 with size 0"
          ]
        }
      ]
    },
    {
      "cell_type": "code",
      "source": [
        "data[data['Patient #'] == '10402104']"
      ],
      "metadata": {
        "colab": {
          "base_uri": "https://localhost:8080/",
          "height": 50
        },
        "id": "Wtt9hMU2kae6",
        "outputId": "46ac5049-b33e-4d98-ab23-79cce31198eb"
      },
      "execution_count": 56,
      "outputs": [
        {
          "output_type": "execute_result",
          "data": {
            "text/html": [
              "\n",
              "  <div id=\"df-908ff1ea-3d54-444e-a8ed-5104df6a6196\">\n",
              "    <div class=\"colab-df-container\">\n",
              "      <div>\n",
              "<style scoped>\n",
              "    .dataframe tbody tr th:only-of-type {\n",
              "        vertical-align: middle;\n",
              "    }\n",
              "\n",
              "    .dataframe tbody tr th {\n",
              "        vertical-align: top;\n",
              "    }\n",
              "\n",
              "    .dataframe thead th {\n",
              "        text-align: right;\n",
              "    }\n",
              "</style>\n",
              "<table border=\"1\" class=\"dataframe\">\n",
              "  <thead>\n",
              "    <tr style=\"text-align: right;\">\n",
              "      <th></th>\n",
              "      <th>No</th>\n",
              "      <th>sex</th>\n",
              "      <th>생년월일</th>\n",
              "      <th>촬영일자</th>\n",
              "      <th>Cage</th>\n",
              "      <th>촬영일키</th>\n",
              "      <th>Patient #</th>\n",
              "    </tr>\n",
              "  </thead>\n",
              "  <tbody>\n",
              "  </tbody>\n",
              "</table>\n",
              "</div>\n",
              "      <button class=\"colab-df-convert\" onclick=\"convertToInteractive('df-908ff1ea-3d54-444e-a8ed-5104df6a6196')\"\n",
              "              title=\"Convert this dataframe to an interactive table.\"\n",
              "              style=\"display:none;\">\n",
              "        \n",
              "  <svg xmlns=\"http://www.w3.org/2000/svg\" height=\"24px\"viewBox=\"0 0 24 24\"\n",
              "       width=\"24px\">\n",
              "    <path d=\"M0 0h24v24H0V0z\" fill=\"none\"/>\n",
              "    <path d=\"M18.56 5.44l.94 2.06.94-2.06 2.06-.94-2.06-.94-.94-2.06-.94 2.06-2.06.94zm-11 1L8.5 8.5l.94-2.06 2.06-.94-2.06-.94L8.5 2.5l-.94 2.06-2.06.94zm10 10l.94 2.06.94-2.06 2.06-.94-2.06-.94-.94-2.06-.94 2.06-2.06.94z\"/><path d=\"M17.41 7.96l-1.37-1.37c-.4-.4-.92-.59-1.43-.59-.52 0-1.04.2-1.43.59L10.3 9.45l-7.72 7.72c-.78.78-.78 2.05 0 2.83L4 21.41c.39.39.9.59 1.41.59.51 0 1.02-.2 1.41-.59l7.78-7.78 2.81-2.81c.8-.78.8-2.07 0-2.86zM5.41 20L4 18.59l7.72-7.72 1.47 1.35L5.41 20z\"/>\n",
              "  </svg>\n",
              "      </button>\n",
              "      \n",
              "  <style>\n",
              "    .colab-df-container {\n",
              "      display:flex;\n",
              "      flex-wrap:wrap;\n",
              "      gap: 12px;\n",
              "    }\n",
              "\n",
              "    .colab-df-convert {\n",
              "      background-color: #E8F0FE;\n",
              "      border: none;\n",
              "      border-radius: 50%;\n",
              "      cursor: pointer;\n",
              "      display: none;\n",
              "      fill: #1967D2;\n",
              "      height: 32px;\n",
              "      padding: 0 0 0 0;\n",
              "      width: 32px;\n",
              "    }\n",
              "\n",
              "    .colab-df-convert:hover {\n",
              "      background-color: #E2EBFA;\n",
              "      box-shadow: 0px 1px 2px rgba(60, 64, 67, 0.3), 0px 1px 3px 1px rgba(60, 64, 67, 0.15);\n",
              "      fill: #174EA6;\n",
              "    }\n",
              "\n",
              "    [theme=dark] .colab-df-convert {\n",
              "      background-color: #3B4455;\n",
              "      fill: #D2E3FC;\n",
              "    }\n",
              "\n",
              "    [theme=dark] .colab-df-convert:hover {\n",
              "      background-color: #434B5C;\n",
              "      box-shadow: 0px 1px 3px 1px rgba(0, 0, 0, 0.15);\n",
              "      filter: drop-shadow(0px 1px 2px rgba(0, 0, 0, 0.3));\n",
              "      fill: #FFFFFF;\n",
              "    }\n",
              "  </style>\n",
              "\n",
              "      <script>\n",
              "        const buttonEl =\n",
              "          document.querySelector('#df-908ff1ea-3d54-444e-a8ed-5104df6a6196 button.colab-df-convert');\n",
              "        buttonEl.style.display =\n",
              "          google.colab.kernel.accessAllowed ? 'block' : 'none';\n",
              "\n",
              "        async function convertToInteractive(key) {\n",
              "          const element = document.querySelector('#df-908ff1ea-3d54-444e-a8ed-5104df6a6196');\n",
              "          const dataTable =\n",
              "            await google.colab.kernel.invokeFunction('convertToInteractive',\n",
              "                                                     [key], {});\n",
              "          if (!dataTable) return;\n",
              "\n",
              "          const docLinkHtml = 'Like what you see? Visit the ' +\n",
              "            '<a target=\"_blank\" href=https://colab.research.google.com/notebooks/data_table.ipynb>data table notebook</a>'\n",
              "            + ' to learn more about interactive tables.';\n",
              "          element.innerHTML = '';\n",
              "          dataTable['output_type'] = 'display_data';\n",
              "          await google.colab.output.renderOutput(dataTable, element);\n",
              "          const docLink = document.createElement('div');\n",
              "          docLink.innerHTML = docLinkHtml;\n",
              "          element.appendChild(docLink);\n",
              "        }\n",
              "      </script>\n",
              "    </div>\n",
              "  </div>\n",
              "  "
            ],
            "text/plain": [
              "Empty DataFrame\n",
              "Columns: [No, sex, 생년월일, 촬영일자, Cage, 촬영일키, Patient #]\n",
              "Index: []"
            ]
          },
          "metadata": {},
          "execution_count": 56
        }
      ]
    },
    {
      "cell_type": "code",
      "source": [
        "data"
      ],
      "metadata": {
        "colab": {
          "base_uri": "https://localhost:8080/",
          "height": 676
        },
        "id": "YzBzv8v6kSKm",
        "outputId": "5e7077d9-3cd4-4bc8-824b-9f9e231d174b"
      },
      "execution_count": 57,
      "outputs": [
        {
          "output_type": "execute_result",
          "data": {
            "text/html": [
              "\n",
              "  <div id=\"df-203c7d42-3968-4c6b-a25d-31c5573ac188\">\n",
              "    <div class=\"colab-df-container\">\n",
              "      <div>\n",
              "<style scoped>\n",
              "    .dataframe tbody tr th:only-of-type {\n",
              "        vertical-align: middle;\n",
              "    }\n",
              "\n",
              "    .dataframe tbody tr th {\n",
              "        vertical-align: top;\n",
              "    }\n",
              "\n",
              "    .dataframe thead th {\n",
              "        text-align: right;\n",
              "    }\n",
              "</style>\n",
              "<table border=\"1\" class=\"dataframe\">\n",
              "  <thead>\n",
              "    <tr style=\"text-align: right;\">\n",
              "      <th></th>\n",
              "      <th>No</th>\n",
              "      <th>sex</th>\n",
              "      <th>생년월일</th>\n",
              "      <th>촬영일자</th>\n",
              "      <th>Cage</th>\n",
              "      <th>촬영일키</th>\n",
              "      <th>Patient #</th>\n",
              "    </tr>\n",
              "  </thead>\n",
              "  <tbody>\n",
              "    <tr>\n",
              "      <th>1</th>\n",
              "      <td>103.0</td>\n",
              "      <td>M</td>\n",
              "      <td>1992-09-07</td>\n",
              "      <td>2004-05-19</td>\n",
              "      <td>11.7</td>\n",
              "      <td>138.0</td>\n",
              "      <td>97028583</td>\n",
              "    </tr>\n",
              "    <tr>\n",
              "      <th>2</th>\n",
              "      <td>106.0</td>\n",
              "      <td>M</td>\n",
              "      <td>1992-09-08</td>\n",
              "      <td>2004-08-04</td>\n",
              "      <td>11.9</td>\n",
              "      <td>143.0</td>\n",
              "      <td>10073987</td>\n",
              "    </tr>\n",
              "    <tr>\n",
              "      <th>3</th>\n",
              "      <td>101.0</td>\n",
              "      <td>M</td>\n",
              "      <td>1992-08-06</td>\n",
              "      <td>2003-09-17</td>\n",
              "      <td>11.1</td>\n",
              "      <td>137.5</td>\n",
              "      <td>96248548</td>\n",
              "    </tr>\n",
              "    <tr>\n",
              "      <th>4</th>\n",
              "      <td>107.0</td>\n",
              "      <td>M</td>\n",
              "      <td>1991-10-01</td>\n",
              "      <td>2003-09-17</td>\n",
              "      <td>12.0</td>\n",
              "      <td>135.8</td>\n",
              "      <td>10431539</td>\n",
              "    </tr>\n",
              "    <tr>\n",
              "      <th>5</th>\n",
              "      <td>111.0</td>\n",
              "      <td>M</td>\n",
              "      <td>1990-03-16</td>\n",
              "      <td>2002-09-24</td>\n",
              "      <td>12.5</td>\n",
              "      <td>149.9</td>\n",
              "      <td>96579259</td>\n",
              "    </tr>\n",
              "    <tr>\n",
              "      <th>6</th>\n",
              "      <td>115.0</td>\n",
              "      <td>M</td>\n",
              "      <td>1990-10-04</td>\n",
              "      <td>2003-07-23</td>\n",
              "      <td>12.8</td>\n",
              "      <td>150.7</td>\n",
              "      <td>10181949</td>\n",
              "    </tr>\n",
              "    <tr>\n",
              "      <th>7</th>\n",
              "      <td>117.0</td>\n",
              "      <td>M</td>\n",
              "      <td>1991-09-12</td>\n",
              "      <td>2004-11-17</td>\n",
              "      <td>13.2</td>\n",
              "      <td>146.1</td>\n",
              "      <td>96178702</td>\n",
              "    </tr>\n",
              "    <tr>\n",
              "      <th>8</th>\n",
              "      <td>121.0</td>\n",
              "      <td>M</td>\n",
              "      <td>1990-06-07</td>\n",
              "      <td>2004-01-28</td>\n",
              "      <td>13.6</td>\n",
              "      <td>167.0</td>\n",
              "      <td>10406334</td>\n",
              "    </tr>\n",
              "    <tr>\n",
              "      <th>9</th>\n",
              "      <td>124.0</td>\n",
              "      <td>M</td>\n",
              "      <td>1992-10-27</td>\n",
              "      <td>2006-10-25</td>\n",
              "      <td>14.0</td>\n",
              "      <td>152.5</td>\n",
              "      <td>10353946</td>\n",
              "    </tr>\n",
              "    <tr>\n",
              "      <th>10</th>\n",
              "      <td>127.0</td>\n",
              "      <td>M</td>\n",
              "      <td>1992-01-03</td>\n",
              "      <td>2006-11-29</td>\n",
              "      <td>14.9</td>\n",
              "      <td>160.3</td>\n",
              "      <td>10580752</td>\n",
              "    </tr>\n",
              "    <tr>\n",
              "      <th>13</th>\n",
              "      <td>201.0</td>\n",
              "      <td>F</td>\n",
              "      <td>1993-11-14</td>\n",
              "      <td>2003-05-21</td>\n",
              "      <td>9.5</td>\n",
              "      <td>124.7</td>\n",
              "      <td>10152359</td>\n",
              "    </tr>\n",
              "    <tr>\n",
              "      <th>14</th>\n",
              "      <td>203.0</td>\n",
              "      <td>F</td>\n",
              "      <td>1994-10-11</td>\n",
              "      <td>2004-10-13</td>\n",
              "      <td>10.0</td>\n",
              "      <td>128.0</td>\n",
              "      <td>10499059</td>\n",
              "    </tr>\n",
              "    <tr>\n",
              "      <th>15</th>\n",
              "      <td>206.0</td>\n",
              "      <td>F</td>\n",
              "      <td>1993-12-18</td>\n",
              "      <td>2004-06-09</td>\n",
              "      <td>10.5</td>\n",
              "      <td>129.0</td>\n",
              "      <td>10449372</td>\n",
              "    </tr>\n",
              "    <tr>\n",
              "      <th>16</th>\n",
              "      <td>207.0</td>\n",
              "      <td>F</td>\n",
              "      <td>1991-11-29</td>\n",
              "      <td>2003-01-22</td>\n",
              "      <td>11.1</td>\n",
              "      <td>132.0</td>\n",
              "      <td>94383197</td>\n",
              "    </tr>\n",
              "    <tr>\n",
              "      <th>17</th>\n",
              "      <td>211.0</td>\n",
              "      <td>F</td>\n",
              "      <td>1993-02-26</td>\n",
              "      <td>2004-10-27</td>\n",
              "      <td>11.7</td>\n",
              "      <td>146.5</td>\n",
              "      <td>10267473</td>\n",
              "    </tr>\n",
              "    <tr>\n",
              "      <th>18</th>\n",
              "      <td>215.0</td>\n",
              "      <td>F</td>\n",
              "      <td>1994-09-07</td>\n",
              "      <td>2006-09-13</td>\n",
              "      <td>12.0</td>\n",
              "      <td>147.1</td>\n",
              "      <td>10628162</td>\n",
              "    </tr>\n",
              "    <tr>\n",
              "      <th>19</th>\n",
              "      <td>222.0</td>\n",
              "      <td>F</td>\n",
              "      <td>1990-08-03</td>\n",
              "      <td>2003-01-29</td>\n",
              "      <td>12.5</td>\n",
              "      <td>152.9</td>\n",
              "      <td>10391057</td>\n",
              "    </tr>\n",
              "    <tr>\n",
              "      <th>20</th>\n",
              "      <td>229.0</td>\n",
              "      <td>F</td>\n",
              "      <td>1991-01-13</td>\n",
              "      <td>2004-01-28</td>\n",
              "      <td>13.0</td>\n",
              "      <td>148.8</td>\n",
              "      <td>10453605</td>\n",
              "    </tr>\n",
              "    <tr>\n",
              "      <th>21</th>\n",
              "      <td>238.0</td>\n",
              "      <td>F</td>\n",
              "      <td>1991-04-26</td>\n",
              "      <td>2004-10-20</td>\n",
              "      <td>13.5</td>\n",
              "      <td>151.5</td>\n",
              "      <td>10500378</td>\n",
              "    </tr>\n",
              "    <tr>\n",
              "      <th>22</th>\n",
              "      <td>247.0</td>\n",
              "      <td>F</td>\n",
              "      <td>1990-08-05</td>\n",
              "      <td>2004-09-08</td>\n",
              "      <td>14.1</td>\n",
              "      <td>150.2</td>\n",
              "      <td>10492817</td>\n",
              "    </tr>\n",
              "  </tbody>\n",
              "</table>\n",
              "</div>\n",
              "      <button class=\"colab-df-convert\" onclick=\"convertToInteractive('df-203c7d42-3968-4c6b-a25d-31c5573ac188')\"\n",
              "              title=\"Convert this dataframe to an interactive table.\"\n",
              "              style=\"display:none;\">\n",
              "        \n",
              "  <svg xmlns=\"http://www.w3.org/2000/svg\" height=\"24px\"viewBox=\"0 0 24 24\"\n",
              "       width=\"24px\">\n",
              "    <path d=\"M0 0h24v24H0V0z\" fill=\"none\"/>\n",
              "    <path d=\"M18.56 5.44l.94 2.06.94-2.06 2.06-.94-2.06-.94-.94-2.06-.94 2.06-2.06.94zm-11 1L8.5 8.5l.94-2.06 2.06-.94-2.06-.94L8.5 2.5l-.94 2.06-2.06.94zm10 10l.94 2.06.94-2.06 2.06-.94-2.06-.94-.94-2.06-.94 2.06-2.06.94z\"/><path d=\"M17.41 7.96l-1.37-1.37c-.4-.4-.92-.59-1.43-.59-.52 0-1.04.2-1.43.59L10.3 9.45l-7.72 7.72c-.78.78-.78 2.05 0 2.83L4 21.41c.39.39.9.59 1.41.59.51 0 1.02-.2 1.41-.59l7.78-7.78 2.81-2.81c.8-.78.8-2.07 0-2.86zM5.41 20L4 18.59l7.72-7.72 1.47 1.35L5.41 20z\"/>\n",
              "  </svg>\n",
              "      </button>\n",
              "      \n",
              "  <style>\n",
              "    .colab-df-container {\n",
              "      display:flex;\n",
              "      flex-wrap:wrap;\n",
              "      gap: 12px;\n",
              "    }\n",
              "\n",
              "    .colab-df-convert {\n",
              "      background-color: #E8F0FE;\n",
              "      border: none;\n",
              "      border-radius: 50%;\n",
              "      cursor: pointer;\n",
              "      display: none;\n",
              "      fill: #1967D2;\n",
              "      height: 32px;\n",
              "      padding: 0 0 0 0;\n",
              "      width: 32px;\n",
              "    }\n",
              "\n",
              "    .colab-df-convert:hover {\n",
              "      background-color: #E2EBFA;\n",
              "      box-shadow: 0px 1px 2px rgba(60, 64, 67, 0.3), 0px 1px 3px 1px rgba(60, 64, 67, 0.15);\n",
              "      fill: #174EA6;\n",
              "    }\n",
              "\n",
              "    [theme=dark] .colab-df-convert {\n",
              "      background-color: #3B4455;\n",
              "      fill: #D2E3FC;\n",
              "    }\n",
              "\n",
              "    [theme=dark] .colab-df-convert:hover {\n",
              "      background-color: #434B5C;\n",
              "      box-shadow: 0px 1px 3px 1px rgba(0, 0, 0, 0.15);\n",
              "      filter: drop-shadow(0px 1px 2px rgba(0, 0, 0, 0.3));\n",
              "      fill: #FFFFFF;\n",
              "    }\n",
              "  </style>\n",
              "\n",
              "      <script>\n",
              "        const buttonEl =\n",
              "          document.querySelector('#df-203c7d42-3968-4c6b-a25d-31c5573ac188 button.colab-df-convert');\n",
              "        buttonEl.style.display =\n",
              "          google.colab.kernel.accessAllowed ? 'block' : 'none';\n",
              "\n",
              "        async function convertToInteractive(key) {\n",
              "          const element = document.querySelector('#df-203c7d42-3968-4c6b-a25d-31c5573ac188');\n",
              "          const dataTable =\n",
              "            await google.colab.kernel.invokeFunction('convertToInteractive',\n",
              "                                                     [key], {});\n",
              "          if (!dataTable) return;\n",
              "\n",
              "          const docLinkHtml = 'Like what you see? Visit the ' +\n",
              "            '<a target=\"_blank\" href=https://colab.research.google.com/notebooks/data_table.ipynb>data table notebook</a>'\n",
              "            + ' to learn more about interactive tables.';\n",
              "          element.innerHTML = '';\n",
              "          dataTable['output_type'] = 'display_data';\n",
              "          await google.colab.output.renderOutput(dataTable, element);\n",
              "          const docLink = document.createElement('div');\n",
              "          docLink.innerHTML = docLinkHtml;\n",
              "          element.appendChild(docLink);\n",
              "        }\n",
              "      </script>\n",
              "    </div>\n",
              "  </div>\n",
              "  "
            ],
            "text/plain": [
              "       No sex       생년월일       촬영일자  Cage   촬영일키 Patient #\n",
              "1   103.0   M 1992-09-07 2004-05-19  11.7  138.0  97028583\n",
              "2   106.0   M 1992-09-08 2004-08-04  11.9  143.0  10073987\n",
              "3   101.0   M 1992-08-06 2003-09-17  11.1  137.5  96248548\n",
              "4   107.0   M 1991-10-01 2003-09-17  12.0  135.8  10431539\n",
              "5   111.0   M 1990-03-16 2002-09-24  12.5  149.9  96579259\n",
              "6   115.0   M 1990-10-04 2003-07-23  12.8  150.7  10181949\n",
              "7   117.0   M 1991-09-12 2004-11-17  13.2  146.1  96178702\n",
              "8   121.0   M 1990-06-07 2004-01-28  13.6  167.0  10406334\n",
              "9   124.0   M 1992-10-27 2006-10-25  14.0  152.5  10353946\n",
              "10  127.0   M 1992-01-03 2006-11-29  14.9  160.3  10580752\n",
              "13  201.0   F 1993-11-14 2003-05-21   9.5  124.7  10152359\n",
              "14  203.0   F 1994-10-11 2004-10-13  10.0  128.0  10499059\n",
              "15  206.0   F 1993-12-18 2004-06-09  10.5  129.0  10449372\n",
              "16  207.0   F 1991-11-29 2003-01-22  11.1  132.0  94383197\n",
              "17  211.0   F 1993-02-26 2004-10-27  11.7  146.5  10267473\n",
              "18  215.0   F 1994-09-07 2006-09-13  12.0  147.1  10628162\n",
              "19  222.0   F 1990-08-03 2003-01-29  12.5  152.9  10391057\n",
              "20  229.0   F 1991-01-13 2004-01-28  13.0  148.8  10453605\n",
              "21  238.0   F 1991-04-26 2004-10-20  13.5  151.5  10500378\n",
              "22  247.0   F 1990-08-05 2004-09-08  14.1  150.2  10492817"
            ]
          },
          "metadata": {},
          "execution_count": 57
        }
      ]
    },
    {
      "cell_type": "code",
      "source": [
        "error"
      ],
      "metadata": {
        "colab": {
          "base_uri": "https://localhost:8080/"
        },
        "id": "iQs2aY5JqgqH",
        "outputId": "d6ccc203-a804-440f-82c5-2bc385f6aedb"
      },
      "execution_count": 64,
      "outputs": [
        {
          "output_type": "execute_result",
          "data": {
            "text/plain": [
              "['/content/Sample/남/10431539.bmp', '/content/Sample/여/10402104.bmp']"
            ]
          },
          "metadata": {},
          "execution_count": 64
        }
      ]
    },
    {
      "cell_type": "code",
      "source": [
        "import shutil\n",
        "shutil.copy('/content/NEW_BONE.py','/content/drive/MyDrive/NEW_BONE.py')\n",
        "shutil.copy('/content/Prediction.csv','/content/drive/MyDrive/Prediction.csv')"
      ],
      "metadata": {
        "colab": {
          "base_uri": "https://localhost:8080/",
          "height": 36
        },
        "id": "5DPVI9vSqkT6",
        "outputId": "90cbb3fb-4837-4dfa-b2bf-d195d8b1ddf3"
      },
      "execution_count": 66,
      "outputs": [
        {
          "output_type": "execute_result",
          "data": {
            "application/vnd.google.colaboratory.intrinsic+json": {
              "type": "string"
            },
            "text/plain": [
              "'/content/drive/MyDrive/Prediction.csv'"
            ]
          },
          "metadata": {},
          "execution_count": 66
        }
      ]
    },
    {
      "cell_type": "code",
      "source": [
        "shutil.copy('/content/EHAW.py','/content/drive/MyDrive/EHAW.py')"
      ],
      "metadata": {
        "colab": {
          "base_uri": "https://localhost:8080/",
          "height": 36
        },
        "id": "2Ndp-JtHqgk9",
        "outputId": "7b1a4b3b-917c-4403-d97e-4deaed174ddd"
      },
      "execution_count": 67,
      "outputs": [
        {
          "output_type": "execute_result",
          "data": {
            "application/vnd.google.colaboratory.intrinsic+json": {
              "type": "string"
            },
            "text/plain": [
              "'/content/drive/MyDrive/EHAW.py'"
            ]
          },
          "metadata": {},
          "execution_count": 67
        }
      ]
    },
    {
      "cell_type": "code",
      "source": [
        "!mkdir '/content/drive/MyDrive/EHAW'"
      ],
      "metadata": {
        "id": "uJBafYMekoAE"
      },
      "execution_count": 68,
      "outputs": []
    },
    {
      "cell_type": "code",
      "source": [
        "shutil.make_archive('/content/drive/MyDrive/EHAW/jpg','zip','/content/jpg')"
      ],
      "metadata": {
        "colab": {
          "base_uri": "https://localhost:8080/",
          "height": 36
        },
        "id": "M37KqI2PupOF",
        "outputId": "b07f2f34-6bc2-48f4-fde4-789ab2a5446d"
      },
      "execution_count": 73,
      "outputs": [
        {
          "output_type": "execute_result",
          "data": {
            "application/vnd.google.colaboratory.intrinsic+json": {
              "type": "string"
            },
            "text/plain": [
              "'/content/drive/MyDrive/EHAW/jpg.zip'"
            ]
          },
          "metadata": {},
          "execution_count": 73
        }
      ]
    },
    {
      "cell_type": "code",
      "source": [
        "shutil.make_"
      ],
      "metadata": {
        "id": "k-H6AsObu4j_"
      },
      "execution_count": null,
      "outputs": []
    }
  ]
}
