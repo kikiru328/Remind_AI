{
  "cells": [
    {
      "cell_type": "markdown",
      "metadata": {
        "id": "view-in-github",
        "colab_type": "text"
      },
      "source": [
        "<a href=\"https://colab.research.google.com/github/kikiru328/practice_code/blob/main/Face_segmentation_unet.ipynb\" target=\"_parent\"><img src=\"https://colab.research.google.com/assets/colab-badge.svg\" alt=\"Open In Colab\"/></a>"
      ]
    },
    {
      "cell_type": "code",
      "execution_count": null,
      "metadata": {
        "id": "bry6-677r73r"
      },
      "outputs": [],
      "source": [
        "import shutil\n",
        "shutil.copy('/content/drive/MyDrive/연습용코드본/Face_Segmentation/headsegmentation_dataset_ccncsa.zip','/content/data.zip')\n",
        "shutil.unpack_archive('/content/data.zip','/content/faceSegmentation/dataset')"
      ]
    },
    {
      "cell_type": "code",
      "execution_count": null,
      "metadata": {
        "id": "_CdHWauTu1tl"
      },
      "outputs": [],
      "source": [
        "!mkdir '/content/faceSegmentation/output'"
      ]
    },
    {
      "cell_type": "code",
      "execution_count": null,
      "metadata": {
        "id": "xsGR4Vupteib"
      },
      "outputs": [],
      "source": [
        "import os\n",
        "import cv2\n",
        "from PIL import Image\n",
        "import json\n",
        "import shutil\n",
        "\n",
        "# path where the dataset is downloaded\n",
        "inputPath = r\"/content/faceSegmentation/dataset/images/\"\n",
        "labelsPath = r\"/content/faceSegmentation/dataset/labels/\"\n",
        "\n",
        "# new folder where the cleanedup and organized dataset is placed\n",
        "outputPath = r\"/content/faceSegmentation/dataset/output\"\n",
        "\n",
        "# Step 1: Look at folder arrangement\n",
        "labelsDist = sorted(os.listdir(labelsPath))"
      ]
    },
    {
      "cell_type": "code",
      "execution_count": null,
      "metadata": {
        "id": "tBXYqG2xj1dN"
      },
      "outputs": [],
      "source": [
        "for folder in labelsDist:\n",
        "    os.mkdir(os.path.join(outputPath, folder))"
      ]
    },
    {
      "cell_type": "code",
      "execution_count": null,
      "metadata": {
        "id": "15ePfRILkBBI"
      },
      "outputs": [],
      "source": [
        "folderTypes = {\"female\": [], \"male\": [], \"multiperson\": [], \"real\": []}\n",
        "\n",
        "for folder in os.listdir(inputPath):\n",
        "    if folder.startswith(\"female\"):\n",
        "        folderTypes[\"female\"].append(folder.split(\"_\")[0])\n",
        "        if os.path.isdir(os.path.join(outputPath, folderTypes[\"female\"][-1])):\n",
        "            for file in os.listdir(os.path.join(inputPath, folder)):\n",
        "                shutil.copy(os.path.join(inputPath, folder, file), os.path.join(outputPath, folderTypes[\"female\"][-1], file))\n",
        "    \n",
        "    elif folder.startswith(\"multiperson\"):\n",
        "        folderTypes[\"multiperson\"].append(folder.split(\"_\")[0])\n",
        "        if os.path.isdir(os.path.join(outputPath, folderTypes[\"multiperson\"][-1])):\n",
        "            for file in os.listdir(os.path.join(inputPath, folder)):\n",
        "                shutil.copy(os.path.join(inputPath, folder, file), os.path.join(outputPath, folderTypes[\"multiperson\"][-1], file))\n",
        "    \n",
        "    elif folder.startswith(\"male\"):\n",
        "        \n",
        "        folderTypes[\"male\"].append(folder.split(\"_\")[0])\n",
        "        if folder.startswith(\"male06\") and \"nolight\" in folder:\n",
        "            outFolder = \"male06_2\"\n",
        "        \n",
        "        elif folder.startswith(\"male06\"):\n",
        "            outFolder = \"male06_1\"\n",
        "        \n",
        "        else:\n",
        "            outFolder = folderTypes[\"male\"][-1]\n",
        "        if os.path.isdir(os.path.join(outputPath, outFolder)):\n",
        "            for file in os.listdir(os.path.join(inputPath, folder)):\n",
        "                shutil.copy(os.path.join(inputPath, folder, file), os.path.join(outputPath, outFolder, file))\n",
        "\n",
        "    else:\n",
        "        if folder.startswith(\"real\") and os.path.isdir(os.path.join(outputPath, \"real\")):\n",
        "            for file in os.listdir(os.path.join(inputPath, folder)):\n",
        "                shutil.copy(os.path.join(inputPath, folder, file), os.path.join(outputPath, \"real\", file))\n",
        "        "
      ]
    },
    {
      "cell_type": "code",
      "execution_count": null,
      "metadata": {
        "colab": {
          "base_uri": "https://localhost:8080/"
        },
        "id": "I1B7JgFGkCq7",
        "outputId": "d8940475-6834-48ec-850e-d0a2d0c61b68"
      },
      "outputs": [
        {
          "name": "stdout",
          "output_type": "stream",
          "text": [
            "female23 501 334\n",
            "femalealison1 501 167\n",
            "femalealison2 501 167\n",
            "femalebarbera 501 334\n",
            "femalecarla 501 334\n",
            "femalefelice 501 251\n",
            "femalejoyce 501 334\n",
            "femalelaura 501 334\n",
            "male06_1 351 284\n",
            "male06_2 501 393\n",
            "male09 351 117\n",
            "male23 501 167\n",
            "maleandrew 501 334\n",
            "malebruce 501 334\n",
            "malecarlos 501 334\n",
            "malecarlos2 501 251\n",
            "malecorry 501 334\n",
            "maleelias 501 333\n",
            "malegaberial 501 334\n",
            "maleshawn 501 334\n",
            "real 2505 2500\n"
          ]
        }
      ],
      "source": [
        "for folder in labelsDist:\n",
        "    if len(os.listdir(os.path.join(labelsPath, folder))) != len(os.listdir(os.path.join(outputPath, folder))):\n",
        "        print(folder, len(os.listdir(os.path.join(labelsPath, folder))), len(os.listdir(os.path.join(outputPath, folder))))\n"
      ]
    },
    {
      "cell_type": "code",
      "execution_count": null,
      "metadata": {
        "id": "YyiLFAeHZIDP"
      },
      "outputs": [],
      "source": [
        "from glob import glob\n",
        "real_labels = glob('/content/faceSegmentation/dataset/labels/real/*')\n",
        "for i, real in enumerate(real_labels):\n",
        "    f = os.path.basename(real).split('.png')[0]\n",
        "    change = str(f'r{i}')\n",
        "    os.rename(real, os.path.split(real)[0]+'/'+change+os.path.splitext(real)[1])"
      ]
    },
    {
      "cell_type": "code",
      "execution_count": null,
      "metadata": {
        "colab": {
          "base_uri": "https://localhost:8080/"
        },
        "id": "n1Q4LbNjvYRQ",
        "outputId": "56080af1-562d-4b30-8daa-2b24e961012d"
      },
      "outputs": [
        {
          "name": "stdout",
          "output_type": "stream",
          "text": [
            "image31426.jpg_RESAMPLED_5b2b5d709a20f224_scaled\n",
            "r1\n"
          ]
        }
      ],
      "source": [
        "import os\n",
        "b = os.path.basename('/content/faceSegmentation/dataset/labels/real/image31426.jpg_RESAMPLED_5b2b5d709a20f224_scaled.png').split('.png')[0]\n",
        "print(b)\n",
        "i = 1\n",
        "change = str(f'r{i}')\n",
        "b = b.replace(b,change)\n",
        "print(b)"
      ]
    },
    {
      "cell_type": "code",
      "execution_count": null,
      "metadata": {
        "id": "M36bqx-HxOon"
      },
      "outputs": [],
      "source": [
        "from glob import glob\n",
        "real_imgs = glob('/content/faceSegmentation/dataset/output/real/*')\n",
        "for i, real in enumerate(real_imgs):\n",
        "    f = os.path.basename(real).split('.png')[0]\n",
        "    change = str(f'r{i}')\n",
        "    os.rename(real, os.path.split(real)[0]+'/'+change+os.path.splitext(real)[1])"
      ]
    },
    {
      "cell_type": "code",
      "execution_count": null,
      "metadata": {
        "colab": {
          "base_uri": "https://localhost:8080/",
          "height": 36
        },
        "id": "16IKISRBx-BZ",
        "outputId": "c10fec39-b0dd-417a-d000-c01ed9a30a2e"
      },
      "outputs": [
        {
          "data": {
            "application/vnd.google.colaboratory.intrinsic+json": {
              "type": "string"
            },
            "text/plain": [
              "'/content/Ass/imgs'"
            ]
          },
          "execution_count": 38,
          "metadata": {},
          "output_type": "execute_result"
        }
      ],
      "source": [
        "shutil.copytree('/content/faceSegmentation/dataset/labels','/content/Ass/masks')\n",
        "shutil.copytree('/content/faceSegmentation/dataset/output','/content/Ass/imgs')"
      ]
    },
    {
      "cell_type": "code",
      "execution_count": null,
      "metadata": {
        "id": "OJyKUSLyyfx8"
      },
      "outputs": [],
      "source": [
        "im = glob('/content/Ass/imgs/*')\n",
        "save_path = '/content/ff/imgs'\n",
        "for a in im:\n",
        "    b = glob(a+'/*')\n",
        "    for k in b:\n",
        "        fol_name = os.path.split(k)[0].split('imgs/')[1]\n",
        "        file_name = os.path.basename(k)\n",
        "        save = f'{save_path}/{fol_name}_{file_name}'\n",
        "        shutil.copy(k,save)"
      ]
    },
    {
      "cell_type": "code",
      "execution_count": null,
      "metadata": {
        "colab": {
          "base_uri": "https://localhost:8080/"
        },
        "id": "iC5dS85-zCsn",
        "outputId": "8e2556ee-49f2-47bf-9f86-ab315aa21257"
      },
      "outputs": [
        {
          "name": "stdout",
          "output_type": "stream",
          "text": [
            "/content/ff/imgs/female03_headrende0000.png\n"
          ]
        }
      ],
      "source": [
        "a = '/content/Ass/imgs/female03/headrende0000.png'\n",
        "save_path = '/content/ff/imgs'\n",
        "fol_name = os.path.split(a)[0].split('imgs/')[1]\n",
        "file_name = os.path.basename(a)\n",
        "save = f'{save_path}/{fol_name}_{file_name}'\n",
        "print(save)"
      ]
    },
    {
      "cell_type": "code",
      "execution_count": null,
      "metadata": {
        "id": "w9s7ml8uzl47"
      },
      "outputs": [],
      "source": [
        "im = glob('/content/Ass/masks/*')\n",
        "save_path = '/content/ff/masks'\n",
        "for a in im:\n",
        "    b = glob(a+'/*')\n",
        "    for k in b:\n",
        "        fol_name = os.path.split(k)[0].split('masks/')[1]\n",
        "        file_name = os.path.basename(k)\n",
        "        save = f'{save_path}/{fol_name}_{file_name}'\n",
        "        shutil.copy(k,save)"
      ]
    },
    {
      "cell_type": "code",
      "execution_count": null,
      "metadata": {
        "id": "zkJ0skhQ03wW"
      },
      "outputs": [],
      "source": [
        "img = os.listdir('/content/ff/imgs')\n",
        "mas = os.listdir('/content/ff/masks')"
      ]
    },
    {
      "cell_type": "code",
      "execution_count": null,
      "metadata": {
        "id": "NHlMY2KH1hop"
      },
      "outputs": [],
      "source": [
        "img_ = glob('/content/ff/imgs/*')\n",
        "mas_ = glob('/content/ff/masks/*')\n",
        "\n",
        "img_j = glob('/content/ff/imgs/*.jpg')\n",
        "mas_j = glob('/content/ff/masks/*.jpg')"
      ]
    },
    {
      "cell_type": "code",
      "execution_count": null,
      "metadata": {
        "colab": {
          "base_uri": "https://localhost:8080/"
        },
        "id": "fbCGiqd716Re",
        "outputId": "282d2abd-ada6-49de-b619-ff8037dd9f2f"
      },
      "outputs": [
        {
          "name": "stdout",
          "output_type": "stream",
          "text": [
            "669\n",
            "0\n"
          ]
        }
      ],
      "source": [
        "print(len(img_j))\n",
        "print(len(mas_j))"
      ]
    },
    {
      "cell_type": "code",
      "execution_count": null,
      "metadata": {
        "colab": {
          "base_uri": "https://localhost:8080/"
        },
        "id": "csl9PwMn0_Ez",
        "outputId": "62853c83-c128-4dd4-9292-f96d15d99d04"
      },
      "outputs": [
        {
          "name": "stdout",
          "output_type": "stream",
          "text": [
            "15318\n",
            "19239\n",
            "15318\n",
            "19239\n"
          ]
        }
      ],
      "source": [
        "print(len(img))\n",
        "print(len(mas))\n",
        "print(len(img_))\n",
        "print(len(mas_))\n",
        "# 14649\n",
        "# 19239"
      ]
    },
    {
      "cell_type": "code",
      "execution_count": null,
      "metadata": {
        "id": "I5dWoE87185t"
      },
      "outputs": [],
      "source": [
        "jpg = []\n",
        "for i in img_j:\n",
        "    if '.jpg' in i:\n",
        "        jpg.append(i)\n",
        "    else:\n",
        "        pass"
      ]
    },
    {
      "cell_type": "code",
      "execution_count": null,
      "metadata": {
        "colab": {
          "base_uri": "https://localhost:8080/"
        },
        "id": "Yh6WS15O2DoN",
        "outputId": "4d77bff3-5739-4f6e-c823-5e5d85fa6d38"
      },
      "outputs": [
        {
          "data": {
            "text/plain": [
              "669"
            ]
          },
          "execution_count": 68,
          "metadata": {},
          "output_type": "execute_result"
        }
      ],
      "source": [
        "len(jpg)"
      ]
    },
    {
      "cell_type": "code",
      "execution_count": null,
      "metadata": {
        "colab": {
          "base_uri": "https://localhost:8080/",
          "height": 36
        },
        "id": "wqaX-SJV2KFM",
        "outputId": "25ea5455-c993-4a9a-b14c-a69fe42243fe"
      },
      "outputs": [
        {
          "data": {
            "application/vnd.google.colaboratory.intrinsic+json": {
              "type": "string"
            },
            "text/plain": [
              "'real_r949.png'"
            ]
          },
          "execution_count": 72,
          "metadata": {},
          "output_type": "execute_result"
        }
      ],
      "source": [
        "os.path.basename(jpg[0]).replace('jpg','png')"
      ]
    },
    {
      "cell_type": "code",
      "execution_count": null,
      "metadata": {
        "colab": {
          "base_uri": "https://localhost:8080/",
          "height": 36
        },
        "id": "Z_hfxZ9Q2qxE",
        "outputId": "8f400c28-d91a-4b86-b5b1-9a3391c3a997"
      },
      "outputs": [
        {
          "data": {
            "application/vnd.google.colaboratory.intrinsic+json": {
              "type": "string"
            },
            "text/plain": [
              "'/content/ff/imgsreal_r949.png'"
            ]
          },
          "execution_count": 75,
          "metadata": {},
          "output_type": "execute_result"
        }
      ],
      "source": [
        "os.path.dirname(jpg[0]) + os.path.basename(jpg[0]).replace('jpg','png')"
      ]
    },
    {
      "cell_type": "code",
      "execution_count": null,
      "metadata": {
        "id": "dnOcyhcf2EsD"
      },
      "outputs": [],
      "source": [
        "for i in jpg:\n",
        "    change = os.path.basename(i).replace('.jpg','png')\n",
        "    os.rename(i, os.path.dirname(i)+ '/' + os.path.basename(i).replace('jpg','png'))"
      ]
    },
    {
      "cell_type": "code",
      "execution_count": null,
      "metadata": {
        "id": "Y7Ph9PW61UV9"
      },
      "outputs": [],
      "source": [
        "img_j_c = glob('/content/ff/imgs/*.jpg')\n",
        "mas_j_c = glob('/content/ff/masks/*.jpg')"
      ]
    },
    {
      "cell_type": "code",
      "execution_count": null,
      "metadata": {
        "colab": {
          "base_uri": "https://localhost:8080/"
        },
        "id": "ZIp1lurn3FVd",
        "outputId": "26ae9c4f-3784-4eda-e5ae-d1aa802604eb"
      },
      "outputs": [
        {
          "name": "stdout",
          "output_type": "stream",
          "text": [
            "0\n",
            "0\n"
          ]
        }
      ],
      "source": [
        "print(len(img_j_c))\n",
        "print(len(mas_j_c))"
      ]
    },
    {
      "cell_type": "code",
      "execution_count": null,
      "metadata": {
        "id": "9QDptbA23HF1"
      },
      "outputs": [],
      "source": [
        "img = os.listdir('/content/ff/imgs')\n",
        "mas = os.listdir('/content/ff/masks')\n",
        "\n",
        "img_ = glob('/content/ff/imgs/*')\n",
        "mas_ = glob('/content/ff/masks/*')\n",
        "\n",
        "img_j = glob('/content/ff/imgs/*.jpg')\n",
        "mas_j = glob('/content/ff/masks/*.jpg')"
      ]
    },
    {
      "cell_type": "code",
      "execution_count": null,
      "metadata": {
        "colab": {
          "base_uri": "https://localhost:8080/"
        },
        "id": "NlpOuy103NRd",
        "outputId": "d23d23da-ccf3-4926-f15a-329b6c660263"
      },
      "outputs": [
        {
          "name": "stdout",
          "output_type": "stream",
          "text": [
            "15318\n",
            "19239\n",
            "15318\n",
            "19239\n",
            "0\n",
            "0\n"
          ]
        }
      ],
      "source": [
        "print(len(img))\n",
        "print(len(mas))\n",
        "print(len(img_))\n",
        "print(len(mas_))\n",
        "print(len(img_j))\n",
        "print(len(mas_j))"
      ]
    },
    {
      "cell_type": "code",
      "execution_count": null,
      "metadata": {
        "colab": {
          "base_uri": "https://localhost:8080/",
          "height": 36
        },
        "id": "I_RbbQoy3OxT",
        "outputId": "e291f898-1e27-4c3b-b0b4-cfa1780c5fad"
      },
      "outputs": [
        {
          "data": {
            "application/vnd.google.colaboratory.intrinsic+json": {
              "type": "string"
            },
            "text/plain": [
              "'femalefelice_headrende0080.png'"
            ]
          },
          "execution_count": 85,
          "metadata": {},
          "output_type": "execute_result"
        }
      ],
      "source": [
        "img[0]"
      ]
    },
    {
      "cell_type": "code",
      "execution_count": null,
      "metadata": {
        "colab": {
          "base_uri": "https://localhost:8080/",
          "height": 36
        },
        "id": "Lrg7iY6N3cqu",
        "outputId": "080c1945-0ab1-4e3a-85da-eaaedca57c97"
      },
      "outputs": [
        {
          "data": {
            "application/vnd.google.colaboratory.intrinsic+json": {
              "type": "string"
            },
            "text/plain": [
              "'malecarlos_headrende0006.png'"
            ]
          },
          "execution_count": 86,
          "metadata": {},
          "output_type": "execute_result"
        }
      ],
      "source": [
        "mas[0]"
      ]
    },
    {
      "cell_type": "code",
      "execution_count": null,
      "metadata": {
        "id": "3xTVg36k3dqT"
      },
      "outputs": [],
      "source": [
        "error = []\n",
        "for m in mas:\n",
        "    if m not in img:\n",
        "        error.append(m)"
      ]
    },
    {
      "cell_type": "code",
      "execution_count": null,
      "metadata": {
        "colab": {
          "base_uri": "https://localhost:8080/"
        },
        "id": "vvbz_egH3lGC",
        "outputId": "dc25e5db-7cff-46fd-a7c9-ee42e763988f"
      },
      "outputs": [
        {
          "data": {
            "text/plain": [
              "3971"
            ]
          },
          "execution_count": 88,
          "metadata": {},
          "output_type": "execute_result"
        }
      ],
      "source": [
        "len(error)"
      ]
    },
    {
      "cell_type": "code",
      "execution_count": null,
      "metadata": {
        "colab": {
          "base_uri": "https://localhost:8080/"
        },
        "id": "mXj8K8-H3mbQ",
        "outputId": "45a2d31d-0fd2-4c72-a935-c61cc2d2eae6"
      },
      "outputs": [
        {
          "data": {
            "text/plain": [
              "3921"
            ]
          },
          "execution_count": 89,
          "metadata": {},
          "output_type": "execute_result"
        }
      ],
      "source": [
        "19239-15318"
      ]
    },
    {
      "cell_type": "code",
      "execution_count": null,
      "metadata": {
        "colab": {
          "base_uri": "https://localhost:8080/",
          "height": 36
        },
        "id": "RzrIjvmO3oHP",
        "outputId": "3e333b71-7d58-4c7d-f1b2-a3fb63e57681"
      },
      "outputs": [
        {
          "data": {
            "application/vnd.google.colaboratory.intrinsic+json": {
              "type": "string"
            },
            "text/plain": [
              "'malecarlos_headrende0006.png'"
            ]
          },
          "execution_count": 90,
          "metadata": {},
          "output_type": "execute_result"
        }
      ],
      "source": [
        "error[0]"
      ]
    },
    {
      "cell_type": "code",
      "execution_count": null,
      "metadata": {
        "colab": {
          "background_save": true,
          "base_uri": "https://localhost:8080/",
          "height": 287
        },
        "id": "8j_mw9YB3pbE",
        "outputId": "a7ec0523-99bd-42c9-901b-dda518ee565e"
      },
      "outputs": [
        {
          "data": {
            "text/plain": [
              "<matplotlib.image.AxesImage at 0x7f697ddba910>"
            ]
          },
          "execution_count": null,
          "metadata": {},
          "output_type": "execute_result"
        },
        {
          "data": {
            "image/png": "[encoded data removed]",
            "text/plain": [
              "<Figure size 432x288 with 2 Axes>"
            ]
          },
          "metadata": {},
          "output_type": "display_data"
        }
      ],
      "source": [
        "import matplotlib.pyplot as plt\n",
        "import cv2\n",
        "plt.subplot(121)\n",
        "plt.imshow(cv2.imread(os.path.dirname(mas_[0]) + '/' + error[0]))\n",
        "plt.subplot(122)\n",
        "plt.imshow(cv2.imread(os.path.dirname(img_[0]+'/'+_)))"
      ]
    },
    {
      "cell_type": "code",
      "execution_count": null,
      "metadata": {
        "id": "37Mu8s2P3ruW"
      },
      "outputs": [],
      "source": [
        ""
      ]
    }
  ],
  "metadata": {
    "accelerator": "GPU",
    "colab": {
      "machine_shape": "hm",
      "name": "Face_segmentation_unet.ipynb",
      "provenance": [],
      "mount_file_id": "1NUByESa8aE_9gqupyi4KLAr_EEAfgy81",
      "authorship_tag": "ABX9TyMmiQyFUpaci9oVn0aKHJ68",
      "include_colab_link": true
    },
    "kernelspec": {
      "display_name": "Python 3",
      "name": "python3"
    },
    "language_info": {
      "name": "python"
    }
  },
  "nbformat": 4,
  "nbformat_minor": 0
}