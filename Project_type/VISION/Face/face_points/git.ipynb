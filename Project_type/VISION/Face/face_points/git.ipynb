{
 "cells": [
  {
   "cell_type": "code",
   "execution_count": null,
   "metadata": {},
   "outputs": [],
   "source": []
  }
 ],
 "metadata": {
  "interpreter": {
   "hash": "a3ac255450185710a7cc1db9e19d025141db62d38fb92a986d4e37a2e3b90af2"
  },
  "kernelspec": {
   "display_name": "Python 3.8.12 ('image')",
   "language": "python",
   "name": "python3"
  },
  "language_info": {
   "name": "python",
   "version": "3.8.12"
  },
  "orig_nbformat": 4
 },
 "nbformat": 4,
 "nbformat_minor": 2
}
