{
 "cells": [
  {
   "cell_type": "code",
   "execution_count": null,
   "metadata": {},
   "outputs": [],
   "source": [
    "%pwd"
   ]
  },
  {
   "cell_type": "code",
   "execution_count": null,
   "metadata": {},
   "outputs": [],
   "source": [
    "import pandas as pd\n",
    "import cv2\n",
    "import mediapipe as mp\n",
    "import time\n",
    "import matplotlib.pyplot as plt\n",
    "import os"
   ]
  },
  {
   "cell_type": "code",
   "execution_count": null,
   "metadata": {},
   "outputs": [],
   "source": [
    "raw_img = './sample_img/L1/E01/C1.jpg'\n",
    "cap = cv2.VideoCapture(raw_img)\n",
    "mpDraw = mp.solutions.drawing_utils\n",
    "mpFaceMesh = mp.solutions.face_mesh\n",
    "faceMesh = mpFaceMesh.FaceMesh(max_num_faces = 2)\n",
    "\n",
    "drawSpec = mpDraw.DrawingSpec(color=(0,0,255) ,thickness=1, circle_radius=2)\n",
    "suc, img = cap.read()\n",
    "imgRGB = cv2.cvtColor(img, cv2.COLOR_BGR2RGB)\n",
    "results = faceMesh.process(imgRGB)"
   ]
  },
  {
   "cell_type": "code",
   "execution_count": null,
   "metadata": {},
   "outputs": [],
   "source": [
    "if results.multi_face_landmarks:\n",
    "    for faceLms in results.multi_face_landmarks:\n",
    "        mpDraw.draw_landmarks(img, faceLms, mpFaceMesh.FACEMESH_CONTOURS,\n",
    "                            drawSpec, drawSpec)\n",
    "        \n",
    "        id_,x_,y_ = [],[],[]            \n",
    "        for id, lm in enumerate(faceLms.landmark):\n",
    "            #print(lm)\n",
    "            ih, iw, ic = img.shape\n",
    "            x, y = int(lm.x*iw), int(lm.y*ih)\n",
    "            id_.append(id)\n",
    "            x_.append(x)\n",
    "            y_.append(y)\n",
    "            print(id,x,y)\n",
    "        meta = pd.DataFrame({'number':id_,'x':x_,'y':y_})\n",
    "        meta.to_csv(f'./sample_img/{name}_img_point.csv',index=False, encoding='utf-8-sig')"
   ]
  },
  {
   "cell_type": "code",
   "execution_count": null,
   "metadata": {},
   "outputs": [],
   "source": [
    "raw_img = './sample_img/L1/E01/C1.jpg'\n",
    "cap = cv2.VideoCapture(0)\n",
    "pTime = 0\n",
    "# name = os.path.basename(raw_img).split('.')[0]\n",
    "\n",
    "mpDraw = mp.solutions.drawing_utils\n",
    "mpFaceMesh = mp.solutions.face_mesh\n",
    "faceMesh = mpFaceMesh.FaceMesh(max_num_faces = 2)\n",
    "\n",
    "drawSpec = mpDraw.DrawingSpec(color=(0,0,255) ,thickness=1, circle_radius=2)\n",
    "while True:\n",
    "    success, img = cap.read()\n",
    "    imgRGB = cv2.cvtColor(img, cv2.COLOR_BGR2RGB)\n",
    "    results = faceMesh.process(imgRGB)\n",
    "    if results.multi_face_landmarks:\n",
    "        for faceLms in results.multi_face_landmarks:\n",
    "            mpDraw.draw_landmarks(img, faceLms, mpFaceMesh.FACEMESH_CONTOURS,\n",
    "                                drawSpec, drawSpec)\n",
    "            \n",
    "            id_,x_,y_ = [],[],[]            \n",
    "            for id, lm in enumerate(faceLms.landmark):\n",
    "                #print(lm)\n",
    "                ih, iw, ic = img.shape\n",
    "                x, y = int(lm.x*iw), int(lm.y*ih)\n",
    "                id_.append(id)\n",
    "                x_.append(x)\n",
    "                y_.append(y)\n",
    "                print(id,x,y)\n",
    "            # meta = pd.DataFrame({'number':id_,'x':x_,'y':y_})\n",
    "            # meta.to_csv(f'./sample_img/{name}_img_point.csv',index=False, encoding='utf-8-sig')\n",
    "                \n",
    "\n",
    "\n",
    "        \n",
    "        cTime = time.time()\n",
    "        fps = 1 / (cTime - pTime)\n",
    "        pTime = cTime\n",
    "        cv2.putText(img, f'FPS: {int(fps)}', (20,70), cv2.FONT_HERSHEY_PLAIN,\n",
    "                    3, (0, 255, 0), 3)\n",
    "        cv2.imshow('front',img)\n",
    "        # cv2.imwrite('./sample_img/C7_mesh.jpg',img)\n",
    "        cv2.waitKey(1)\n",
    "        break\n",
    "\n",
    "\n",
    "cap.release()\n",
    "# cv2.destroyAllWindows()\n"
   ]
  },
  {
   "cell_type": "code",
   "execution_count": null,
   "metadata": {},
   "outputs": [],
   "source": [
    "cv2.destroyAllWindows()"
   ]
  },
  {
   "cell_type": "code",
   "execution_count": null,
   "metadata": {},
   "outputs": [],
   "source": [
    "raw_img = plt.imread('./sample_img/L1/E01/C1.jpg')"
   ]
  },
  {
   "cell_type": "code",
   "execution_count": null,
   "metadata": {},
   "outputs": [],
   "source": [
    "plt.imshow(raw_img)"
   ]
  },
  {
   "cell_type": "code",
   "execution_count": null,
   "metadata": {},
   "outputs": [],
   "source": [
    "sample_mesh_img = plt.imread('./sample_img/C7_mesh.jpg')\n",
    "sample_img_point = pd.read_csv('./sample_img/C7_img_point.csv')"
   ]
  },
  {
   "cell_type": "code",
   "execution_count": null,
   "metadata": {},
   "outputs": [],
   "source": [
    "plt.imshow(sample_mesh_img)"
   ]
  },
  {
   "cell_type": "code",
   "execution_count": null,
   "metadata": {},
   "outputs": [],
   "source": [
    "import cv2\n",
    "import mediapipe as mp"
   ]
  },
  {
   "cell_type": "code",
   "execution_count": null,
   "metadata": {},
   "outputs": [],
   "source": [
    "mp_drawing = mp.solutions.drawing_utils\n",
    "mp_drawing_styles = mp.solutions.drawing_styles\n",
    "mp_face_mesh = mp.solutions.face_mesh"
   ]
  },
  {
   "cell_type": "code",
   "execution_count": null,
   "metadata": {},
   "outputs": [],
   "source": [
    "rawing_spec = mp_drawing.DrawingSpec(thickness=1, circle_radius=1)\n",
    "cap = cv2.VideoCapture(0)\n",
    "\n",
    "with mp_face_mesh.FaceMesh(min_detection_confidence=0.5, min_tracking_confidence=0.5) as face_mesh:\n",
    "  while True:\n",
    "    success, image = cap.read()\n",
    "    image = cv2.cvtColor(image, cv2.COLOR_BGR2RGB)\n",
    "    ## image = cv2.cvtColor(cv2.flip(image, 1), cv2.COLOR_BGR2RGB)\n",
    "    # image.flags.writeable = False    \n",
    "    results = face_mesh.process(image)\n",
    "    # image.flags.writeable = True\n",
    "    image = cv2.cvtColor(image,cv2.COLOR_RGB2BGR)\n",
    "    \n",
    "    if results.multi_face_landmarks:\n",
    "        for face_landmarks in results.multi_face_landmarks:\n",
    "            mp_drawing.draw_landmarks(\n",
    "                image = image,\n",
    "                landmark_list = face_landmarks,\n",
    "                connections = mp_face_mesh.FACEMESH_TESSELATION,\n",
    "                landmark_drawing_spec = None,\n",
    "                connection_drawing_spec = mp_drawing_styles.get_default_face_mesh_tesselation_style()\n",
    "            )\n",
    "    cv2.imshow('Test',image)\n",
    "    if cv2.waitKey(5) % 0xFF == 27:\n",
    "        break\n",
    "\n",
    "cap.release()"
   ]
  },
  {
   "cell_type": "code",
   "execution_count": null,
   "metadata": {},
   "outputs": [],
   "source": [
    "cv2.destroyAllWindows()"
   ]
  },
  {
   "cell_type": "code",
   "execution_count": null,
   "metadata": {},
   "outputs": [],
   "source": []
  }
 ],
 "metadata": {
  "interpreter": {
   "hash": "25f7c3ffaa54cbbbe34bdcc6bc99125d70fac9626f566982e2302abfb455c209"
  },
  "kernelspec": {
   "display_name": "Python 3 (ipykernel)",
   "language": "python",
   "name": "python3"
  },
  "language_info": {
   "codemirror_mode": {
    "name": "ipython",
    "version": 3
   },
   "file_extension": ".py",
   "mimetype": "text/x-python",
   "name": "python",
   "nbconvert_exporter": "python",
   "pygments_lexer": "ipython3",
   "version": "3.8.12"
  }
 },
 "nbformat": 4,
 "nbformat_minor": 4
}
