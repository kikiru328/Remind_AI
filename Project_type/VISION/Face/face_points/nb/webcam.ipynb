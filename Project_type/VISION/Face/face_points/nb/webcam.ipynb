{
 "cells": [
  {
   "cell_type": "code",
   "execution_count": 2,
   "metadata": {},
   "outputs": [
    {
     "ename": "error",
     "evalue": "OpenCV(4.5.5) D:\\a\\opencv-python\\opencv-python\\opencv\\modules\\imgproc\\src\\color.cpp:182: error: (-215:Assertion failed) !_src.empty() in function 'cv::cvtColor'\n",
     "output_type": "error",
     "traceback": [
      "\u001b[1;31m---------------------------------------------------------------------------\u001b[0m",
      "\u001b[1;31merror\u001b[0m                                     Traceback (most recent call last)",
      "\u001b[1;32m\\데이터사업추진팀\\01. 프로젝트\\12. NIPA AI 바우처\\2022\\03_동서한의원\\Data\\SideMesh.ipynb Cell 1'\u001b[0m in \u001b[0;36m<module>\u001b[1;34m\u001b[0m\n\u001b[0;32m     <a href='vscode-notebook-cell://172.30.1.8/%EB%8D%B0%EC%9D%B4%ED%84%B0%EC%82%AC%EC%97%85%EC%B6%94%EC%A7%84%ED%8C%80/01.%20%ED%94%84%EB%A1%9C%EC%A0%9D%ED%8A%B8/12.%20NIPA%20AI%20%EB%B0%94%EC%9A%B0%EC%B2%98/2022/03_%EB%8F%99%EC%84%9C%ED%95%9C%EC%9D%98%EC%9B%90/Data/SideMesh.ipynb#ch0000000?line=13'>14</a>\u001b[0m \u001b[39mwhile\u001b[39;00m \u001b[39mTrue\u001b[39;00m:\n\u001b[0;32m     <a href='vscode-notebook-cell://172.30.1.8/%EB%8D%B0%EC%9D%B4%ED%84%B0%EC%82%AC%EC%97%85%EC%B6%94%EC%A7%84%ED%8C%80/01.%20%ED%94%84%EB%A1%9C%EC%A0%9D%ED%8A%B8/12.%20NIPA%20AI%20%EB%B0%94%EC%9A%B0%EC%B2%98/2022/03_%EB%8F%99%EC%84%9C%ED%95%9C%EC%9D%98%EC%9B%90/Data/SideMesh.ipynb#ch0000000?line=14'>15</a>\u001b[0m   success, image \u001b[39m=\u001b[39m cap\u001b[39m.\u001b[39mread()\n\u001b[1;32m---> <a href='vscode-notebook-cell://172.30.1.8/%EB%8D%B0%EC%9D%B4%ED%84%B0%EC%82%AC%EC%97%85%EC%B6%94%EC%A7%84%ED%8C%80/01.%20%ED%94%84%EB%A1%9C%EC%A0%9D%ED%8A%B8/12.%20NIPA%20AI%20%EB%B0%94%EC%9A%B0%EC%B2%98/2022/03_%EB%8F%99%EC%84%9C%ED%95%9C%EC%9D%98%EC%9B%90/Data/SideMesh.ipynb#ch0000000?line=15'>16</a>\u001b[0m   image \u001b[39m=\u001b[39m cv2\u001b[39m.\u001b[39;49mcvtColor(image, cv2\u001b[39m.\u001b[39;49mCOLOR_BGR2RGB)\n\u001b[0;32m     <a href='vscode-notebook-cell://172.30.1.8/%EB%8D%B0%EC%9D%B4%ED%84%B0%EC%82%AC%EC%97%85%EC%B6%94%EC%A7%84%ED%8C%80/01.%20%ED%94%84%EB%A1%9C%EC%A0%9D%ED%8A%B8/12.%20NIPA%20AI%20%EB%B0%94%EC%9A%B0%EC%B2%98/2022/03_%EB%8F%99%EC%84%9C%ED%95%9C%EC%9D%98%EC%9B%90/Data/SideMesh.ipynb#ch0000000?line=16'>17</a>\u001b[0m   \u001b[39m## image = cv2.cvtColor(cv2.flip(image, 1), cv2.COLOR_BGR2RGB)\u001b[39;00m\n\u001b[0;32m     <a href='vscode-notebook-cell://172.30.1.8/%EB%8D%B0%EC%9D%B4%ED%84%B0%EC%82%AC%EC%97%85%EC%B6%94%EC%A7%84%ED%8C%80/01.%20%ED%94%84%EB%A1%9C%EC%A0%9D%ED%8A%B8/12.%20NIPA%20AI%20%EB%B0%94%EC%9A%B0%EC%B2%98/2022/03_%EB%8F%99%EC%84%9C%ED%95%9C%EC%9D%98%EC%9B%90/Data/SideMesh.ipynb#ch0000000?line=17'>18</a>\u001b[0m   \u001b[39m# image.flags.writeable = False    \u001b[39;00m\n\u001b[0;32m     <a href='vscode-notebook-cell://172.30.1.8/%EB%8D%B0%EC%9D%B4%ED%84%B0%EC%82%AC%EC%97%85%EC%B6%94%EC%A7%84%ED%8C%80/01.%20%ED%94%84%EB%A1%9C%EC%A0%9D%ED%8A%B8/12.%20NIPA%20AI%20%EB%B0%94%EC%9A%B0%EC%B2%98/2022/03_%EB%8F%99%EC%84%9C%ED%95%9C%EC%9D%98%EC%9B%90/Data/SideMesh.ipynb#ch0000000?line=18'>19</a>\u001b[0m   results \u001b[39m=\u001b[39m face_mesh\u001b[39m.\u001b[39mprocess(image)\n",
      "\u001b[1;31merror\u001b[0m: OpenCV(4.5.5) D:\\a\\opencv-python\\opencv-python\\opencv\\modules\\imgproc\\src\\color.cpp:182: error: (-215:Assertion failed) !_src.empty() in function 'cv::cvtColor'\n"
     ]
    }
   ],
   "source": [
    "import cv2\n",
    "import mediapipe as mp\n",
    "\n",
    "mp_drawing = mp.solutions.drawing_utils\n",
    "# mp_drawing_styles = mp.solutions.drawing_styles/\n",
    "mpFaceMesh = mp.solutions.face_mesh\n",
    "mp_face_mesh = mp.solutions.face_mesh\n",
    "\n",
    "drawSpec = mp_drawing.DrawingSpec(color=(0,0,255) ,thickness=1, circle_radius=2)\n",
    "# rawing_spec = mp_drawing.DrawingSpec(thickness=1, circle_radius=1)\n",
    "cap = cv2.VideoCapture('./sample_img/L1/E01/C1.jpg')\n",
    "\n",
    "with mp_face_mesh.FaceMesh(min_detection_confidence=0.5, min_tracking_confidence=0.5) as face_mesh:\n",
    "  while True:\n",
    "    success, image = cap.read()\n",
    "    image = cv2.cvtColor(image, cv2.COLOR_BGR2RGB)\n",
    "    ## image = cv2.cvtColor(cv2.flip(image, 1), cv2.COLOR_BGR2RGB)\n",
    "    # image.flags.writeable = False    \n",
    "    results = face_mesh.process(image)\n",
    "    # image.flags.writeable = True\n",
    "    image = cv2.cvtColor(image,cv2.COLOR_RGB2BGR)\n",
    "    \n",
    "    if results.multi_face_landmarks:\n",
    "        for face_landmarks in results.multi_face_landmarks:\n",
    "            mp_drawing.draw_landmarks(\n",
    "                image = image,\n",
    "                landmark_list = face_landmarks,\n",
    "                connections = mp_face_mesh.FACEMESH_TESSELATION,\n",
    "                landmark_drawing_spec = None,\n",
    "                connection_drawing_spec = mp_drawing_styles.get_default_face_mesh_tesselation_style()\n",
    "            )\n",
    "    cv2.imshow('Test',image)\n",
    "    if cv2.waitKey(5) % 0xFF == 27:\n",
    "        break\n",
    "\n",
    "cap.release()"
   ]
  },
  {
   "cell_type": "code",
   "execution_count": 3,
   "metadata": {},
   "outputs": [],
   "source": [
    "cv2.destroyAllWindows()"
   ]
  },
  {
   "cell_type": "code",
   "execution_count": null,
   "metadata": {},
   "outputs": [],
   "source": []
  }
 ],
 "metadata": {
  "interpreter": {
   "hash": "de95bf8ce29bf47d8cef7f3579a7ccec5208b8ca16c2cdd95dbf33e2d755019f"
  },
  "kernelspec": {
   "display_name": "Python 3.8.12 ('face')",
   "language": "python",
   "name": "python3"
  },
  "language_info": {
   "codemirror_mode": {
    "name": "ipython",
    "version": 3
   },
   "file_extension": ".py",
   "mimetype": "text/x-python",
   "name": "python",
   "nbconvert_exporter": "python",
   "pygments_lexer": "ipython3",
   "version": "3.8.12"
  },
  "orig_nbformat": 4
 },
 "nbformat": 4,
 "nbformat_minor": 2
}
