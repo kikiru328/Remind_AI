{
 "cells": [
  {
   "cell_type": "code",
   "execution_count": 4,
   "id": "33cdd69d-7678-4dee-ae76-f4cd70e91377",
   "metadata": {},
   "outputs": [],
   "source": [
    "import os\n",
    "os.chdir('Download/down/down/')"
   ]
  },
  {
   "cell_type": "code",
   "execution_count": 5,
   "id": "79179685-84fa-4e6b-81bb-ba5e28a9967f",
   "metadata": {},
   "outputs": [],
   "source": [
    "import pandas as pd\n",
    "total = pd.read_csv('data/표준경혈DB.csv')"
   ]
  },
  {
   "cell_type": "code",
   "execution_count": 40,
   "id": "17351bd3-756d-4b3f-87dd-d4875dbc2d7a",
   "metadata": {},
   "outputs": [],
   "source": [
    "before = pd.read_csv('data/표준경혈DB_encoding.csv')\n",
    "new = pd.read_csv('spiders/data/표준경혈DB.csv')"
   ]
  },
  {
   "cell_type": "code",
   "execution_count": 41,
   "id": "a9c4f9db-dd22-4a16-8d87-2c00dbfafd7d",
   "metadata": {},
   "outputs": [
    {
     "data": {
      "text/html": [
       "<div>\n",
       "<style scoped>\n",
       "    .dataframe tbody tr th:only-of-type {\n",
       "        vertical-align: middle;\n",
       "    }\n",
       "\n",
       "    .dataframe tbody tr th {\n",
       "        vertical-align: top;\n",
       "    }\n",
       "\n",
       "    .dataframe thead th {\n",
       "        text-align: right;\n",
       "    }\n",
       "</style>\n",
       "<table border=\"1\" class=\"dataframe\">\n",
       "  <thead>\n",
       "    <tr style=\"text-align: right;\">\n",
       "      <th></th>\n",
       "      <th>대분류</th>\n",
       "      <th>중분류</th>\n",
       "      <th>소분류</th>\n",
       "      <th>코드</th>\n",
       "      <th>부위</th>\n",
       "      <th>취혈</th>\n",
       "      <th>침구법</th>\n",
       "      <th>url</th>\n",
       "    </tr>\n",
       "  </thead>\n",
       "  <tbody>\n",
       "    <tr>\n",
       "      <th>0</th>\n",
       "      <td>수소음심경 (HT)</td>\n",
       "      <td>HT1 극천</td>\n",
       "      <td>극천</td>\n",
       "      <td>HT1</td>\n",
       "      <td>겨드랑, 겨드랑 중심(centre of the axillary fossa), 겨드랑...</td>\n",
       "      <td>팔꿈치를 구부리고 팔을 들어 손바닥을 머리 뒤쪽에 두고, 겨드랑동맥이 뛰는 부위를 ...</td>\n",
       "      <td>- 直刺 0.2～0.5寸 (上向하여 겨드랑이로 향해)\\n- 혈관, 신경을 찌르지 않...</td>\n",
       "      <td>https://www.kmcric.com/database/acupoint/HT/HT1</td>\n",
       "    </tr>\n",
       "    <tr>\n",
       "      <th>1</th>\n",
       "      <td>수소음심경 (HT)</td>\n",
       "      <td>HT2 청령</td>\n",
       "      <td>청령</td>\n",
       "      <td>HT2</td>\n",
       "      <td>위팔 안쪽면, 위팔두갈래근(biceps brachii muscle)의 안쪽모서리 바...</td>\n",
       "      <td>팔꿈치를 굽히고 위팔을 외전했을 때, 極泉(HT1)과 少海(HT3)를 연결하는 선에...</td>\n",
       "      <td>- 直刺 0.3～0.5寸 (臂內側에서 外側으로)\\n- 斜刺 0.5～1寸</td>\n",
       "      <td>https://www.kmcric.com/database/acupoint/HT/HT2</td>\n",
       "    </tr>\n",
       "    <tr>\n",
       "      <th>2</th>\n",
       "      <td>수소음심경 (HT)</td>\n",
       "      <td>HT5 통리</td>\n",
       "      <td>통리</td>\n",
       "      <td>HT5</td>\n",
       "      <td>아래팔 앞안쪽면, 자쪽손목굽힘근힘줄(flexor carpi ulnaris tendo...</td>\n",
       "      <td>콩알뼈 몸쪽모서리 노쪽에서 몸 쪽으로 1寸, 즉 神門(HT7)에서 몸 쪽으로 1寸,...</td>\n",
       "      <td>- 直刺 0.3～0.5寸\\n- 斜刺 0.5～1寸</td>\n",
       "      <td>https://www.kmcric.com/database/acupoint/HT/HT5</td>\n",
       "    </tr>\n",
       "    <tr>\n",
       "      <th>3</th>\n",
       "      <td>수소음심경 (HT)</td>\n",
       "      <td>HT7 신문</td>\n",
       "      <td>신문</td>\n",
       "      <td>HT7</td>\n",
       "      <td>손목 앞안쪽면, 자쪽손목굽힘근힘줄(flexor carpi ulnaris tendon...</td>\n",
       "      <td>손바닥을 위로 향했을 때, 콩알뼈(pisiform bone) 몸 쪽 모서리의 노쪽 ...</td>\n",
       "      <td>- 直刺 0.2～0.5寸\\n- 斜刺 0.5～0.8寸</td>\n",
       "      <td>https://www.kmcric.com/database/acupoint/HT/HT7</td>\n",
       "    </tr>\n",
       "    <tr>\n",
       "      <th>4</th>\n",
       "      <td>수소음심경 (HT)</td>\n",
       "      <td>HT9 소충</td>\n",
       "      <td>소충</td>\n",
       "      <td>HT9</td>\n",
       "      <td>새끼손가락, 끝마디뼈(distal phalanx)의 노쪽, 새끼손톱 노쪽 뿌리각(r...</td>\n",
       "      <td>새끼손톱의 노쪽모서리를 지나는 수직선과 손톱뿌리를 지나는 수평선이 만나는 지점에서 ...</td>\n",
       "      <td>- 直刺 0.1～0.2寸\\n- 斜刺 0.2～0.3寸\\n- 三稜鍼으로 點刺出血</td>\n",
       "      <td>https://www.kmcric.com/database/acupoint/HT/HT9</td>\n",
       "    </tr>\n",
       "    <tr>\n",
       "      <th>...</th>\n",
       "      <td>...</td>\n",
       "      <td>...</td>\n",
       "      <td>...</td>\n",
       "      <td>...</td>\n",
       "      <td>...</td>\n",
       "      <td>...</td>\n",
       "      <td>...</td>\n",
       "      <td>...</td>\n",
       "    </tr>\n",
       "    <tr>\n",
       "      <th>204</th>\n",
       "      <td>경외기혈 (EX)</td>\n",
       "      <td>EX-LE3 백충와</td>\n",
       "      <td>백충와</td>\n",
       "      <td>EX-LE3</td>\n",
       "      <td>넓적다리의 안쪽, 무릎뼈바닥(base of patellae) 안쪽끝에서 위로 3寸.</td>\n",
       "      <td>환자로 하여금 바르게 앉아 무릎을 굽히게 하거나 또는 바로 누워 무릎을 편 후, 무...</td>\n",
       "      <td>- 直刺 0.5～1寸</td>\n",
       "      <td>https://www.kmcric.com/database/acupoint/EX/EX...</td>\n",
       "    </tr>\n",
       "    <tr>\n",
       "      <th>205</th>\n",
       "      <td>경외기혈 (EX)</td>\n",
       "      <td>EX-LE4 내슬안</td>\n",
       "      <td>내슬안</td>\n",
       "      <td>EX-LE4</td>\n",
       "      <td>무릎부위, 무릎뼈 아래모서리, 무릎인대(ligamentum patellae)의 안쪽...</td>\n",
       "      <td>무릎을 45° 구부리고, 무릎뼈 안쪽 아래의 오목한 곳에서 취혈한다.</td>\n",
       "      <td>- 무릎 중앙을 향해 斜刺 0.5～1寸\\n- 外上方으로 1.5～2寸 刺入\\n- 外膝...</td>\n",
       "      <td>https://www.kmcric.com/database/acupoint/EX/EX...</td>\n",
       "    </tr>\n",
       "    <tr>\n",
       "      <th>206</th>\n",
       "      <td>경외기혈 (EX)</td>\n",
       "      <td>EX-LE5 슬안</td>\n",
       "      <td>슬안</td>\n",
       "      <td>EX-LE5</td>\n",
       "      <td>무릎부위, 무릎뼈 아래모서리, 무릎인대(ligamentum patellae)의 양쪽...</td>\n",
       "      <td>무릎을 45° 구부리고, 무릎뼈 양쪽 아래의 오목한 곳에서 취혈한다.</td>\n",
       "      <td>- 무릎 중앙을 향해 斜刺 0.5～1寸\\n- 外膝眼에서는 內上方으로, 內膝眼에서는 ...</td>\n",
       "      <td>https://www.kmcric.com/database/acupoint/EX/EX...</td>\n",
       "    </tr>\n",
       "    <tr>\n",
       "      <th>207</th>\n",
       "      <td>경외기혈 (EX)</td>\n",
       "      <td>EX-LE6 담낭</td>\n",
       "      <td>담낭</td>\n",
       "      <td>EX-LE6</td>\n",
       "      <td>종아리의 가쪽, 종아리뼈작은머리에서 앞쪽 모서리 아래로 1.5寸 지점의 오목한 곳.</td>\n",
       "      <td>바로 눕거나 또는 옆으로 누운 후, 종아리뼈작은머리에서 앞쪽 모서리 아래로 1.5寸...</td>\n",
       "      <td>- 直刺 1～2寸</td>\n",
       "      <td>https://www.kmcric.com/database/acupoint/EX/EX...</td>\n",
       "    </tr>\n",
       "    <tr>\n",
       "      <th>208</th>\n",
       "      <td>경외기혈 (EX)</td>\n",
       "      <td>EX-LE7 난미</td>\n",
       "      <td>난미</td>\n",
       "      <td>EX-LE7</td>\n",
       "      <td>종아리의 앞 가쪽, 足三里(ST36)와 上巨虛(ST37) 사이의 壓通點으로, 足三里...</td>\n",
       "      <td>앉은 자세에서 발목에 힘을 빼거나, 또는 바로 누워 무릎을 굽힌 자세에서 足三里와 ...</td>\n",
       "      <td>- 直刺 0.5～0.8寸</td>\n",
       "      <td>https://www.kmcric.com/database/acupoint/EX/EX...</td>\n",
       "    </tr>\n",
       "  </tbody>\n",
       "</table>\n",
       "<p>209 rows × 8 columns</p>\n",
       "</div>"
      ],
      "text/plain": [
       "            대분류         중분류  소분류      코드  \\\n",
       "0    수소음심경 (HT)      HT1 극천   극천     HT1   \n",
       "1    수소음심경 (HT)      HT2 청령   청령     HT2   \n",
       "2    수소음심경 (HT)      HT5 통리   통리     HT5   \n",
       "3    수소음심경 (HT)      HT7 신문   신문     HT7   \n",
       "4    수소음심경 (HT)      HT9 소충   소충     HT9   \n",
       "..          ...         ...  ...     ...   \n",
       "204   경외기혈 (EX)  EX-LE3 백충와  백충와  EX-LE3   \n",
       "205   경외기혈 (EX)  EX-LE4 내슬안  내슬안  EX-LE4   \n",
       "206   경외기혈 (EX)   EX-LE5 슬안   슬안  EX-LE5   \n",
       "207   경외기혈 (EX)   EX-LE6 담낭   담낭  EX-LE6   \n",
       "208   경외기혈 (EX)   EX-LE7 난미   난미  EX-LE7   \n",
       "\n",
       "                                                    부위  \\\n",
       "0    겨드랑, 겨드랑 중심(centre of the axillary fossa), 겨드랑...   \n",
       "1    위팔 안쪽면, 위팔두갈래근(biceps brachii muscle)의 안쪽모서리 바...   \n",
       "2    아래팔 앞안쪽면, 자쪽손목굽힘근힘줄(flexor carpi ulnaris tendo...   \n",
       "3    손목 앞안쪽면, 자쪽손목굽힘근힘줄(flexor carpi ulnaris tendon...   \n",
       "4    새끼손가락, 끝마디뼈(distal phalanx)의 노쪽, 새끼손톱 노쪽 뿌리각(r...   \n",
       "..                                                 ...   \n",
       "204     넓적다리의 안쪽, 무릎뼈바닥(base of patellae) 안쪽끝에서 위로 3寸.   \n",
       "205  무릎부위, 무릎뼈 아래모서리, 무릎인대(ligamentum patellae)의 안쪽...   \n",
       "206  무릎부위, 무릎뼈 아래모서리, 무릎인대(ligamentum patellae)의 양쪽...   \n",
       "207     종아리의 가쪽, 종아리뼈작은머리에서 앞쪽 모서리 아래로 1.5寸 지점의 오목한 곳.   \n",
       "208  종아리의 앞 가쪽, 足三里(ST36)와 上巨虛(ST37) 사이의 壓通點으로, 足三里...   \n",
       "\n",
       "                                                    취혈  \\\n",
       "0    팔꿈치를 구부리고 팔을 들어 손바닥을 머리 뒤쪽에 두고, 겨드랑동맥이 뛰는 부위를 ...   \n",
       "1    팔꿈치를 굽히고 위팔을 외전했을 때, 極泉(HT1)과 少海(HT3)를 연결하는 선에...   \n",
       "2    콩알뼈 몸쪽모서리 노쪽에서 몸 쪽으로 1寸, 즉 神門(HT7)에서 몸 쪽으로 1寸,...   \n",
       "3    손바닥을 위로 향했을 때, 콩알뼈(pisiform bone) 몸 쪽 모서리의 노쪽 ...   \n",
       "4    새끼손톱의 노쪽모서리를 지나는 수직선과 손톱뿌리를 지나는 수평선이 만나는 지점에서 ...   \n",
       "..                                                 ...   \n",
       "204  환자로 하여금 바르게 앉아 무릎을 굽히게 하거나 또는 바로 누워 무릎을 편 후, 무...   \n",
       "205             무릎을 45° 구부리고, 무릎뼈 안쪽 아래의 오목한 곳에서 취혈한다.   \n",
       "206             무릎을 45° 구부리고, 무릎뼈 양쪽 아래의 오목한 곳에서 취혈한다.   \n",
       "207  바로 눕거나 또는 옆으로 누운 후, 종아리뼈작은머리에서 앞쪽 모서리 아래로 1.5寸...   \n",
       "208  앉은 자세에서 발목에 힘을 빼거나, 또는 바로 누워 무릎을 굽힌 자세에서 足三里와 ...   \n",
       "\n",
       "                                                   침구법  \\\n",
       "0    - 直刺 0.2～0.5寸 (上向하여 겨드랑이로 향해)\\n- 혈관, 신경을 찌르지 않...   \n",
       "1              - 直刺 0.3～0.5寸 (臂內側에서 外側으로)\\n- 斜刺 0.5～1寸   \n",
       "2                           - 直刺 0.3～0.5寸\\n- 斜刺 0.5～1寸   \n",
       "3                         - 直刺 0.2～0.5寸\\n- 斜刺 0.5～0.8寸   \n",
       "4           - 直刺 0.1～0.2寸\\n- 斜刺 0.2～0.3寸\\n- 三稜鍼으로 點刺出血   \n",
       "..                                                 ...   \n",
       "204                                        - 直刺 0.5～1寸   \n",
       "205  - 무릎 중앙을 향해 斜刺 0.5～1寸\\n- 外上方으로 1.5～2寸 刺入\\n- 外膝...   \n",
       "206  - 무릎 중앙을 향해 斜刺 0.5～1寸\\n- 外膝眼에서는 內上方으로, 內膝眼에서는 ...   \n",
       "207                                          - 直刺 1～2寸   \n",
       "208                                      - 直刺 0.5～0.8寸   \n",
       "\n",
       "                                                   url  \n",
       "0      https://www.kmcric.com/database/acupoint/HT/HT1  \n",
       "1      https://www.kmcric.com/database/acupoint/HT/HT2  \n",
       "2      https://www.kmcric.com/database/acupoint/HT/HT5  \n",
       "3      https://www.kmcric.com/database/acupoint/HT/HT7  \n",
       "4      https://www.kmcric.com/database/acupoint/HT/HT9  \n",
       "..                                                 ...  \n",
       "204  https://www.kmcric.com/database/acupoint/EX/EX...  \n",
       "205  https://www.kmcric.com/database/acupoint/EX/EX...  \n",
       "206  https://www.kmcric.com/database/acupoint/EX/EX...  \n",
       "207  https://www.kmcric.com/database/acupoint/EX/EX...  \n",
       "208  https://www.kmcric.com/database/acupoint/EX/EX...  \n",
       "\n",
       "[209 rows x 8 columns]"
      ]
     },
     "execution_count": 41,
     "metadata": {},
     "output_type": "execute_result"
    }
   ],
   "source": [
    "new"
   ]
  },
  {
   "cell_type": "code",
   "execution_count": 42,
   "id": "67163e59-8e32-40de-95fa-25145146e6cb",
   "metadata": {},
   "outputs": [
    {
     "data": {
      "text/html": [
       "<div>\n",
       "<style scoped>\n",
       "    .dataframe tbody tr th:only-of-type {\n",
       "        vertical-align: middle;\n",
       "    }\n",
       "\n",
       "    .dataframe tbody tr th {\n",
       "        vertical-align: top;\n",
       "    }\n",
       "\n",
       "    .dataframe thead th {\n",
       "        text-align: right;\n",
       "    }\n",
       "</style>\n",
       "<table border=\"1\" class=\"dataframe\">\n",
       "  <thead>\n",
       "    <tr style=\"text-align: right;\">\n",
       "      <th></th>\n",
       "      <th>Unnamed: 0</th>\n",
       "      <th>대분류</th>\n",
       "      <th>중분류</th>\n",
       "      <th>부위</th>\n",
       "      <th>취혈</th>\n",
       "      <th>침구법</th>\n",
       "    </tr>\n",
       "  </thead>\n",
       "  <tbody>\n",
       "    <tr>\n",
       "      <th>0</th>\n",
       "      <td>0</td>\n",
       "      <td>수소음심경 (HT)</td>\n",
       "      <td>HT1 극천</td>\n",
       "      <td>겨드랑, 겨드랑 중심(centre of the axillary fossa), 겨드랑...</td>\n",
       "      <td>팔꿈치를 구부리고 팔을 들어 손바닥을 머리 뒤쪽에 두고, 겨드랑동맥이 뛰는 부위를 ...</td>\n",
       "      <td>- 直刺 0.2～0.5寸 (上向하여 겨드랑이로 향해)\\n- 혈관, 신경을 찌르지 않...</td>\n",
       "    </tr>\n",
       "    <tr>\n",
       "      <th>1</th>\n",
       "      <td>1</td>\n",
       "      <td>수소음심경 (HT)</td>\n",
       "      <td>HT1 극천</td>\n",
       "      <td>겨드랑, 겨드랑 중심(centre of the axillary fossa), 겨드랑...</td>\n",
       "      <td>팔꿈치를 구부리고 팔을 들어 손바닥을 머리 뒤쪽에 두고, 겨드랑동맥이 뛰는 부위를 ...</td>\n",
       "      <td>- 直刺 0.2～0.5寸 (上向하여 겨드랑이로 향해)\\n- 혈관, 신경을 찌르지 않...</td>\n",
       "    </tr>\n",
       "    <tr>\n",
       "      <th>2</th>\n",
       "      <td>2</td>\n",
       "      <td>수소음심경 (HT)</td>\n",
       "      <td>HT2 청령</td>\n",
       "      <td>위팔 안쪽면, 위팔두갈래근(biceps brachii muscle)의 안쪽모서리 바...</td>\n",
       "      <td>팔꿈치를 굽히고 위팔을 외전했을 때, 極泉(HT1)과 少海(HT3)를 연결하는 선에...</td>\n",
       "      <td>- 直刺 0.3～0.5寸 (臂內側에서 外側으로)\\n- 斜刺 0.5～1寸</td>\n",
       "    </tr>\n",
       "    <tr>\n",
       "      <th>3</th>\n",
       "      <td>3</td>\n",
       "      <td>수소음심경 (HT)</td>\n",
       "      <td>HT3 소해</td>\n",
       "      <td>팔꿈치 앞안쪽면, 위팔뼈 안쪽위관절융기(medial epicondyle of the...</td>\n",
       "      <td>팔꿈치를 굽혔을 때, 팔오금주름 안쪽끝과 위팔뼈 안쪽위관절융기를 연결하는 선의 중점...</td>\n",
       "      <td>- 直刺 0.3～0.8寸\\n- 斜刺 0.5～1寸</td>\n",
       "    </tr>\n",
       "    <tr>\n",
       "      <th>4</th>\n",
       "      <td>4</td>\n",
       "      <td>수소음심경 (HT)</td>\n",
       "      <td>HT3 소해</td>\n",
       "      <td>팔꿈치 앞안쪽면, 위팔뼈 안쪽위관절융기(medial epicondyle of the...</td>\n",
       "      <td>팔꿈치를 굽혔을 때, 팔오금주름 안쪽끝과 위팔뼈 안쪽위관절융기를 연결하는 선의 중점...</td>\n",
       "      <td>- 直刺 0.3～0.8寸\\n- 斜刺 0.5～1寸</td>\n",
       "    </tr>\n",
       "    <tr>\n",
       "      <th>...</th>\n",
       "      <td>...</td>\n",
       "      <td>...</td>\n",
       "      <td>...</td>\n",
       "      <td>...</td>\n",
       "      <td>...</td>\n",
       "      <td>...</td>\n",
       "    </tr>\n",
       "    <tr>\n",
       "      <th>256</th>\n",
       "      <td>257</td>\n",
       "      <td>경외기혈 (EX)</td>\n",
       "      <td>EX-LE3 백충와</td>\n",
       "      <td>넓적다리의 안쪽, 무릎뼈바닥(base of patellae) 안쪽끝에서 위로 3寸.</td>\n",
       "      <td>환자로 하여금 바르게 앉아 무릎을 굽히게 하거나 또는 바로 누워 무릎을 편 후, 무...</td>\n",
       "      <td>- 直刺 0.5～1寸</td>\n",
       "    </tr>\n",
       "    <tr>\n",
       "      <th>257</th>\n",
       "      <td>258</td>\n",
       "      <td>경외기혈 (EX)</td>\n",
       "      <td>EX-LE4 내슬안</td>\n",
       "      <td>무릎부위, 무릎뼈 아래모서리, 무릎인대(ligamentum patellae)의 안쪽...</td>\n",
       "      <td>무릎을 45° 구부리고, 무릎뼈 안쪽 아래의 오목한 곳에서 취혈한다.</td>\n",
       "      <td>- 무릎 중앙을 향해 斜刺 0.5～1寸\\n- 外上方으로 1.5～2寸 刺入\\n- 外膝...</td>\n",
       "    </tr>\n",
       "    <tr>\n",
       "      <th>258</th>\n",
       "      <td>259</td>\n",
       "      <td>경외기혈 (EX)</td>\n",
       "      <td>EX-LE5 슬안</td>\n",
       "      <td>무릎부위, 무릎뼈 아래모서리, 무릎인대(ligamentum patellae)의 양쪽...</td>\n",
       "      <td>무릎을 45° 구부리고, 무릎뼈 양쪽 아래의 오목한 곳에서 취혈한다.</td>\n",
       "      <td>- 무릎 중앙을 향해 斜刺 0.5～1寸\\n- 外膝眼에서는 內上方으로, 內膝眼에서는 ...</td>\n",
       "    </tr>\n",
       "    <tr>\n",
       "      <th>259</th>\n",
       "      <td>260</td>\n",
       "      <td>경외기혈 (EX)</td>\n",
       "      <td>EX-LE6 담낭</td>\n",
       "      <td>종아리의 가쪽, 종아리뼈작은머리에서 앞쪽 모서리 아래로 1.5寸 지점의 오목한 곳.</td>\n",
       "      <td>바로 눕거나 또는 옆으로 누운 후, 종아리뼈작은머리에서 앞쪽 모서리 아래로 1.5寸...</td>\n",
       "      <td>- 直刺 1～2寸</td>\n",
       "    </tr>\n",
       "    <tr>\n",
       "      <th>260</th>\n",
       "      <td>261</td>\n",
       "      <td>경외기혈 (EX)</td>\n",
       "      <td>EX-LE7 난미</td>\n",
       "      <td>종아리의 앞 가쪽, 足三里(ST36)와 上巨虛(ST37) 사이의 壓通點으로, 足三里...</td>\n",
       "      <td>앉은 자세에서 발목에 힘을 빼거나, 또는 바로 누워 무릎을 굽힌 자세에서 足三里와 ...</td>\n",
       "      <td>- 直刺 0.5～0.8寸</td>\n",
       "    </tr>\n",
       "  </tbody>\n",
       "</table>\n",
       "<p>261 rows × 6 columns</p>\n",
       "</div>"
      ],
      "text/plain": [
       "     Unnamed: 0         대분류         중분류  \\\n",
       "0             0  수소음심경 (HT)      HT1 극천   \n",
       "1             1  수소음심경 (HT)      HT1 극천   \n",
       "2             2  수소음심경 (HT)      HT2 청령   \n",
       "3             3  수소음심경 (HT)      HT3 소해   \n",
       "4             4  수소음심경 (HT)      HT3 소해   \n",
       "..          ...         ...         ...   \n",
       "256         257   경외기혈 (EX)  EX-LE3 백충와   \n",
       "257         258   경외기혈 (EX)  EX-LE4 내슬안   \n",
       "258         259   경외기혈 (EX)   EX-LE5 슬안   \n",
       "259         260   경외기혈 (EX)   EX-LE6 담낭   \n",
       "260         261   경외기혈 (EX)   EX-LE7 난미   \n",
       "\n",
       "                                                    부위  \\\n",
       "0    겨드랑, 겨드랑 중심(centre of the axillary fossa), 겨드랑...   \n",
       "1    겨드랑, 겨드랑 중심(centre of the axillary fossa), 겨드랑...   \n",
       "2    위팔 안쪽면, 위팔두갈래근(biceps brachii muscle)의 안쪽모서리 바...   \n",
       "3    팔꿈치 앞안쪽면, 위팔뼈 안쪽위관절융기(medial epicondyle of the...   \n",
       "4    팔꿈치 앞안쪽면, 위팔뼈 안쪽위관절융기(medial epicondyle of the...   \n",
       "..                                                 ...   \n",
       "256     넓적다리의 안쪽, 무릎뼈바닥(base of patellae) 안쪽끝에서 위로 3寸.   \n",
       "257  무릎부위, 무릎뼈 아래모서리, 무릎인대(ligamentum patellae)의 안쪽...   \n",
       "258  무릎부위, 무릎뼈 아래모서리, 무릎인대(ligamentum patellae)의 양쪽...   \n",
       "259     종아리의 가쪽, 종아리뼈작은머리에서 앞쪽 모서리 아래로 1.5寸 지점의 오목한 곳.   \n",
       "260  종아리의 앞 가쪽, 足三里(ST36)와 上巨虛(ST37) 사이의 壓通點으로, 足三里...   \n",
       "\n",
       "                                                    취혈  \\\n",
       "0    팔꿈치를 구부리고 팔을 들어 손바닥을 머리 뒤쪽에 두고, 겨드랑동맥이 뛰는 부위를 ...   \n",
       "1    팔꿈치를 구부리고 팔을 들어 손바닥을 머리 뒤쪽에 두고, 겨드랑동맥이 뛰는 부위를 ...   \n",
       "2    팔꿈치를 굽히고 위팔을 외전했을 때, 極泉(HT1)과 少海(HT3)를 연결하는 선에...   \n",
       "3    팔꿈치를 굽혔을 때, 팔오금주름 안쪽끝과 위팔뼈 안쪽위관절융기를 연결하는 선의 중점...   \n",
       "4    팔꿈치를 굽혔을 때, 팔오금주름 안쪽끝과 위팔뼈 안쪽위관절융기를 연결하는 선의 중점...   \n",
       "..                                                 ...   \n",
       "256  환자로 하여금 바르게 앉아 무릎을 굽히게 하거나 또는 바로 누워 무릎을 편 후, 무...   \n",
       "257             무릎을 45° 구부리고, 무릎뼈 안쪽 아래의 오목한 곳에서 취혈한다.   \n",
       "258             무릎을 45° 구부리고, 무릎뼈 양쪽 아래의 오목한 곳에서 취혈한다.   \n",
       "259  바로 눕거나 또는 옆으로 누운 후, 종아리뼈작은머리에서 앞쪽 모서리 아래로 1.5寸...   \n",
       "260  앉은 자세에서 발목에 힘을 빼거나, 또는 바로 누워 무릎을 굽힌 자세에서 足三里와 ...   \n",
       "\n",
       "                                                   침구법  \n",
       "0    - 直刺 0.2～0.5寸 (上向하여 겨드랑이로 향해)\\n- 혈관, 신경을 찌르지 않...  \n",
       "1    - 直刺 0.2～0.5寸 (上向하여 겨드랑이로 향해)\\n- 혈관, 신경을 찌르지 않...  \n",
       "2              - 直刺 0.3～0.5寸 (臂內側에서 外側으로)\\n- 斜刺 0.5～1寸  \n",
       "3                           - 直刺 0.3～0.8寸\\n- 斜刺 0.5～1寸  \n",
       "4                           - 直刺 0.3～0.8寸\\n- 斜刺 0.5～1寸  \n",
       "..                                                 ...  \n",
       "256                                        - 直刺 0.5～1寸  \n",
       "257  - 무릎 중앙을 향해 斜刺 0.5～1寸\\n- 外上方으로 1.5～2寸 刺入\\n- 外膝...  \n",
       "258  - 무릎 중앙을 향해 斜刺 0.5～1寸\\n- 外膝眼에서는 內上方으로, 內膝眼에서는 ...  \n",
       "259                                          - 直刺 1～2寸  \n",
       "260                                      - 直刺 0.5～0.8寸  \n",
       "\n",
       "[261 rows x 6 columns]"
      ]
     },
     "execution_count": 42,
     "metadata": {},
     "output_type": "execute_result"
    }
   ],
   "source": [
    "before"
   ]
  },
  {
   "cell_type": "code",
   "execution_count": 48,
   "id": "821d2ff3-4a2e-47e8-880c-8cb98ad06852",
   "metadata": {},
   "outputs": [],
   "source": [
    "a = []\n",
    "for t in list(total['중분류']):\n",
    "    if t not in list(before['중분류']):\n",
    "        a.append(t)"
   ]
  },
  {
   "cell_type": "code",
   "execution_count": 49,
   "id": "5a7c5e48-1617-44e1-b311-e2a6b3476f56",
   "metadata": {},
   "outputs": [
    {
     "data": {
      "text/plain": [
       "1"
      ]
     },
     "execution_count": 49,
     "metadata": {},
     "output_type": "execute_result"
    }
   ],
   "source": [
    "len(a)"
   ]
  },
  {
   "cell_type": "code",
   "execution_count": 50,
   "id": "19efc055-b85d-40a1-a679-79971b61567a",
   "metadata": {},
   "outputs": [
    {
     "data": {
      "text/plain": [
       "['HT9 소충']"
      ]
     },
     "execution_count": 50,
     "metadata": {},
     "output_type": "execute_result"
    }
   ],
   "source": [
    "a"
   ]
  },
  {
   "cell_type": "code",
   "execution_count": 53,
   "id": "25392499-a3a9-44b8-9be6-d7b26fa24c39",
   "metadata": {},
   "outputs": [
    {
     "data": {
      "text/plain": [
       "209"
      ]
     },
     "execution_count": 53,
     "metadata": {},
     "output_type": "execute_result"
    }
   ],
   "source": [
    "len(set(list(total['중분류'])))"
   ]
  },
  {
   "cell_type": "code",
   "execution_count": 54,
   "id": "1f99004b-3ab1-4e2a-ad98-335c879bbad1",
   "metadata": {},
   "outputs": [
    {
     "data": {
      "text/plain": [
       "213"
      ]
     },
     "execution_count": 54,
     "metadata": {},
     "output_type": "execute_result"
    }
   ],
   "source": [
    "len(set(list(before['중분류'])))"
   ]
  },
  {
   "cell_type": "code",
   "execution_count": 57,
   "id": "33dff449-d86c-47a0-a890-9df2ffd85e08",
   "metadata": {},
   "outputs": [],
   "source": [
    "b= []\n",
    "for t in list(set(list(before['중분류']))):\n",
    "    if t not in list(set(set(total['중분류']))):\n",
    "        b.append(t)"
   ]
  },
  {
   "cell_type": "code",
   "execution_count": 58,
   "id": "0d1eacce-0a2c-469f-ac4e-006a2fe6fc0b",
   "metadata": {},
   "outputs": [
    {
     "data": {
      "text/plain": [
       "['HT2 청령', 'HT6 음극', 'PC1 천지', 'HT3 소해', 'HT7 신문']"
      ]
     },
     "execution_count": 58,
     "metadata": {},
     "output_type": "execute_result"
    }
   ],
   "source": [
    "b"
   ]
  },
  {
   "cell_type": "code",
   "execution_count": 59,
   "id": "8d642131-a0d6-4d99-b854-d4b0b9675edf",
   "metadata": {},
   "outputs": [
    {
     "data": {
      "text/html": [
       "<div>\n",
       "<style scoped>\n",
       "    .dataframe tbody tr th:only-of-type {\n",
       "        vertical-align: middle;\n",
       "    }\n",
       "\n",
       "    .dataframe tbody tr th {\n",
       "        vertical-align: top;\n",
       "    }\n",
       "\n",
       "    .dataframe thead th {\n",
       "        text-align: right;\n",
       "    }\n",
       "</style>\n",
       "<table border=\"1\" class=\"dataframe\">\n",
       "  <thead>\n",
       "    <tr style=\"text-align: right;\">\n",
       "      <th></th>\n",
       "      <th>Unnamed: 0</th>\n",
       "      <th>대분류</th>\n",
       "      <th>중분류</th>\n",
       "      <th>부위</th>\n",
       "      <th>취혈</th>\n",
       "      <th>침구법</th>\n",
       "    </tr>\n",
       "  </thead>\n",
       "  <tbody>\n",
       "    <tr>\n",
       "      <th>2</th>\n",
       "      <td>2</td>\n",
       "      <td>수소음심경 (HT)</td>\n",
       "      <td>HT2 청령</td>\n",
       "      <td>위팔 안쪽면, 위팔두갈래근(biceps brachii muscle)의 안쪽모서리 바...</td>\n",
       "      <td>팔꿈치를 굽히고 위팔을 외전했을 때, 極泉(HT1)과 少海(HT3)를 연결하는 선에...</td>\n",
       "      <td>- 直刺 0.3～0.5寸 (臂內側에서 外側으로)\\n- 斜刺 0.5～1寸</td>\n",
       "    </tr>\n",
       "  </tbody>\n",
       "</table>\n",
       "</div>"
      ],
      "text/plain": [
       "   Unnamed: 0         대분류     중분류  \\\n",
       "2           2  수소음심경 (HT)  HT2 청령   \n",
       "\n",
       "                                                  부위  \\\n",
       "2  위팔 안쪽면, 위팔두갈래근(biceps brachii muscle)의 안쪽모서리 바...   \n",
       "\n",
       "                                                  취혈  \\\n",
       "2  팔꿈치를 굽히고 위팔을 외전했을 때, 極泉(HT1)과 少海(HT3)를 연결하는 선에...   \n",
       "\n",
       "                                       침구법  \n",
       "2  - 直刺 0.3～0.5寸 (臂內側에서 外側으로)\\n- 斜刺 0.5～1寸  "
      ]
     },
     "execution_count": 60,
     "metadata": {},
     "output_type": "execute_result"
    }
   ],
   "source": [
    "before[before['중분류'] == b[0]"
   ]
  },
  {
   "cell_type": "code",
   "execution_count": 64,
   "id": "27696a0c-4139-4281-8a22-72ead2866cbc",
   "metadata": {},
   "outputs": [
    {
     "data": {
      "text/plain": [
       "0      겨드랑, 겨드랑 중심(centre of the axillary fossa), 겨드랑...\n",
       "1      아래팔 앞안쪽면, 자쪽손목굽힘근힘줄(flexor carpi ulnaris tendo...\n",
       "2      아래팔 앞안쪽면, 자쪽손목굽힘근힘줄(flexor carpi ulnaris tendo...\n",
       "3      손바닥, 넷째와 다섯째 손허리뼈(the 4th and 5th metacarpal b...\n",
       "4      새끼손가락, 끝마디뼈(distal phalanx)의 노쪽, 새끼손톱 노쪽 뿌리각(r...\n",
       "                             ...                        \n",
       "204       넓적다리의 안쪽, 무릎뼈바닥(base of patellae) 안쪽끝에서 위로 3寸.\n",
       "205    무릎부위, 무릎뼈 아래모서리, 무릎인대(ligamentum patellae)의 안쪽...\n",
       "206    무릎부위, 무릎뼈 아래모서리, 무릎인대(ligamentum patellae)의 양쪽...\n",
       "207       종아리의 가쪽, 종아리뼈작은머리에서 앞쪽 모서리 아래로 1.5寸 지점의 오목한 곳.\n",
       "208    종아리의 앞 가쪽, 足三里(ST36)와 上巨虛(ST37) 사이의 壓通點으로, 足三里...\n",
       "Name: 부위, Length: 209, dtype: object"
      ]
     },
     "execution_count": 64,
     "metadata": {},
     "output_type": "execute_result"
    }
   ],
   "source": [
    "total['부위']"
   ]
  },
  {
   "cell_type": "code",
   "execution_count": 45,
   "id": "f4537e45-0a33-4952-a156-3c166ec3277f",
   "metadata": {},
   "outputs": [
    {
     "data": {
      "text/plain": [
       "0          HT1 극천\n",
       "1          HT4 영도\n",
       "2          HT5 통리\n",
       "3          HT8 소부\n",
       "4          HT9 소충\n",
       "          ...    \n",
       "204    EX-LE3 백충와\n",
       "205    EX-LE4 내슬안\n",
       "206     EX-LE5 슬안\n",
       "207     EX-LE6 담낭\n",
       "208     EX-LE7 난미\n",
       "Name: 중분류, Length: 209, dtype: object"
      ]
     },
     "execution_count": 45,
     "metadata": {},
     "output_type": "execute_result"
    }
   ],
   "source": [
    "total['중분류']"
   ]
  },
  {
   "cell_type": "code",
   "execution_count": 46,
   "id": "347ade5a-08c8-497b-a099-f7da548b82af",
   "metadata": {},
   "outputs": [
    {
     "data": {
      "text/plain": [
       "0          HT1 극천\n",
       "1          HT1 극천\n",
       "2          HT2 청령\n",
       "3          HT3 소해\n",
       "4          HT3 소해\n",
       "          ...    \n",
       "256    EX-LE3 백충와\n",
       "257    EX-LE4 내슬안\n",
       "258     EX-LE5 슬안\n",
       "259     EX-LE6 담낭\n",
       "260     EX-LE7 난미\n",
       "Name: 중분류, Length: 261, dtype: object"
      ]
     },
     "execution_count": 46,
     "metadata": {},
     "output_type": "execute_result"
    }
   ],
   "source": [
    "before['중분류']"
   ]
  },
  {
   "cell_type": "code",
   "execution_count": 47,
   "id": "b7cb7e81-9a2e-45eb-af85-3a093ddeb1b7",
   "metadata": {},
   "outputs": [
    {
     "data": {
      "text/plain": [
       "True"
      ]
     },
     "execution_count": 47,
     "metadata": {},
     "output_type": "execute_result"
    }
   ],
   "source": [
    "total['중분류'][0] == before['중분류'][0]"
   ]
  },
  {
   "cell_type": "code",
   "execution_count": 65,
   "id": "3bef4ba1-f0ce-4ced-9242-5465aeba531b",
   "metadata": {},
   "outputs": [
    {
     "name": "stdout",
     "output_type": "stream",
     "text": [
      "Collecting freezer\n",
      "  Downloading freezer-11.0.0-py3-none-any.whl (215 kB)\n",
      "Requirement already satisfied: oslo.serialization>=2.25.0 in c:\\users\\baeky\\appdata\\roaming\\python\\python38\\site-packages (from freezer) (4.2.0)\n",
      "Collecting apscheduler>=3.0.5\n",
      "  Downloading APScheduler-3.9.1-py2.py3-none-any.whl (59 kB)\n",
      "Requirement already satisfied: cryptography>=2.5 in c:\\users\\baeky\\appdata\\roaming\\python\\python38\\site-packages (from freezer) (35.0.0)\n",
      "Collecting python-keystoneclient>=3.8.0\n",
      "  Downloading python_keystoneclient-4.4.0-py3-none-any.whl (398 kB)\n",
      "Collecting oslo.service!=1.28.1,>=1.24.0\n",
      "  Downloading oslo.service-2.8.0-py3-none-any.whl (77 kB)\n",
      "Collecting python-glanceclient>=2.8.0\n",
      "  Downloading python_glanceclient-3.6.0-py3-none-any.whl (203 kB)\n",
      "Requirement already satisfied: pbr!=2.1.0,>=2.0.0 in c:\\users\\baeky\\appdata\\roaming\\python\\python38\\site-packages (from freezer) (5.7.0)\n",
      "Requirement already satisfied: keystoneauth1>=3.4.0 in c:\\users\\baeky\\appdata\\roaming\\python\\python38\\site-packages (from freezer) (4.4.0)\n",
      "Collecting PyMySQL>=0.7.6\n",
      "  Downloading PyMySQL-1.0.2-py3-none-any.whl (43 kB)\n",
      "Requirement already satisfied: setuptools!=24.0.0,!=34.0.0,!=34.0.1,!=34.0.2,!=34.0.3,!=34.1.0,!=34.1.1,!=34.2.0,!=34.3.0,!=34.3.1,!=34.3.2,!=36.2.0,>=21.0.0 in c:\\users\\baeky\\anaconda3\\envs\\scrapy\\lib\\site-packages (from freezer) (58.0.4)\n",
      "Collecting os-brick>=2.2.0\n",
      "  Downloading os_brick-5.2.0-py3-none-any.whl (266 kB)\n",
      "Collecting python-novaclient>=9.1.0\n",
      "  Downloading python_novaclient-17.7.0-py3-none-any.whl (333 kB)\n",
      "Collecting paramiko>=2.7.1\n",
      "  Downloading paramiko-2.10.3-py2.py3-none-any.whl (211 kB)\n",
      "Collecting python-cinderclient>=3.3.0\n",
      "  Downloading python_cinderclient-8.3.0-py3-none-any.whl (254 kB)\n",
      "Collecting python-neutronclient>=6.7.0\n",
      "  Downloading python_neutronclient-7.8.0-py3-none-any.whl (437 kB)\n",
      "Collecting pymongo!=3.1,>=3.0.2\n",
      "  Downloading pymongo-4.0.2-cp38-cp38-win_amd64.whl (350 kB)\n",
      "Collecting botocore>=1.5.1\n"
     ]
    },
    {
     "name": "stderr",
     "output_type": "stream",
     "text": [
      "  ERROR: Command errored out with exit status 1:\n",
      "   command: 'C:\\Users\\baeky\\anaconda3\\envs\\scrapy\\python.exe' -u -c 'import io, os, sys, setuptools, tokenize; sys.argv[0] = '\"'\"'C:\\\\Users\\\\baeky\\\\AppData\\\\Local\\\\Temp\\\\pip-install-3dmyex9i\\\\yappi_ef07b1ca46ce42efa1736d4033cd0864\\\\setup.py'\"'\"'; __file__='\"'\"'C:\\\\Users\\\\baeky\\\\AppData\\\\Local\\\\Temp\\\\pip-install-3dmyex9i\\\\yappi_ef07b1ca46ce42efa1736d4033cd0864\\\\setup.py'\"'\"';f = getattr(tokenize, '\"'\"'open'\"'\"', open)(__file__) if os.path.exists(__file__) else io.StringIO('\"'\"'from setuptools import setup; setup()'\"'\"');code = f.read().replace('\"'\"'\\r\\n'\"'\"', '\"'\"'\\n'\"'\"');f.close();exec(compile(code, __file__, '\"'\"'exec'\"'\"'))' bdist_wheel -d 'C:\\Users\\baeky\\AppData\\Local\\Temp\\pip-wheel-kb5gn9fj'\n",
      "       cwd: C:\\Users\\baeky\\AppData\\Local\\Temp\\pip-install-3dmyex9i\\yappi_ef07b1ca46ce42efa1736d4033cd0864\\\n",
      "  Complete output (9 lines):\n",
      "  running bdist_wheel\n",
      "  running build\n",
      "  running build_py\n",
      "  creating build\n",
      "  creating build\\lib.win-amd64-3.8\n",
      "  copying yappi\\yappi.py -> build\\lib.win-amd64-3.8\n",
      "  running build_ext\n",
      "  building '_yappi' extension\n",
      "  error: Microsoft Visual C++ 14.0 or greater is required. Get it with \"Microsoft C++ Build Tools\": https://visualstudio.microsoft.com/visual-cpp-build-tools/\n",
      "  ----------------------------------------\n",
      "  ERROR: Failed building wheel for Yappi\n",
      "    ERROR: Command errored out with exit status 1:\n",
      "     command: 'C:\\Users\\baeky\\anaconda3\\envs\\scrapy\\python.exe' -u -c 'import io, os, sys, setuptools, tokenize; sys.argv[0] = '\"'\"'C:\\\\Users\\\\baeky\\\\AppData\\\\Local\\\\Temp\\\\pip-install-3dmyex9i\\\\yappi_ef07b1ca46ce42efa1736d4033cd0864\\\\setup.py'\"'\"'; __file__='\"'\"'C:\\\\Users\\\\baeky\\\\AppData\\\\Local\\\\Temp\\\\pip-install-3dmyex9i\\\\yappi_ef07b1ca46ce42efa1736d4033cd0864\\\\setup.py'\"'\"';f = getattr(tokenize, '\"'\"'open'\"'\"', open)(__file__) if os.path.exists(__file__) else io.StringIO('\"'\"'from setuptools import setup; setup()'\"'\"');code = f.read().replace('\"'\"'\\r\\n'\"'\"', '\"'\"'\\n'\"'\"');f.close();exec(compile(code, __file__, '\"'\"'exec'\"'\"'))' install --record 'C:\\Users\\baeky\\AppData\\Local\\Temp\\pip-record-yec_q_v2\\install-record.txt' --single-version-externally-managed --compile --install-headers 'C:\\Users\\baeky\\anaconda3\\envs\\scrapy\\Include\\Yappi'\n",
      "         cwd: C:\\Users\\baeky\\AppData\\Local\\Temp\\pip-install-3dmyex9i\\yappi_ef07b1ca46ce42efa1736d4033cd0864\\\n",
      "    Complete output (9 lines):\n",
      "    running install\n",
      "    running build\n",
      "    running build_py\n",
      "    creating build\n",
      "    creating build\\lib.win-amd64-3.8\n",
      "    copying yappi\\yappi.py -> build\\lib.win-amd64-3.8\n",
      "    running build_ext\n",
      "    building '_yappi' extension\n",
      "    error: Microsoft Visual C++ 14.0 or greater is required. Get it with \"Microsoft C++ Build Tools\": https://visualstudio.microsoft.com/visual-cpp-build-tools/\n",
      "    ----------------------------------------\n",
      "ERROR: Command errored out with exit status 1: 'C:\\Users\\baeky\\anaconda3\\envs\\scrapy\\python.exe' -u -c 'import io, os, sys, setuptools, tokenize; sys.argv[0] = '\"'\"'C:\\\\Users\\\\baeky\\\\AppData\\\\Local\\\\Temp\\\\pip-install-3dmyex9i\\\\yappi_ef07b1ca46ce42efa1736d4033cd0864\\\\setup.py'\"'\"'; __file__='\"'\"'C:\\\\Users\\\\baeky\\\\AppData\\\\Local\\\\Temp\\\\pip-install-3dmyex9i\\\\yappi_ef07b1ca46ce42efa1736d4033cd0864\\\\setup.py'\"'\"';f = getattr(tokenize, '\"'\"'open'\"'\"', open)(__file__) if os.path.exists(__file__) else io.StringIO('\"'\"'from setuptools import setup; setup()'\"'\"');code = f.read().replace('\"'\"'\\r\\n'\"'\"', '\"'\"'\\n'\"'\"');f.close();exec(compile(code, __file__, '\"'\"'exec'\"'\"'))' install --record 'C:\\Users\\baeky\\AppData\\Local\\Temp\\pip-record-yec_q_v2\\install-record.txt' --single-version-externally-managed --compile --install-headers 'C:\\Users\\baeky\\anaconda3\\envs\\scrapy\\Include\\Yappi' Check the logs for full command output.\n"
     ]
    },
    {
     "name": "stdout",
     "output_type": "stream",
     "text": [
      "  Downloading botocore-1.24.23-py3-none-any.whl (8.6 MB)\n",
      "Requirement already satisfied: oslo.utils>=3.33.0 in c:\\users\\baeky\\appdata\\roaming\\python\\python38\\site-packages (from freezer) (4.11.0)\n",
      "Collecting psutil>=3.2.2\n",
      "  Downloading psutil-5.9.0-cp38-cp38-win_amd64.whl (246 kB)\n",
      "Requirement already satisfied: oslo.config>=6.0.0 in c:\\users\\baeky\\appdata\\roaming\\python\\python38\\site-packages (from freezer) (8.7.1)\n",
      "Collecting oslo.log>=3.36.0\n",
      "  Downloading oslo.log-4.7.0-py3-none-any.whl (71 kB)\n",
      "Collecting python-freezerclient>=2.0.0\n",
      "  Downloading python_freezerclient-4.4.0-py3-none-any.whl (75 kB)\n",
      "Collecting python-swiftclient>=3.2.0\n",
      "  Downloading python_swiftclient-3.13.1-py2.py3-none-any.whl (87 kB)\n",
      "Collecting tzlocal!=3.*,>=2.0\n",
      "  Downloading tzlocal-4.1-py3-none-any.whl (19 kB)\n",
      "Requirement already satisfied: pytz in c:\\users\\baeky\\appdata\\roaming\\python\\python38\\site-packages (from apscheduler>=3.0.5->freezer) (2021.3)\n",
      "Requirement already satisfied: six>=1.4.0 in c:\\users\\baeky\\appdata\\roaming\\python\\python38\\site-packages (from apscheduler>=3.0.5->freezer) (1.16.0)\n",
      "Requirement already satisfied: jmespath<2.0.0,>=0.7.1 in c:\\users\\baeky\\appdata\\roaming\\python\\python38\\site-packages (from botocore>=1.5.1->freezer) (0.10.0)\n",
      "Requirement already satisfied: urllib3<1.27,>=1.25.4 in c:\\users\\baeky\\appdata\\roaming\\python\\python38\\site-packages (from botocore>=1.5.1->freezer) (1.26.7)\n",
      "Requirement already satisfied: python-dateutil<3.0.0,>=2.1 in c:\\users\\baeky\\appdata\\roaming\\python\\python38\\site-packages (from botocore>=1.5.1->freezer) (2.8.2)\n",
      "Requirement already satisfied: cffi>=1.12 in c:\\users\\baeky\\appdata\\roaming\\python\\python38\\site-packages (from cryptography>=2.5->freezer) (1.15.0)\n",
      "Requirement already satisfied: pycparser in c:\\users\\baeky\\appdata\\roaming\\python\\python38\\site-packages (from cffi>=1.12->cryptography>=2.5->freezer) (2.21)\n",
      "Requirement already satisfied: os-service-types>=1.2.0 in c:\\users\\baeky\\appdata\\roaming\\python\\python38\\site-packages (from keystoneauth1>=3.4.0->freezer) (1.7.0)\n",
      "Requirement already satisfied: stevedore>=1.20.0 in c:\\users\\baeky\\appdata\\roaming\\python\\python38\\site-packages (from keystoneauth1>=3.4.0->freezer) (3.5.0)\n",
      "Requirement already satisfied: iso8601>=0.1.11 in c:\\users\\baeky\\appdata\\roaming\\python\\python38\\site-packages (from keystoneauth1>=3.4.0->freezer) (0.1.16)\n",
      "Requirement already satisfied: requests>=2.14.2 in c:\\users\\baeky\\appdata\\roaming\\python\\python38\\site-packages (from keystoneauth1>=3.4.0->freezer) (2.26.0)\n",
      "Collecting oslo.privsep>=2.6.2\n",
      "  Downloading oslo.privsep-2.7.0-py3-none-any.whl (38 kB)\n",
      "Requirement already satisfied: oslo.context>=3.4.0 in c:\\users\\baeky\\appdata\\roaming\\python\\python38\\site-packages (from os-brick>=2.2.0->freezer) (3.4.0)\n",
      "Collecting os-win>=5.5.0\n",
      "  Downloading os_win-5.6.0-py3-none-any.whl (274 kB)\n",
      "Collecting eventlet!=0.32.0,>=0.30.1\n",
      "  Downloading eventlet-0.33.0-py2.py3-none-any.whl (226 kB)\n",
      "Collecting pbr!=2.1.0,>=2.0.0\n",
      "  Downloading pbr-5.8.1-py2.py3-none-any.whl (113 kB)\n",
      "Collecting oslo.concurrency>=4.5.0\n",
      "  Downloading oslo.concurrency-4.5.0-py3-none-any.whl (47 kB)\n",
      "Collecting tenacity>=6.3.1\n",
      "  Downloading tenacity-8.0.1-py3-none-any.whl (24 kB)\n",
      "Requirement already satisfied: oslo.i18n>=5.1.0 in c:\\users\\baeky\\appdata\\roaming\\python\\python38\\site-packages (from os-brick>=2.2.0->freezer) (5.1.0)\n",
      "Collecting oslo.utils>=3.33.0\n",
      "  Downloading oslo.utils-4.12.2-py3-none-any.whl (101 kB)\n",
      "Requirement already satisfied: dnspython>=1.15.0 in c:\\users\\baeky\\appdata\\roaming\\python\\python38\\site-packages (from eventlet!=0.32.0,>=0.30.1->os-brick>=2.2.0->freezer) (2.1.0)\n",
      "Requirement already satisfied: greenlet>=0.3 in c:\\users\\baeky\\appdata\\roaming\\python\\python38\\site-packages (from eventlet!=0.32.0,>=0.30.1->os-brick>=2.2.0->freezer) (1.1.2)\n",
      "Collecting wmi>=0.5\n",
      "  Downloading WMI-1.5.1-py2.py3-none-any.whl (28 kB)\n",
      "Collecting PyMI>=1.0.0\n",
      "  Downloading PyMI-1.0.6-cp38-cp38-win_amd64.whl (317 kB)\n",
      "Requirement already satisfied: fasteners>=0.7.0 in c:\\users\\baeky\\appdata\\roaming\\python\\python38\\site-packages (from oslo.concurrency>=4.5.0->os-brick>=2.2.0->freezer) (0.16.3)\n",
      "Requirement already satisfied: PyYAML>=5.1 in c:\\users\\baeky\\appdata\\roaming\\python\\python38\\site-packages (from oslo.config>=6.0.0->freezer) (6.0)\n",
      "Requirement already satisfied: netaddr>=0.7.18 in c:\\users\\baeky\\appdata\\roaming\\python\\python38\\site-packages (from oslo.config>=6.0.0->freezer) (0.8.0)\n",
      "Requirement already satisfied: debtcollector>=1.2.0 in c:\\users\\baeky\\appdata\\roaming\\python\\python38\\site-packages (from oslo.config>=6.0.0->freezer) (2.3.0)\n",
      "Requirement already satisfied: rfc3986>=1.2.0 in c:\\users\\baeky\\appdata\\roaming\\python\\python38\\site-packages (from oslo.config>=6.0.0->freezer) (1.5.0)\n",
      "Requirement already satisfied: wrapt>=1.7.0 in c:\\users\\baeky\\appdata\\roaming\\python\\python38\\site-packages (from debtcollector>=1.2.0->oslo.config>=6.0.0->freezer) (1.13.3)\n",
      "Requirement already satisfied: msgpack>=0.6.0 in c:\\users\\baeky\\appdata\\roaming\\python\\python38\\site-packages (from oslo.privsep>=2.6.2->os-brick>=2.2.0->freezer) (1.0.2)\n",
      "Collecting Paste>=2.0.2\n",
      "  Downloading Paste-3.5.0-py2.py3-none-any.whl (593 kB)\n",
      "Collecting WebOb>=1.7.1\n",
      "  Downloading WebOb-1.8.7-py2.py3-none-any.whl (114 kB)\n",
      "Collecting Routes>=2.3.1\n",
      "  Downloading Routes-2.5.1-py2.py3-none-any.whl (40 kB)\n",
      "Requirement already satisfied: fixtures>=3.0.0 in c:\\users\\baeky\\appdata\\roaming\\python\\python38\\site-packages (from oslo.service!=1.28.1,>=1.24.0->freezer) (3.0.0)\n",
      "Collecting Yappi>=1.0\n",
      "  Downloading yappi-1.3.3.tar.gz (58 kB)\n",
      "Collecting PasteDeploy>=1.5.0\n",
      "  Downloading PasteDeploy-2.1.1-py2.py3-none-any.whl (17 kB)\n",
      "Requirement already satisfied: testtools>=0.9.22 in c:\\users\\baeky\\appdata\\roaming\\python\\python38\\site-packages (from fixtures>=3.0.0->oslo.service!=1.28.1,>=1.24.0->freezer) (2.5.0)\n",
      "Requirement already satisfied: netifaces>=0.10.4 in c:\\users\\baeky\\appdata\\roaming\\python\\python38\\site-packages (from oslo.utils>=3.33.0->freezer) (0.11.0)\n",
      "Requirement already satisfied: pyparsing>=2.1.0 in c:\\users\\baeky\\appdata\\roaming\\python\\python38\\site-packages (from oslo.utils>=3.33.0->freezer) (2.4.7)\n",
      "Requirement already satisfied: packaging>=20.4 in c:\\users\\baeky\\appdata\\roaming\\python\\python38\\site-packages (from oslo.utils>=3.33.0->freezer) (21.2)\n",
      "Collecting pynacl>=1.0.1\n",
      "  Downloading PyNaCl-1.5.0-cp36-abi3-win_amd64.whl (212 kB)\n",
      "Collecting bcrypt>=3.1.3\n",
      "  Downloading bcrypt-3.2.0-cp36-abi3-win_amd64.whl (28 kB)\n",
      "Collecting simplejson>=3.5.1\n",
      "  Downloading simplejson-3.17.6-cp38-cp38-win_amd64.whl (75 kB)\n",
      "Requirement already satisfied: PrettyTable>=0.7.2 in c:\\users\\baeky\\appdata\\roaming\\python\\python38\\site-packages (from python-cinderclient>=3.3.0->freezer) (2.4.0)\n",
      "Requirement already satisfied: wcwidth in c:\\users\\baeky\\appdata\\roaming\\python\\python38\\site-packages (from PrettyTable>=0.7.2->python-cinderclient>=3.3.0->freezer) (0.2.5)\n",
      "Collecting cliff!=2.9.0,>=2.8.0\n",
      "  Downloading cliff-3.10.1-py3-none-any.whl (81 kB)\n",
      "Requirement already satisfied: cmd2>=1.0.0 in c:\\users\\baeky\\appdata\\roaming\\python\\python38\\site-packages (from cliff!=2.9.0,>=2.8.0->python-freezerclient>=2.0.0->freezer) (2.2.0)\n",
      "Requirement already satisfied: autopage>=0.4.0 in c:\\users\\baeky\\appdata\\roaming\\python\\python38\\site-packages (from cliff!=2.9.0,>=2.8.0->python-freezerclient>=2.0.0->freezer) (0.4.0)\n",
      "Requirement already satisfied: attrs>=16.3.0 in c:\\users\\baeky\\appdata\\roaming\\python\\python38\\site-packages (from cmd2>=1.0.0->cliff!=2.9.0,>=2.8.0->python-freezerclient>=2.0.0->freezer) (21.2.0)\n",
      "Requirement already satisfied: pyreadline3 in c:\\users\\baeky\\appdata\\roaming\\python\\python38\\site-packages (from cmd2>=1.0.0->cliff!=2.9.0,>=2.8.0->python-freezerclient>=2.0.0->freezer) (3.3)\n",
      "Requirement already satisfied: colorama>=0.3.7 in c:\\users\\baeky\\appdata\\roaming\\python\\python38\\site-packages (from cmd2>=1.0.0->cliff!=2.9.0,>=2.8.0->python-freezerclient>=2.0.0->freezer) (0.4.4)\n",
      "Requirement already satisfied: pyperclip>=1.6 in c:\\users\\baeky\\appdata\\roaming\\python\\python38\\site-packages (from cmd2>=1.0.0->cliff!=2.9.0,>=2.8.0->python-freezerclient>=2.0.0->freezer) (1.8.2)\n",
      "Collecting warlock<2,>=1.2.0\n",
      "  Downloading warlock-1.3.3.tar.gz (11 kB)\n",
      "Requirement already satisfied: pyOpenSSL>=17.1.0 in c:\\users\\baeky\\anaconda3\\envs\\scrapy\\lib\\site-packages (from python-glanceclient>=2.8.0->freezer) (22.0.0)\n",
      "Collecting os-client-config>=1.28.0\n",
      "  Downloading os_client_config-2.1.0-py3-none-any.whl (31 kB)\n",
      "Collecting osc-lib>=1.12.0\n",
      "  Downloading osc_lib-2.5.0-py3-none-any.whl (88 kB)\n",
      "Collecting openstacksdk>=0.13.0\n",
      "  Downloading openstacksdk-0.61.0-py3-none-any.whl (1.4 MB)\n",
      "Requirement already satisfied: appdirs>=1.3.0 in c:\\users\\baeky\\appdata\\roaming\\python\\python38\\site-packages (from openstacksdk>=0.13.0->os-client-config>=1.28.0->python-neutronclient>=6.7.0->freezer) (1.4.4)\n",
      "Requirement already satisfied: jsonpatch!=1.20,>=1.16 in c:\\users\\baeky\\appdata\\roaming\\python\\python38\\site-packages (from openstacksdk>=0.13.0->os-client-config>=1.28.0->python-neutronclient>=6.7.0->freezer) (1.32)\n",
      "Requirement already satisfied: requestsexceptions>=1.2.0 in c:\\users\\baeky\\appdata\\roaming\\python\\python38\\site-packages (from openstacksdk>=0.13.0->os-client-config>=1.28.0->python-neutronclient>=6.7.0->freezer) (1.4.0)\n",
      "Requirement already satisfied: dogpile.cache>=0.6.5 in c:\\users\\baeky\\appdata\\roaming\\python\\python38\\site-packages (from openstacksdk>=0.13.0->os-client-config>=1.28.0->python-neutronclient>=6.7.0->freezer) (1.1.4)\n",
      "Requirement already satisfied: munch>=2.1.0 in c:\\users\\baeky\\appdata\\roaming\\python\\python38\\site-packages (from openstacksdk>=0.13.0->os-client-config>=1.28.0->python-neutronclient>=6.7.0->freezer) (2.5.0)\n",
      "Requirement already satisfied: decorator>=4.4.1 in c:\\users\\baeky\\appdata\\roaming\\python\\python38\\site-packages (from openstacksdk>=0.13.0->os-client-config>=1.28.0->python-neutronclient>=6.7.0->freezer) (5.1.0)\n",
      "Requirement already satisfied: jsonpointer>=1.9 in c:\\users\\baeky\\appdata\\roaming\\python\\python38\\site-packages (from jsonpatch!=1.20,>=1.16->openstacksdk>=0.13.0->os-client-config>=1.28.0->python-neutronclient>=6.7.0->freezer) (2.2)\n",
      "Requirement already satisfied: certifi>=2017.4.17 in c:\\users\\baeky\\appdata\\roaming\\python\\python38\\site-packages (from requests>=2.14.2->keystoneauth1>=3.4.0->freezer) (2020.6.20)\n",
      "Requirement already satisfied: idna<4,>=2.5 in c:\\users\\baeky\\appdata\\roaming\\python\\python38\\site-packages (from requests>=2.14.2->keystoneauth1>=3.4.0->freezer) (3.3)\n",
      "Requirement already satisfied: charset-normalizer~=2.0.0 in c:\\users\\baeky\\appdata\\roaming\\python\\python38\\site-packages (from requests>=2.14.2->keystoneauth1>=3.4.0->freezer) (2.0.7)\n",
      "Requirement already satisfied: repoze.lru>=0.3 in c:\\users\\baeky\\appdata\\roaming\\python\\python38\\site-packages (from Routes>=2.3.1->oslo.service!=1.28.1,>=1.24.0->freezer) (0.7)\n",
      "Requirement already satisfied: extras>=1.0.0 in c:\\users\\baeky\\appdata\\roaming\\python\\python38\\site-packages (from testtools>=0.9.22->fixtures>=3.0.0->oslo.service!=1.28.1,>=1.24.0->freezer) (1.0.0)\n",
      "Requirement already satisfied: backports.zoneinfo in c:\\users\\baeky\\appdata\\roaming\\python\\python38\\site-packages (from tzlocal!=3.*,>=2.0->apscheduler>=3.0.5->freezer) (0.2.1)\n",
      "Collecting pytz-deprecation-shim\n",
      "  Downloading pytz_deprecation_shim-0.1.0.post0-py2.py3-none-any.whl (15 kB)\n",
      "Requirement already satisfied: tzdata in c:\\users\\baeky\\appdata\\roaming\\python\\python38\\site-packages (from tzlocal!=3.*,>=2.0->apscheduler>=3.0.5->freezer) (2021.5)\n",
      "Collecting jsonschema<4,>=0.7\n",
      "  Downloading jsonschema-3.2.0-py2.py3-none-any.whl (56 kB)\n",
      "Requirement already satisfied: pyrsistent>=0.14.0 in c:\\users\\baeky\\appdata\\roaming\\python\\python38\\site-packages (from jsonschema<4,>=0.7->warlock<2,>=1.2.0->python-glanceclient>=2.8.0->freezer) (0.18.0)\n",
      "Requirement already satisfied: pywin32 in c:\\users\\baeky\\appdata\\roaming\\python\\python38\\site-packages (from wmi>=0.5->os-win>=5.5.0->os-brick>=2.2.0->freezer) (227)\n",
      "Building wheels for collected packages: warlock, Yappi\n",
      "  Building wheel for warlock (setup.py): started\n",
      "  Building wheel for warlock (setup.py): finished with status 'done'\n",
      "  Created wheel for warlock: filename=warlock-1.3.3-py2.py3-none-any.whl size=9831 sha256=c22cd3c6214ae513ea7e8658193217f8173192792e6a15c06ba0bdcd61c7f598\n",
      "  Stored in directory: c:\\users\\baeky\\appdata\\local\\pip\\cache\\wheels\\53\\0b\\78\\24b7b7f8fc3cd27f0747b7e10516c6dcd9434c658653a2a0ce\n",
      "  Building wheel for Yappi (setup.py): started\n",
      "  Building wheel for Yappi (setup.py): finished with status 'error'\n",
      "  Running setup.py clean for Yappi\n",
      "Successfully built warlock\n",
      "Failed to build Yappi\n",
      "Installing collected packages: pbr, oslo.utils, Yappi, wmi, WebOb, simplejson, Routes, pytz-deprecation-shim, PyMI, PasteDeploy, Paste, oslo.log, oslo.concurrency, openstacksdk, jsonschema, eventlet, cliff, warlock, tzlocal, tenacity, python-keystoneclient, pynacl, oslo.service, oslo.privsep, osc-lib, os-win, os-client-config, bcrypt, python-swiftclient, python-novaclient, python-neutronclient, python-glanceclient, python-freezerclient, python-cinderclient, PyMySQL, pymongo, psutil, paramiko, os-brick, botocore, apscheduler, freezer\n",
      "  Attempting uninstall: pbr\n",
      "    Found existing installation: pbr 5.7.0\n",
      "    Uninstalling pbr-5.7.0:\n",
      "      Successfully uninstalled pbr-5.7.0\n",
      "  Attempting uninstall: oslo.utils\n",
      "    Found existing installation: oslo.utils 4.11.0\n",
      "    Uninstalling oslo.utils-4.11.0:\n",
      "      Successfully uninstalled oslo.utils-4.11.0\n",
      "    Running setup.py install for Yappi: started\n",
      "    Running setup.py install for Yappi: finished with status 'error'\n"
     ]
    }
   ],
   "source": [
    "!pip install freezer"
   ]
  },
  {
   "cell_type": "code",
   "execution_count": 66,
   "id": "c3d2ca95-f97d-4051-9a88-0453ef9cc361",
   "metadata": {},
   "outputs": [],
   "source": [
    "!pip freeze >requirements.txt"
   ]
  },
  {
   "cell_type": "code",
   "execution_count": 67,
   "id": "2c826227-2abd-4d46-88ea-ee6196deff83",
   "metadata": {},
   "outputs": [
    {
     "data": {
      "text/plain": [
       "'C:\\\\Dev\\\\NLP\\\\Crawling\\\\Download\\\\down\\\\down'"
      ]
     },
     "execution_count": 67,
     "metadata": {},
     "output_type": "execute_result"
    }
   ],
   "source": [
    "%pwd"
   ]
  },
  {
   "cell_type": "code",
   "execution_count": null,
   "id": "abd1356d-644b-4b4b-a8e6-a2f2a66cbc6d",
   "metadata": {},
   "outputs": [],
   "source": []
  }
 ],
 "metadata": {
  "kernelspec": {
   "display_name": "Python 3 (ipykernel)",
   "language": "python",
   "name": "python3"
  },
  "language_info": {
   "codemirror_mode": {
    "name": "ipython",
    "version": 3
   },
   "file_extension": ".py",
   "mimetype": "text/x-python",
   "name": "python",
   "nbconvert_exporter": "python",
   "pygments_lexer": "ipython3",
   "version": "3.8.12"
  }
 },
 "nbformat": 4,
 "nbformat_minor": 5
}
