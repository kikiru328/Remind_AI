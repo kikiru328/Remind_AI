{
 "cells": [
  {
   "cell_type": "code",
   "execution_count": 2,
   "metadata": {},
   "outputs": [],
   "source": [
    "import selenium\n",
    "from selenium import webdriver\n",
    "from webdriver_manager.chrome import ChromeDriverManager\n",
    "from selenium.webdriver.chrome.options import Options"
   ]
  },
  {
   "cell_type": "code",
   "execution_count": 3,
   "metadata": {},
   "outputs": [
    {
     "name": "stderr",
     "output_type": "stream",
     "text": [
      "\n",
      "\n",
      "====== WebDriver manager ======\n",
      "Current google-chrome version is 99.0.4844\n",
      "Get LATEST chromedriver version for 99.0.4844 google-chrome\n",
      "Trying to download new driver from https://chromedriver.storage.googleapis.com/99.0.4844.51/chromedriver_win32.zip\n",
      "Driver has been saved in cache [C:\\Users\\baeky\\.wdm\\drivers\\chromedriver\\win32\\99.0.4844.51]\n"
     ]
    }
   ],
   "source": [
    "options = Options()\n",
    "options.add_argument('--headless') #headless모드 브라우저가 뜨지 않고 실행됩니다.\n",
    "# options.add_argument('--window-size= x, y') #실행되는 브라우저 크기를 지정할 수 있습니다.\n",
    "# options.add_argument('--start-maximized') #브라우저가 최대화된 상태로 실행됩니다.\n",
    "# options.add_argument('--start-fullscreen') #브라우저가 풀스크린 모드(F11)로 실행됩니다.\n",
    "# options.add_argument('--blink-settings=imagesEnabled=false') #브라우저에서 이미지 로딩을 하지 않습니다.\n",
    "# options.add_argument('--mute-audio') #브라우저에 음소거 옵션을 적용합니다.\n",
    "# options.add_argument('incognito') #시크릿 모드의 브라우저가 실행됩니다.\n",
    "options.add_experimental_option(\"excludeSwitches\", [\"enable-logging\"]) #selenium 작동 안될 때\n",
    "driver = webdriver.Chrome(executable_path=ChromeDriverManager().install(),chrome_options=options)   "
   ]
  },
  {
   "cell_type": "code",
   "execution_count": null,
   "metadata": {},
   "outputs": [],
   "source": []
  },
  {
   "cell_type": "code",
   "execution_count": null,
   "metadata": {},
   "outputs": [],
   "source": [
    "main = driver.find_element_by_xpath('//*[@id=\"sub\"]/section[2]/div[2]/div/table/thead/tr/td/div').text.split(' ')\n",
    "big = main[0]\n",
    "big_code = main[1].split('(')[1].split(')')[0]\n",
    "mid_code = main[7]\n",
    "mid_korean = main[8]\n",
    "mid_chinese = main[9].split('(')[1].split(')')[0]\n",
    "part_content =  driver.find_element_by_xpath('//*[@id=\"sub\"]/section[2]/div[2]/div/table/tbody/tr[3]/td/div').text.split('\\n')[0]\n",
    "take_content = driver.find_element_by_xpath('//*[@id=\"sub\"]/section[2]/div[2]/div/table/tbody/tr[4]/td/div').text.split('\\n')[0]\n",
    "get_content =driver.find_element_by_xpath('//*[@id=\"sub\"]/section[2]/div[2]/div/table/tbody/tr[5]/td/div').text"
   ]
  },
  {
   "cell_type": "code",
   "execution_count": 10,
   "metadata": {},
   "outputs": [
    {
     "name": "stderr",
     "output_type": "stream",
     "text": [
      "100%|██████████| 416/416 [04:33<00:00,  1.52it/s]"
     ]
    },
    {
     "name": "stdout",
     "output_type": "stream",
     "text": [
      "finish\n"
     ]
    },
    {
     "name": "stderr",
     "output_type": "stream",
     "text": [
      "\n"
     ]
    }
   ],
   "source": [
    "from tqdm import tqdm\n",
    "import time\n",
    "import warnings\n",
    "warnings.filterwarnings('ignore')\n",
    "import pandas as pd\n",
    "# big_li = []\n",
    "# big_code_li = []\n",
    "# mid_code_li = []\n",
    "# mid_korean_li = []\n",
    "# mid_chinese_li = []\n",
    "# part_content_li = []\n",
    "# take_content_li = []\n",
    "# get_content_li = []\n",
    "Error_url = []\n",
    "A = pd.DataFrame(columns=['대분류','대분류코드','중분류','중분류코드','중분류한자','부위','취혈','침구법','url'])\n",
    "\n",
    "\n",
    "for url in tqdm(url_list):\n",
    "    try:\n",
    "    # time.sleep(1)\n",
    "        driver.get(url)\n",
    "        main = driver.find_element_by_xpath('//*[@id=\"sub\"]/section[2]/div[2]/div/table/thead/tr/td/div').text.split(' ')\n",
    "        try:\n",
    "            big = main[0]\n",
    "        except:\n",
    "            big = 'NONE'\n",
    "        # big_li.append(big)\n",
    "        try:\n",
    "            big_code = main[1].split('(')[1].split(')')[0]\n",
    "        except:\n",
    "            big_code = 'NONE'\n",
    "        # big_code_li.append(big_code)\n",
    "        try:\n",
    "            mid_code = main[7]\n",
    "        except:\n",
    "            mid_code = 'NONE'\n",
    "        # mid_code_li.append(mid_code)\n",
    "        try:\n",
    "            mid_korean = main[8]\n",
    "        # mid_korean_li.append(mid_korean)\n",
    "        except:\n",
    "            mid_korean = 'NONE'\n",
    "        \n",
    "        try:\n",
    "            mid_chinese = main[9].split('(')[1].split(')')[0]\n",
    "        # mid_chinese_li.append(mid_chinese)\n",
    "        except: \n",
    "            mid_chinese = 'NONE'\n",
    "  \n",
    "        try:\n",
    "            part_content =  driver.find_element_by_xpath('//*[@id=\"sub\"]/section[2]/div[2]/div/table/tbody/tr[3]/td/div').text.split('\\n')[0]\n",
    "            # part_content_li.append(part_content)\n",
    "        except:\n",
    "            part_content = 'NONE'\n",
    "\n",
    "        try:\n",
    "            take_content = driver.find_element_by_xpath('//*[@id=\"sub\"]/section[2]/div[2]/div/table/tbody/tr[4]/td/div').text.split('\\n')[0]\n",
    "            # take_content_li.append(take_content)\n",
    "        except:\n",
    "            take_content = 'NONE'\n",
    "\n",
    "        try:\n",
    "            get_content =driver.find_element_by_xpath('//*[@id=\"sub\"]/section[2]/div[2]/div/table/tbody/tr[5]/td/div').text\n",
    "            # get_content_li.append(get_content)\n",
    "        except:\n",
    "            get_content = 'NONE'\n",
    "\n",
    "    except:\n",
    "        print(url)\n",
    "        Error_url.append(url)\n",
    "\n",
    "    DF = pd.DataFrame({'대분류':[big],'대분류코드':[big_code],'중분류':[mid_korean],'중분류코드':[mid_code],'중분류한자':[mid_chinese],'부위':[part_content],'취혈':[take_content],'침구법':[get_content],'url':[url]})\n",
    "\n",
    "    A = A.append(DF)\n",
    "\n",
    "print('finish')\n",
    "    \n"
   ]
  },
  {
   "cell_type": "code",
   "execution_count": null,
   "metadata": {},
   "outputs": [],
   "source": []
  }
 ],
 "metadata": {
  "interpreter": {
   "hash": "d8e85bb4155938a63eb24146fef15fd058dfdaf7d7eb7fbad1d1d3227f809d67"
  },
  "kernelspec": {
   "display_name": "Python 3.8.12 ('scrapy')",
   "language": "python",
   "name": "python3"
  },
  "language_info": {
   "codemirror_mode": {
    "name": "ipython",
    "version": 3
   },
   "file_extension": ".py",
   "mimetype": "text/x-python",
   "name": "python",
   "nbconvert_exporter": "python",
   "pygments_lexer": "ipython3",
   "version": "3.8.12"
  },
  "orig_nbformat": 4
 },
 "nbformat": 4,
 "nbformat_minor": 2
}
