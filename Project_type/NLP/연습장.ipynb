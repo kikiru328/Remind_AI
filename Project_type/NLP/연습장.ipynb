{
 "cells": [
  {
   "cell_type": "code",
   "execution_count": 94,
   "id": "d633c11d-1796-4874-abbd-8087941c11fd",
   "metadata": {},
   "outputs": [],
   "source": [
    "import warnings\n",
    "warnings.filterwarnings('ignore')"
   ]
  },
  {
   "cell_type": "code",
   "execution_count": 4,
   "id": "1f828f8e-40dc-47b7-bf4e-d85a67b86848",
   "metadata": {},
   "outputs": [],
   "source": [
    "import pandas as pd\n",
    "x = pd.read_csv(r\"C:\\Users\\baeky\\Downloads\\asian_celebs_over50.csv\",index_col = 0 )"
   ]
  },
  {
   "cell_type": "code",
   "execution_count": 5,
   "id": "99ad1783-1143-4127-aace-cb8be6c73ece",
   "metadata": {},
   "outputs": [
    {
     "data": {
      "text/html": [
       "<div>\n",
       "<style scoped>\n",
       "    .dataframe tbody tr th:only-of-type {\n",
       "        vertical-align: middle;\n",
       "    }\n",
       "\n",
       "    .dataframe tbody tr th {\n",
       "        vertical-align: top;\n",
       "    }\n",
       "\n",
       "    .dataframe thead th {\n",
       "        text-align: right;\n",
       "    }\n",
       "</style>\n",
       "<table border=\"1\" class=\"dataframe\">\n",
       "  <thead>\n",
       "    <tr style=\"text-align: right;\">\n",
       "      <th></th>\n",
       "      <th>name</th>\n",
       "      <th>gender</th>\n",
       "      <th>ethnicity</th>\n",
       "      <th>spelling</th>\n",
       "    </tr>\n",
       "  </thead>\n",
       "  <tbody>\n",
       "    <tr>\n",
       "      <th>0</th>\n",
       "      <td>공리</td>\n",
       "      <td>f</td>\n",
       "      <td>c</td>\n",
       "      <td>巩俐</td>\n",
       "    </tr>\n",
       "    <tr>\n",
       "      <th>1</th>\n",
       "      <td>양자경</td>\n",
       "      <td>f</td>\n",
       "      <td>c</td>\n",
       "      <td>杨紫琼</td>\n",
       "    </tr>\n",
       "    <tr>\n",
       "      <th>2</th>\n",
       "      <td>장만옥</td>\n",
       "      <td>f</td>\n",
       "      <td>c</td>\n",
       "      <td>张曼玉</td>\n",
       "    </tr>\n",
       "    <tr>\n",
       "      <th>3</th>\n",
       "      <td>마윈</td>\n",
       "      <td>m</td>\n",
       "      <td>c</td>\n",
       "      <td>马云</td>\n",
       "    </tr>\n",
       "    <tr>\n",
       "      <th>4</th>\n",
       "      <td>성룡</td>\n",
       "      <td>m</td>\n",
       "      <td>c</td>\n",
       "      <td>成龙</td>\n",
       "    </tr>\n",
       "    <tr>\n",
       "      <th>...</th>\n",
       "      <td>...</td>\n",
       "      <td>...</td>\n",
       "      <td>...</td>\n",
       "      <td>...</td>\n",
       "    </tr>\n",
       "    <tr>\n",
       "      <th>592</th>\n",
       "      <td>이상벽</td>\n",
       "      <td>m</td>\n",
       "      <td>k</td>\n",
       "      <td>이상벽</td>\n",
       "    </tr>\n",
       "    <tr>\n",
       "      <th>593</th>\n",
       "      <td>배동성</td>\n",
       "      <td>m</td>\n",
       "      <td>k</td>\n",
       "      <td>배동성</td>\n",
       "    </tr>\n",
       "    <tr>\n",
       "      <th>594</th>\n",
       "      <td>김응수</td>\n",
       "      <td>m</td>\n",
       "      <td>k</td>\n",
       "      <td>김응수</td>\n",
       "    </tr>\n",
       "    <tr>\n",
       "      <th>595</th>\n",
       "      <td>최순실</td>\n",
       "      <td>f</td>\n",
       "      <td>k</td>\n",
       "      <td>최순실</td>\n",
       "    </tr>\n",
       "    <tr>\n",
       "      <th>596</th>\n",
       "      <td>정경심</td>\n",
       "      <td>f</td>\n",
       "      <td>k</td>\n",
       "      <td>정경심</td>\n",
       "    </tr>\n",
       "  </tbody>\n",
       "</table>\n",
       "<p>597 rows × 4 columns</p>\n",
       "</div>"
      ],
      "text/plain": [
       "    name gender ethnicity spelling\n",
       "0     공리      f         c       巩俐\n",
       "1    양자경      f         c      杨紫琼\n",
       "2    장만옥      f         c      张曼玉\n",
       "3     마윈      m         c       马云\n",
       "4     성룡      m         c       成龙\n",
       "..   ...    ...       ...      ...\n",
       "592  이상벽      m         k      이상벽\n",
       "593  배동성      m         k      배동성\n",
       "594  김응수      m         k      김응수\n",
       "595  최순실      f         k      최순실\n",
       "596  정경심      f         k      정경심\n",
       "\n",
       "[597 rows x 4 columns]"
      ]
     },
     "execution_count": 5,
     "metadata": {},
     "output_type": "execute_result"
    }
   ],
   "source": [
    "x"
   ]
  },
  {
   "cell_type": "code",
   "execution_count": 121,
   "id": "8548348d-397e-4303-a91a-711797c95520",
   "metadata": {},
   "outputs": [
    {
     "data": {
      "text/plain": [
       "'v=K2Ymbg6uNd0'"
      ]
     },
     "execution_count": 121,
     "metadata": {},
     "output_type": "execute_result"
    }
   ],
   "source": [
    "url_list[0].split('https://www.youtube.com/watch?')[1]"
   ]
  },
  {
   "cell_type": "code",
   "execution_count": 122,
   "id": "07b99e56-936c-439a-9e93-6c20e6cc9538",
   "metadata": {},
   "outputs": [
    {
     "ename": "IndexError",
     "evalue": "list index out of range",
     "output_type": "error",
     "traceback": [
      "\u001b[1;31m---------------------------------------------------------------------------\u001b[0m",
      "\u001b[1;31mIndexError\u001b[0m                                Traceback (most recent call last)",
      "\u001b[1;32m~\\AppData\\Local\\Temp\\ipykernel_29648\\796265476.py\u001b[0m in \u001b[0;36m<module>\u001b[1;34m\u001b[0m\n\u001b[1;32m----> 1\u001b[1;33m \u001b[0murls\u001b[0m \u001b[1;33m=\u001b[0m \u001b[1;33m[\u001b[0m\u001b[0mi\u001b[0m\u001b[1;33m.\u001b[0m\u001b[0msplit\u001b[0m\u001b[1;33m(\u001b[0m\u001b[1;34m'https://www.youtube.com/watch?'\u001b[0m\u001b[1;33m)\u001b[0m\u001b[1;33m[\u001b[0m\u001b[1;36m1\u001b[0m\u001b[1;33m]\u001b[0m \u001b[1;32mfor\u001b[0m \u001b[0mi\u001b[0m \u001b[1;32min\u001b[0m \u001b[0murl_list\u001b[0m\u001b[1;33m]\u001b[0m\u001b[1;33m\u001b[0m\u001b[1;33m\u001b[0m\u001b[0m\n\u001b[0m",
      "\u001b[1;32m~\\AppData\\Local\\Temp\\ipykernel_29648\\796265476.py\u001b[0m in \u001b[0;36m<listcomp>\u001b[1;34m(.0)\u001b[0m\n\u001b[1;32m----> 1\u001b[1;33m \u001b[0murls\u001b[0m \u001b[1;33m=\u001b[0m \u001b[1;33m[\u001b[0m\u001b[0mi\u001b[0m\u001b[1;33m.\u001b[0m\u001b[0msplit\u001b[0m\u001b[1;33m(\u001b[0m\u001b[1;34m'https://www.youtube.com/watch?'\u001b[0m\u001b[1;33m)\u001b[0m\u001b[1;33m[\u001b[0m\u001b[1;36m1\u001b[0m\u001b[1;33m]\u001b[0m \u001b[1;32mfor\u001b[0m \u001b[0mi\u001b[0m \u001b[1;32min\u001b[0m \u001b[0murl_list\u001b[0m\u001b[1;33m]\u001b[0m\u001b[1;33m\u001b[0m\u001b[1;33m\u001b[0m\u001b[0m\n\u001b[0m",
      "\u001b[1;31mIndexError\u001b[0m: list index out of range"
     ]
    }
   ],
   "source": [
    "urls = [i.split('https://www.youtube.com/watch?')[1] for i in url_list]"
   ]
  },
  {
   "cell_type": "code",
   "execution_count": 126,
   "id": "5f892f3b-799c-49f7-b315-86d71c29b959",
   "metadata": {},
   "outputs": [
    {
     "ename": "IndexError",
     "evalue": "list index out of range",
     "output_type": "error",
     "traceback": [
      "\u001b[1;31m---------------------------------------------------------------------------\u001b[0m",
      "\u001b[1;31mIndexError\u001b[0m                                Traceback (most recent call last)",
      "\u001b[1;32m~\\AppData\\Local\\Temp\\ipykernel_29648\\3297476368.py\u001b[0m in \u001b[0;36m<module>\u001b[1;34m\u001b[0m\n\u001b[0;32m      1\u001b[0m \u001b[1;32mfor\u001b[0m \u001b[0mi\u001b[0m \u001b[1;32min\u001b[0m \u001b[0murl_list\u001b[0m\u001b[1;33m:\u001b[0m\u001b[1;33m\u001b[0m\u001b[1;33m\u001b[0m\u001b[0m\n\u001b[1;32m----> 2\u001b[1;33m     \u001b[0mi\u001b[0m\u001b[1;33m.\u001b[0m\u001b[0msplit\u001b[0m\u001b[1;33m(\u001b[0m\u001b[1;34m'https://www.youtube.com/watch?'\u001b[0m\u001b[1;33m)\u001b[0m\u001b[1;33m[\u001b[0m\u001b[1;36m1\u001b[0m\u001b[1;33m]\u001b[0m \u001b[1;32mor\u001b[0m \u001b[0mi\u001b[0m\u001b[1;33m.\u001b[0m\u001b[0msplit\u001b[0m\u001b[1;33m(\u001b[0m\u001b[1;34m'https://www.youtube.com/short?'\u001b[0m\u001b[1;33m)\u001b[0m\u001b[1;33m\u001b[0m\u001b[1;33m\u001b[0m\u001b[0m\n\u001b[0m",
      "\u001b[1;31mIndexError\u001b[0m: list index out of range"
     ]
    }
   ],
   "source": [
    "\\"
   ]
  },
  {
   "cell_type": "code",
   "execution_count": 118,
   "id": "e892b2f7-4764-452a-928b-e526a2c61563",
   "metadata": {},
   "outputs": [
    {
     "data": {
      "text/plain": [
       "['https://www.youtube.com/watch?v=K2Ymbg6uNd0',\n",
       " 'https://www.youtube.com/shorts/YjPb9kkIxC0',\n",
       " 'https://www.youtube.com/watch?v=cJNTsUfDFUc',\n",
       " 'https://www.youtube.com/watch?v=cdsbqOnqodc',\n",
       " 'https://www.youtube.com/watch?v=BxpquFtF2go',\n",
       " 'https://www.youtube.com/watch?v=R-yEcayQhW8',\n",
       " 'https://www.youtube.com/watch?v=ua_u0_dwbCM',\n",
       " 'https://www.youtube.com/watch?v=4sexb2Vy3ZY',\n",
       " 'https://www.youtube.com/watch?v=PgAKmsAwn_U',\n",
       " 'https://www.youtube.com/watch?v=IGOdiVb7GKw',\n",
       " 'https://www.youtube.com/watch?v=Rc8qdB7sE_A',\n",
       " 'https://www.youtube.com/watch?v=ERwkRlZDgT0',\n",
       " 'https://www.youtube.com/watch?v=RPjDk-shuwA',\n",
       " 'https://www.youtube.com/watch?v=fLws4rBYLmg',\n",
       " 'https://www.youtube.com/watch?v=gqrS-FDjRn8',\n",
       " 'https://www.youtube.com/watch?v=l-x7ph4g7Q0',\n",
       " 'https://www.youtube.com/watch?v=vg4DXlr1QHk',\n",
       " 'https://www.youtube.com/watch?v=RdCknHITq34',\n",
       " 'https://www.youtube.com/shorts/zRoc2L44nlo',\n",
       " 'https://www.youtube.com/watch?v=i3STaTcLNe8',\n",
       " 'https://www.youtube.com/watch?v=2kfSd-e2DUQ',\n",
       " 'https://www.youtube.com/watch?v=YdZBzeXnEoA',\n",
       " 'https://www.youtube.com/watch?v=gRf-4vBweVg',\n",
       " 'https://www.youtube.com/watch?v=_s8vuX0gNfg',\n",
       " 'https://www.youtube.com/watch?v=lTLKveN9X9U',\n",
       " 'https://www.youtube.com/watch?v=fb8g5vCspCA',\n",
       " 'https://www.youtube.com/watch?v=LS8yz-IxCuk',\n",
       " 'https://www.youtube.com/watch?v=Bkpk9L_t7SM',\n",
       " 'https://www.youtube.com/watch?v=vCtvsK9dL5Q',\n",
       " 'https://www.youtube.com/watch?v=yJ7ivtWfK1E',\n",
       " 'https://www.youtube.com/watch?v=RgPoouMN6CA',\n",
       " 'https://www.youtube.com/watch?v=NtpiHxkTbI8',\n",
       " 'https://www.youtube.com/watch?v=KTrp7LKEOoE',\n",
       " 'https://www.youtube.com/watch?v=tSftudKbufA',\n",
       " 'https://www.youtube.com/watch?v=y-4XssZpfEQ',\n",
       " 'https://www.youtube.com/watch?v=R8YltnVXuak',\n",
       " 'https://www.youtube.com/shorts/mMGh76EmQZQ',\n",
       " 'https://www.youtube.com/watch?v=iTkf_CbQqis',\n",
       " 'https://www.youtube.com/watch?v=9FZo7kVcCng',\n",
       " 'https://www.youtube.com/watch?v=i0I1YhQQ1CY',\n",
       " 'https://www.youtube.com/watch?v=BbhImyJ7CRs',\n",
       " 'https://www.youtube.com/watch?v=YgC7YdHwZNA',\n",
       " 'https://www.youtube.com/watch?v=-gkNUIvp_Wc',\n",
       " 'https://www.youtube.com/watch?v=yYkOIKREJXE',\n",
       " 'https://www.youtube.com/shorts/XPqyAh_hGbc',\n",
       " 'https://www.youtube.com/watch?v=95Q9UDkPqqA',\n",
       " 'https://www.youtube.com/watch?v=DmESc1Nqzp0',\n",
       " 'https://www.youtube.com/watch?v=POnc6MxpXlI',\n",
       " 'https://www.youtube.com/watch?v=mD-uKxLSlKw',\n",
       " 'https://www.youtube.com/watch?v=lzeBBPB5TMw',\n",
       " 'https://www.youtube.com/watch?v=xeZqZv26Kcg',\n",
       " 'https://www.youtube.com/watch?v=qgZRcbA04_Y',\n",
       " 'https://www.youtube.com/watch?v=-fgXdq8Vflw',\n",
       " 'https://www.youtube.com/watch?v=sa0l6UbevrY',\n",
       " 'https://www.youtube.com/watch?v=KeUv00_HjFI',\n",
       " 'https://www.youtube.com/watch?v=Av24AyT8taU',\n",
       " 'https://www.youtube.com/watch?v=sNlATufOZ70',\n",
       " 'https://www.youtube.com/watch?v=ZZuySIg6_cQ',\n",
       " 'https://www.youtube.com/watch?v=IYtbLVyb5eQ',\n",
       " 'https://www.youtube.com/watch?v=0fY-k4uBK2U',\n",
       " 'https://www.youtube.com/watch?v=XAeJOLQnNjA',\n",
       " 'https://www.youtube.com/watch?v=yiWmzCwOUOY',\n",
       " 'https://www.youtube.com/watch?v=2Gkk98E80_Q',\n",
       " 'https://www.youtube.com/watch?v=lsVFIZKzMLE',\n",
       " 'https://www.youtube.com/watch?v=Y4oePLwWeFU',\n",
       " 'https://www.youtube.com/watch?v=nvggp64LeJM',\n",
       " 'https://www.youtube.com/watch?v=sKhCAUBVA1c',\n",
       " 'https://www.youtube.com/watch?v=CYCeMiqmMRw',\n",
       " 'https://www.youtube.com/watch?v=ecmSdkapvFY',\n",
       " 'https://www.youtube.com/watch?v=XR6xudUhkTk',\n",
       " 'https://www.youtube.com/watch?v=400gTL8qHWc',\n",
       " 'https://www.youtube.com/watch?v=agGzIssYjUo',\n",
       " 'https://www.youtube.com/watch?v=CzNqhtYK7gA',\n",
       " 'https://www.youtube.com/watch?v=tTIbT0w-TeE',\n",
       " 'https://www.youtube.com/watch?v=lTTCjLaXG74',\n",
       " 'https://www.youtube.com/watch?v=arF2troCTtY',\n",
       " 'https://www.youtube.com/watch?v=8kZjsmNu2wQ',\n",
       " 'https://www.youtube.com/watch?v=A836paS5EdM',\n",
       " 'https://www.youtube.com/watch?v=k3BYb6Nmjs4',\n",
       " 'https://www.youtube.com/watch?v=kTJL6a4Q9j4',\n",
       " 'https://www.youtube.com/watch?v=LlJ7t8pSu7k',\n",
       " 'https://www.youtube.com/watch?v=gdjPOxcaaTQ',\n",
       " 'https://www.youtube.com/watch?v=haCNIxIeakg',\n",
       " 'https://www.youtube.com/watch?v=IPxhBeVi19U',\n",
       " 'https://www.youtube.com/watch?v=9OY6x6QONRQ',\n",
       " 'https://www.youtube.com/watch?v=6XxyrUrFtOg',\n",
       " 'https://www.youtube.com/watch?v=M_9HudDAUGg',\n",
       " 'https://www.youtube.com/watch?v=KboXOdsyxeg',\n",
       " 'https://www.youtube.com/watch?v=33-5UM0-uLw',\n",
       " 'https://www.youtube.com/watch?v=q1nIlaWN3ns',\n",
       " 'https://www.youtube.com/watch?v=RS7ZpnLvJNM',\n",
       " 'https://www.youtube.com/watch?v=fIC-y___Ifc',\n",
       " 'https://www.youtube.com/watch?v=BHIq2CgLmwY',\n",
       " 'https://www.youtube.com/watch?v=STlIYRW9Mwo',\n",
       " 'https://www.youtube.com/watch?v=aBIBw-EofDI',\n",
       " 'https://www.youtube.com/watch?v=ZZEUyv-s8Iw',\n",
       " 'https://www.youtube.com/watch?v=D4G0glv--88',\n",
       " 'https://www.youtube.com/watch?v=sl2ZXK91sZA',\n",
       " 'https://www.youtube.com/watch?v=a-1_PuRBkoE',\n",
       " 'https://www.youtube.com/watch?v=onVH_-skxAo',\n",
       " 'https://www.youtube.com/watch?v=Ve2ortqS_LI',\n",
       " 'https://www.youtube.com/watch?v=7ZZLSzEvBCg',\n",
       " 'https://www.youtube.com/watch?v=qahRZ3o3TiE',\n",
       " 'https://www.youtube.com/watch?v=LMfyEtDbA7w',\n",
       " 'https://www.youtube.com/watch?v=5RIZ4rNAro0',\n",
       " 'https://www.youtube.com/watch?v=m0EYXTFTY1M',\n",
       " 'https://www.youtube.com/watch?v=TuNvGjnRAxA',\n",
       " 'https://www.youtube.com/watch?v=5B_YV6OzYAo',\n",
       " 'https://www.youtube.com/watch?v=2JwBrNmw43U',\n",
       " 'https://www.youtube.com/watch?v=W-S3K2Rj8M0',\n",
       " 'https://www.youtube.com/watch?v=Mrwudy0yrJo',\n",
       " 'https://www.youtube.com/watch?v=3ObQ0CGBdMo',\n",
       " 'https://www.youtube.com/watch?v=A1bLS8gksXA',\n",
       " 'https://www.youtube.com/watch?v=ZRT8nJwRLYc',\n",
       " 'https://www.youtube.com/watch?v=y5a8oSUxQao',\n",
       " 'https://www.youtube.com/watch?v=Pr6luxSOl50',\n",
       " 'https://www.youtube.com/watch?v=RatrOiJx9fE',\n",
       " 'https://www.youtube.com/watch?v=tIrQAIFuJbo',\n",
       " 'https://www.youtube.com/watch?v=vZzH6dRCa6c',\n",
       " 'https://www.youtube.com/watch?v=HSjPJEhbC-4',\n",
       " 'https://www.youtube.com/watch?v=3s3vKznJKU8',\n",
       " 'https://www.youtube.com/watch?v=-AkkdOwVSb8',\n",
       " 'https://www.youtube.com/watch?v=jCx4xXkaoCo',\n",
       " 'https://www.youtube.com/watch?v=PwXePnAW2Eg',\n",
       " 'https://www.youtube.com/watch?v=nWAG7WYgLeM',\n",
       " 'https://www.youtube.com/watch?v=cv0MlRbXnzI',\n",
       " 'https://www.youtube.com/watch?v=Azqeh2oJATI',\n",
       " 'https://www.youtube.com/watch?v=3T2keiODc1A',\n",
       " 'https://www.youtube.com/watch?v=k92w349jxYA',\n",
       " 'https://www.youtube.com/watch?v=uCqQylAyW44',\n",
       " 'https://www.youtube.com/watch?v=n7JlwPVxQbU',\n",
       " 'https://www.youtube.com/watch?v=rce6ZvPxHVA',\n",
       " 'https://www.youtube.com/watch?v=JGl4A7eAavI',\n",
       " 'https://www.youtube.com/watch?v=g6Iuu63v1Dc',\n",
       " 'https://www.youtube.com/watch?v=tcJff3vDrWo',\n",
       " 'https://www.youtube.com/watch?v=SogR-9SA4Ds',\n",
       " 'https://www.youtube.com/watch?v=60-zC-jSJCk',\n",
       " 'https://www.youtube.com/watch?v=u9z-lKcnIyM',\n",
       " 'https://www.youtube.com/watch?v=j8-pmSPTdTM',\n",
       " 'https://www.youtube.com/watch?v=KdGSq98RBH4',\n",
       " 'https://www.youtube.com/watch?v=2D12gZmKzfw',\n",
       " 'https://www.youtube.com/watch?v=8U_XEqcp0Xk',\n",
       " 'https://www.youtube.com/watch?v=zsMV1RoPDPM',\n",
       " 'https://www.youtube.com/watch?v=F6hNslvGTps',\n",
       " 'https://www.youtube.com/watch?v=XfcptEnEGbo',\n",
       " 'https://www.youtube.com/watch?v=57A2aD-coMQ',\n",
       " 'https://www.youtube.com/watch?v=bafisBTRbS8',\n",
       " 'https://www.youtube.com/watch?v=ZHwREtzJ5XA',\n",
       " 'https://www.youtube.com/watch?v=b7u3YFDcQWU',\n",
       " 'https://www.youtube.com/watch?v=Dj5pX04Ujt8',\n",
       " 'https://www.youtube.com/watch?v=FB_xl08XFSk',\n",
       " 'https://www.youtube.com/watch?v=N4b1mW1ROtQ',\n",
       " 'https://www.youtube.com/watch?v=GgARKZEjW3A',\n",
       " 'https://www.youtube.com/watch?v=e0YaQpfMDcU',\n",
       " 'https://www.youtube.com/watch?v=oQbJ5H6Khb0',\n",
       " 'https://www.youtube.com/watch?v=AxLjW0K3H2Y',\n",
       " 'https://www.youtube.com/watch?v=Fe6ZeubG7lU',\n",
       " 'https://www.youtube.com/watch?v=c6GN2OH8IwY',\n",
       " 'https://www.youtube.com/watch?v=JC_qkNn6KYg',\n",
       " 'https://www.youtube.com/watch?v=UXFt3RHQAe4',\n",
       " 'https://www.youtube.com/watch?v=hdZGFfTEuM0',\n",
       " 'https://www.youtube.com/watch?v=G2mOf5cSj98',\n",
       " 'https://www.youtube.com/watch?v=LP0UF6Isd8A',\n",
       " 'https://www.youtube.com/watch?v=UWf4pXGDPuQ',\n",
       " 'https://www.youtube.com/watch?v=245DFsB1-Bg',\n",
       " 'https://www.youtube.com/watch?v=2yABqz6zy8c',\n",
       " 'https://www.youtube.com/watch?v=bEIjSt8FUeY',\n",
       " 'https://www.youtube.com/watch?v=lCGnPfB4cKk',\n",
       " 'https://www.youtube.com/watch?v=dEeScoRPEO0',\n",
       " 'https://www.youtube.com/watch?v=ogSIdfvpy70',\n",
       " 'https://www.youtube.com/watch?v=MEiA_lAR0e0',\n",
       " 'https://www.youtube.com/watch?v=m2iVthX0h_A',\n",
       " 'https://www.youtube.com/watch?v=aIKmAfCV63A',\n",
       " 'https://www.youtube.com/watch?v=YZ7oNtEEhMw',\n",
       " 'https://www.youtube.com/watch?v=xBA_FPtAdWU',\n",
       " 'https://www.youtube.com/watch?v=T-G4fd-ytuA',\n",
       " 'https://www.youtube.com/watch?v=gaFqszg4eq8',\n",
       " 'https://www.youtube.com/watch?v=98TNpmvZQ2Q',\n",
       " 'https://www.youtube.com/watch?v=jRS5NC0jf3c',\n",
       " 'https://www.youtube.com/watch?v=snSrk4-bSkU',\n",
       " 'https://www.youtube.com/watch?v=fHHxndRGHis',\n",
       " 'https://www.youtube.com/watch?v=X4nXe_VNGm8',\n",
       " 'https://www.youtube.com/watch?v=uPKKWYlHy9k',\n",
       " 'https://www.youtube.com/watch?v=L9wUmDv3UK0',\n",
       " 'https://www.youtube.com/watch?v=W0aLHmYTBAA',\n",
       " 'https://www.youtube.com/watch?v=_JzIZD7ZwXs',\n",
       " 'https://www.youtube.com/watch?v=vj-FrtNzxLc',\n",
       " 'https://www.youtube.com/watch?v=k6MQCu3I_gE',\n",
       " 'https://www.youtube.com/watch?v=sv1f5Uqaq-8',\n",
       " 'https://www.youtube.com/watch?v=zyouO6UUPic',\n",
       " 'https://www.youtube.com/watch?v=leN9Fb-4mUg&pp=ugMICgJrbxABGAE%3D',\n",
       " 'https://www.youtube.com/watch?v=kQs0M-ESx7A',\n",
       " 'https://www.youtube.com/watch?v=6QI_PH0yhhI',\n",
       " 'https://www.youtube.com/watch?v=FWg2SGzo5s8',\n",
       " 'https://www.youtube.com/watch?v=H-CvpI-kWZE',\n",
       " 'https://www.youtube.com/watch?v=GsMLgVBYxvQ',\n",
       " 'https://www.youtube.com/watch?v=Q0BuxA4VSDI']"
      ]
     },
     "execution_count": 118,
     "metadata": {},
     "output_type": "execute_result"
    }
   ],
   "source": [
    "url_list"
   ]
  },
  {
   "cell_type": "code",
   "execution_count": null,
   "id": "f649f50c-9af4-4697-923f-9024f955732a",
   "metadata": {},
   "outputs": [],
   "source": []
  },
  {
   "cell_type": "code",
   "execution_count": 80,
   "id": "f6b01571-6826-4e12-bd95-9dd9f7e851e5",
   "metadata": {},
   "outputs": [],
   "source": [
    "import pandas as pd\n",
    "from bs4 import BeautifulSoup\n",
    "from selenium import webdriver\n",
    "# from webdriver_manager.chrome import ChromeDriverManager\n",
    "from tqdm import tqdm\n",
    "import time\n",
    "import re"
   ]
  },
  {
   "cell_type": "code",
   "execution_count": 81,
   "id": "cc08ed92-33a9-4f46-a2f4-16935c2c87b6",
   "metadata": {},
   "outputs": [],
   "source": [
    "driver_path = r'C:\\Dev\\NLP\\Crawling\\Scrapy\\scrapy\\comment\\real\\spiders\\99\\chromedriver.exe'"
   ]
  },
  {
   "cell_type": "code",
   "execution_count": 82,
   "id": "aebfe9ca-a005-42cb-a85d-50a81192162a",
   "metadata": {},
   "outputs": [],
   "source": [
    "driver = webdriver.Chrome(executable_path = driver_path)"
   ]
  },
  {
   "cell_type": "code",
   "execution_count": 83,
   "id": "0049f532-dda1-4f76-b9b7-6f688af6290b",
   "metadata": {},
   "outputs": [],
   "source": [
    "driver.get('https://www.youtube.com/watch?v=K3_RYEuP0K0')"
   ]
  },
  {
   "cell_type": "code",
   "execution_count": 70,
   "id": "9bda3c7b-b8e6-4729-a9c4-b6a328b214fa",
   "metadata": {},
   "outputs": [],
   "source": [
    "data_list = []"
   ]
  },
  {
   "cell_type": "code",
   "execution_count": 84,
   "id": "c258cd9c-0a13-4da1-b071-83241e9bb6db",
   "metadata": {},
   "outputs": [],
   "source": [
    "body = driver.find_element_by_tag_name('body')"
   ]
  },
  {
   "cell_type": "code",
   "execution_count": 85,
   "id": "ab46a870-4786-46cd-9e94-bd8fd8e32080",
   "metadata": {},
   "outputs": [
    {
     "data": {
      "text/plain": [
       "<selenium.webdriver.remote.webelement.WebElement (session=\"e0b6cbe121f941086416afa62a0876b7\", element=\"57a30a43-2e6e-4637-b8cc-0815cb75a1c8\")>"
      ]
     },
     "execution_count": 85,
     "metadata": {},
     "output_type": "execute_result"
    }
   ],
   "source": [
    "body"
   ]
  },
  {
   "cell_type": "code",
   "execution_count": 86,
   "id": "540dd0a6-5572-430e-8534-1bf01d473d9d",
   "metadata": {},
   "outputs": [],
   "source": [
    "last_page_height = driver.execute_script(\"return document.documentElement.scrollHeight\")\n"
   ]
  },
  {
   "cell_type": "code",
   "execution_count": 87,
   "id": "3c20f09e-0c2d-4fe1-9f77-075f954e0b20",
   "metadata": {},
   "outputs": [
    {
     "data": {
      "text/plain": [
       "3021"
      ]
     },
     "execution_count": 87,
     "metadata": {},
     "output_type": "execute_result"
    }
   ],
   "source": [
    "last_page_height"
   ]
  },
  {
   "cell_type": "code",
   "execution_count": 88,
   "id": "7b536dc0-4a7e-4381-a962-b3f0b9e4b88b",
   "metadata": {},
   "outputs": [],
   "source": [
    "new_page_height = driver.execute_script(\"return document.documentElement.scrollHeight\")"
   ]
  },
  {
   "cell_type": "code",
   "execution_count": 89,
   "id": "514e1d79-5e90-49fa-a985-be9ede7dbba6",
   "metadata": {},
   "outputs": [
    {
     "data": {
      "text/plain": [
       "3021"
      ]
     },
     "execution_count": 89,
     "metadata": {},
     "output_type": "execute_result"
    }
   ],
   "source": [
    "new_page_height"
   ]
  },
  {
   "cell_type": "code",
   "execution_count": 90,
   "id": "a1952e37-0fab-409e-9738-cc93d1414b35",
   "metadata": {},
   "outputs": [],
   "source": [
    "import time"
   ]
  },
  {
   "cell_type": "code",
   "execution_count": 91,
   "id": "2dd1e5e4-e24f-452b-950f-1791f80a1208",
   "metadata": {},
   "outputs": [],
   "source": [
    "while True:\n",
    "    driver.execute_script('window.scrollTo(0, document.documentElement.scrollHeight);')\n",
    "    time.sleep(2)\n",
    "    new_page_height = driver.execute_script(\"return document.documentElement.scrollHeight\")\n",
    "    if new_page_height == last_page_height:\n",
    "        break\n",
    "    last_page_height = new_page_height"
   ]
  },
  {
   "cell_type": "code",
   "execution_count": 92,
   "id": "88e8e2d4-0a0e-41ae-a1aa-72a1744b0f49",
   "metadata": {},
   "outputs": [],
   "source": [
    "html0 = driver.page_source\n",
    "html = BeautifulSoup(html0,'html.parser')\n",
    "data_list = html.findAll('div',{'class':'style-scope ytd-expander'})"
   ]
  },
  {
   "cell_type": "code",
   "execution_count": 98,
   "id": "8fa79e80-2d34-493b-ac5e-f4baaab43b97",
   "metadata": {},
   "outputs": [],
   "source": [
    "from urllib import parse"
   ]
  },
  {
   "cell_type": "code",
   "execution_count": 104,
   "id": "4aa8ffb7-e61e-4e66-aefd-e24dc4614f7c",
   "metadata": {},
   "outputs": [],
   "source": [
    "keywords = [parse.quote(\"금연정책\")]"
   ]
  },
  {
   "cell_type": "code",
   "execution_count": 105,
   "id": "87df3702-7da7-420b-b48b-a461c609bbbe",
   "metadata": {},
   "outputs": [
    {
     "name": "stdout",
     "output_type": "stream",
     "text": [
      "%EA%B8%88%EC%97%B0%EC%A0%95%EC%B1%85\n"
     ]
    }
   ],
   "source": [
    "for i in keywords:\n",
    "    print(i)"
   ]
  },
  {
   "cell_type": "code",
   "execution_count": 106,
   "id": "12dd81b9-20fe-40b2-9937-25907eaed2da",
   "metadata": {},
   "outputs": [
    {
     "data": {
      "text/plain": [
       "['%EA%B8%88%EC%97%B0%EC%A0%95%EC%B1%85']"
      ]
     },
     "execution_count": 106,
     "metadata": {},
     "output_type": "execute_result"
    }
   ],
   "source": [
    "keywords"
   ]
  },
  {
   "cell_type": "code",
   "execution_count": 109,
   "id": "3c3b91a6-de98-47bc-a011-c0ae90939584",
   "metadata": {},
   "outputs": [],
   "source": [
    "keywords = [parse.quote(\"금연정책\"),parse.quote('열')]"
   ]
  },
  {
   "cell_type": "code",
   "execution_count": 110,
   "id": "dd852adf-6de1-4244-b834-39a8de472213",
   "metadata": {},
   "outputs": [
    {
     "name": "stdout",
     "output_type": "stream",
     "text": [
      "%EA%B8%88%EC%97%B0%EC%A0%95%EC%B1%85\n",
      "%EC%97%B4\n"
     ]
    }
   ],
   "source": [
    "for i in keywords:\n",
    "    print(i)"
   ]
  },
  {
   "cell_type": "code",
   "execution_count": 4,
   "id": "0e1a9af4-2b9d-4e96-8d4a-376e63f36b26",
   "metadata": {},
   "outputs": [],
   "source": [
    "from urllib import parse"
   ]
  },
  {
   "cell_type": "code",
   "execution_count": 5,
   "id": "f2fe9a56",
   "metadata": {},
   "outputs": [],
   "source": [
    "keywords = [parse.quote(\"금연정책\")]"
   ]
  },
  {
   "cell_type": "code",
   "execution_count": 7,
   "id": "664e7b99",
   "metadata": {},
   "outputs": [],
   "source": [
    "for keyword in keywords:\n",
    "    url='https://www.youtube.com/results?search_query={}&sp=CAISAhAB'.format(keyword)"
   ]
  },
  {
   "cell_type": "code",
   "execution_count": 8,
   "id": "40ad3cb2",
   "metadata": {},
   "outputs": [
    {
     "data": {
      "text/plain": [
       "'https://www.youtube.com/results?search_query=%EA%B8%88%EC%97%B0%EC%A0%95%EC%B1%85&sp=CAISAhAB'"
      ]
     },
     "execution_count": 8,
     "metadata": {},
     "output_type": "execute_result"
    }
   ],
   "source": [
    "url"
   ]
  },
  {
   "cell_type": "code",
   "execution_count": 6,
   "id": "f0838410",
   "metadata": {},
   "outputs": [
    {
     "ename": "NameError",
     "evalue": "name 'keyword' is not defined",
     "output_type": "error",
     "traceback": [
      "\u001b[1;31m---------------------------------------------------------------------------\u001b[0m",
      "\u001b[1;31mNameError\u001b[0m                                 Traceback (most recent call last)",
      "\u001b[1;32m~\\AppData\\Local\\Temp\\ipykernel_19908\\1069597397.py\u001b[0m in \u001b[0;36m<module>\u001b[1;34m\u001b[0m\n\u001b[1;32m----> 1\u001b[1;33m \u001b[0murl\u001b[0m\u001b[1;33m=\u001b[0m\u001b[1;34m'https://www.youtube.com/results?search_query={}&sp=CAISAhAB'\u001b[0m\u001b[1;33m.\u001b[0m\u001b[0mformat\u001b[0m\u001b[1;33m(\u001b[0m\u001b[0mkeyword\u001b[0m\u001b[1;33m)\u001b[0m\u001b[1;33m\u001b[0m\u001b[1;33m\u001b[0m\u001b[0m\n\u001b[0m",
      "\u001b[1;31mNameError\u001b[0m: name 'keyword' is not defined"
     ]
    }
   ],
   "source": [
    "url='https://www.youtube.com/results?search_query={}&sp=CAISAhAB'.format(keyword)"
   ]
  },
  {
   "cell_type": "code",
   "execution_count": null,
   "id": "6b7314ae",
   "metadata": {},
   "outputs": [],
   "source": []
  },
  {
   "cell_type": "code",
   "execution_count": 2,
   "id": "c6a5e8f2-1419-49a3-b551-3873a415d760",
   "metadata": {},
   "outputs": [],
   "source": [
    "import pandas as pd\n",
    "A = pd.read_csv(r'C:\\Dev\\NLP\\Crawling\\resel\\auto_selenium\\auto_selenium\\data\\youtube_comment.csv')"
   ]
  },
  {
   "cell_type": "code",
   "execution_count": 3,
   "id": "61a675df-fab7-4bc1-a5bd-dee9192e9b77",
   "metadata": {},
   "outputs": [
    {
     "data": {
      "text/html": [
       "<div>\n",
       "<style scoped>\n",
       "    .dataframe tbody tr th:only-of-type {\n",
       "        vertical-align: middle;\n",
       "    }\n",
       "\n",
       "    .dataframe tbody tr th {\n",
       "        vertical-align: top;\n",
       "    }\n",
       "\n",
       "    .dataframe thead th {\n",
       "        text-align: right;\n",
       "    }\n",
       "</style>\n",
       "<table border=\"1\" class=\"dataframe\">\n",
       "  <thead>\n",
       "    <tr style=\"text-align: right;\">\n",
       "      <th></th>\n",
       "      <th>comment</th>\n",
       "    </tr>\n",
       "  </thead>\n",
       "  <tbody>\n",
       "    <tr>\n",
       "      <th>0</th>\n",
       "      <td>I feel like I wanna quit studying and jump int...</td>\n",
       "    </tr>\n",
       "    <tr>\n",
       "      <th>1</th>\n",
       "      <td>perfect music while playing games :)</td>\n",
       "    </tr>\n",
       "    <tr>\n",
       "      <th>2</th>\n",
       "      <td>Thank you for this. Every time I hear I get so...</td>\n",
       "    </tr>\n",
       "    <tr>\n",
       "      <th>3</th>\n",
       "      <td>This is one of the best chill music compilatio...</td>\n",
       "    </tr>\n",
       "    <tr>\n",
       "      <th>4</th>\n",
       "      <td>toda vez q começo a escutar essas música me da...</td>\n",
       "    </tr>\n",
       "    <tr>\n",
       "      <th>...</th>\n",
       "      <td>...</td>\n",
       "    </tr>\n",
       "    <tr>\n",
       "      <th>1386</th>\n",
       "      <td>1:46:50</td>\n",
       "    </tr>\n",
       "    <tr>\n",
       "      <th>1387</th>\n",
       "      <td>1:46:50</td>\n",
       "    </tr>\n",
       "    <tr>\n",
       "      <th>1388</th>\n",
       "      <td>1:46:50</td>\n",
       "    </tr>\n",
       "    <tr>\n",
       "      <th>1389</th>\n",
       "      <td>1:46:50</td>\n",
       "    </tr>\n",
       "    <tr>\n",
       "      <th>1390</th>\n",
       "      <td>1:46:50</td>\n",
       "    </tr>\n",
       "  </tbody>\n",
       "</table>\n",
       "<p>1391 rows × 1 columns</p>\n",
       "</div>"
      ],
      "text/plain": [
       "                                                comment\n",
       "0     I feel like I wanna quit studying and jump int...\n",
       "1                  perfect music while playing games :)\n",
       "2     Thank you for this. Every time I hear I get so...\n",
       "3     This is one of the best chill music compilatio...\n",
       "4     toda vez q começo a escutar essas música me da...\n",
       "...                                                 ...\n",
       "1386                                            1:46:50\n",
       "1387                                            1:46:50\n",
       "1388                                            1:46:50\n",
       "1389                                            1:46:50\n",
       "1390                                            1:46:50\n",
       "\n",
       "[1391 rows x 1 columns]"
      ]
     },
     "execution_count": 3,
     "metadata": {},
     "output_type": "execute_result"
    }
   ],
   "source": [
    "A"
   ]
  },
  {
   "cell_type": "code",
   "execution_count": null,
   "id": "062e4336-a3f1-4d1c-9484-2f49c452b322",
   "metadata": {},
   "outputs": [],
   "source": []
  },
  {
   "cell_type": "code",
   "execution_count": null,
   "id": "d1a9a54b-1d21-448b-928f-5ad4b08d5779",
   "metadata": {},
   "outputs": [],
   "source": []
  },
  {
   "cell_type": "code",
   "execution_count": 79,
   "id": "bd6ee9d1-b1b2-4241-9caf-30e323031ed9",
   "metadata": {},
   "outputs": [],
   "source": [
    "driver.quit()"
   ]
  },
  {
   "cell_type": "code",
   "execution_count": null,
   "id": "53f80257-eb2b-49f8-87ab-7388491f50e3",
   "metadata": {},
   "outputs": [],
   "source": []
  }
 ],
 "metadata": {
  "kernelspec": {
   "display_name": "Python 3 (ipykernel)",
   "language": "python",
   "name": "python3"
  },
  "language_info": {
   "codemirror_mode": {
    "name": "ipython",
    "version": 3
   },
   "file_extension": ".py",
   "mimetype": "text/x-python",
   "name": "python",
   "nbconvert_exporter": "python",
   "pygments_lexer": "ipython3",
   "version": "3.8.12"
  }
 },
 "nbformat": 4,
 "nbformat_minor": 5
}
